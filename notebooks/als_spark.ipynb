{
 "cells": [
  {
   "cell_type": "code",
   "execution_count": null,
   "metadata": {
    "collapsed": true
   },
   "outputs": [],
   "source": [
    "import pandas as pd\n",
    "from sklearn.model_selection import train_test_split\n",
    "from scipy.sparse import csr_matrix\n",
    "import numpy as np\n",
    "import matplotlib.pyplot as plt\n",
    "from sklearn.metrics import mean_squared_error\n",
    "\n",
    "from tqdm import tqdm\n",
    "from sklearn.metrics.pairwise import cosine_similarity\n",
    "\n",
    "\n",
    "# Load and preprocess data\n",
    "data = pd.read_csv('../data/data_train.csv', index_col=0)\n",
    "data.rename(columns={'Prediction': 'Rating'}, inplace=True)\n",
    "data['Rating'] = data['Rating'].astype('uint8')\n",
    "data['UserId'] = data.index.str.split('_').str[0].str[1:].astype('int32')\n",
    "data['MovieId'] = data.index.str.split('_').str[1].str[1:].astype('int32')\n",
    "data['UserId'] = data['UserId'] - data['UserId'].min()\n",
    "data['MovieId'] = data['MovieId'] - data['MovieId'].min()\n",
    "data['UserId'] = data['UserId'].astype('int32')\n",
    "data['MovieId'] = data['MovieId'].astype('int32')\n",
    "data = data[['UserId', 'MovieId', 'Rating']]\n",
    "train_data, val_data = train_test_split(data, test_size=0.2, random_state=42)\n",
    "\n",
    "train_mean = train_data.groupby(by=\"UserId\")['Rating'].mean()\n",
    "train_std = train_data.groupby(by=\"UserId\")['Rating'].std()\n",
    "train_data.Rating = (train_data.Rating - train_mean.values[train_data[\"UserId\"]])/train_std.values[train_data[\"UserId\"]]"
   ]
  }
 ],
 "metadata": {
  "kernelspec": {
   "display_name": "Python 3",
   "language": "python",
   "name": "python3"
  },
  "language_info": {
   "codemirror_mode": {
    "name": "ipython",
    "version": 2
   },
   "file_extension": ".py",
   "mimetype": "text/x-python",
   "name": "python",
   "nbconvert_exporter": "python",
   "pygments_lexer": "ipython2",
   "version": "2.7.6"
  }
 },
 "nbformat": 4,
 "nbformat_minor": 0
}
