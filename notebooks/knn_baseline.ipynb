{
 "cells": [
  {
   "cell_type": "code",
   "execution_count": 2,
   "metadata": {
    "ExecuteTime": {
     "end_time": "2023-05-20T13:03:50.906092Z",
     "start_time": "2023-05-20T13:03:50.903897Z"
    },
    "collapsed": true
   },
   "outputs": [],
   "source": [
    "import pandas as pd\n",
    "from sklearn.model_selection import train_test_split\n",
    "from scipy.sparse import csr_matrix\n",
    "import numpy as np\n",
    "import matplotlib.pyplot as plt\n",
    "from sklearn.metrics import mean_squared_error\n",
    "\n",
    "from tqdm import tqdm\n",
    "from sklearn.metrics.pairwise import cosine_similarity"
   ]
  },
  {
   "cell_type": "markdown",
   "metadata": {},
   "source": [
    "# Data Preprocessing"
   ]
  },
  {
   "cell_type": "code",
   "execution_count": 45,
   "metadata": {
    "ExecuteTime": {
     "end_time": "2023-05-20T13:03:56.518528Z",
     "start_time": "2023-05-20T13:03:53.826885Z"
    }
   },
   "outputs": [],
   "source": [
    "data = pd.read_csv('../data/data_train.csv', index_col=0)\n",
    "\n",
    "# rename column and turn ot uint8\n",
    "data.rename(columns={'Prediction': 'Rating'}, inplace=True)\n",
    "data['Rating'] = data['Rating'].astype('uint8')\n",
    "\n",
    "# get user and movie id by splitting index given in format rX_cY\n",
    "data['UserId'] = data.index.str.split('_').str[0].str[1:].astype('int32')\n",
    "data['MovieId'] = data.index.str.split('_').str[1].str[1:].astype('int32')\n",
    "\n",
    "# subtract min UserId and MovieID to get indices starting at 0\n",
    "data['UserId'] = data['UserId'] - data['UserId'].min()\n",
    "data['MovieId'] = data['MovieId'] - data['MovieId'].min()\n",
    "\n",
    "# make int again\n",
    "data['UserId'] = data['UserId'].astype('int32')\n",
    "data['MovieId'] = data['MovieId'].astype('int32')\n",
    "\n",
    "# reorder columns to UserId, MovieId, Rating\n",
    "data = data[['UserId', 'MovieId', 'Rating']]\n",
    "\n",
    "# split into train and val data\n",
    "train_data, val_data = train_test_split(data, test_size=0.2, random_state=42)"
   ]
  },
  {
   "cell_type": "code",
   "execution_count": 46,
   "metadata": {
    "ExecuteTime": {
     "end_time": "2023-05-20T13:04:02.471153Z",
     "start_time": "2023-05-20T13:04:02.457975Z"
    }
   },
   "outputs": [
    {
     "data": {
      "text/html": [
       "<div>\n",
       "<style scoped>\n",
       "    .dataframe tbody tr th:only-of-type {\n",
       "        vertical-align: middle;\n",
       "    }\n",
       "\n",
       "    .dataframe tbody tr th {\n",
       "        vertical-align: top;\n",
       "    }\n",
       "\n",
       "    .dataframe thead th {\n",
       "        text-align: right;\n",
       "    }\n",
       "</style>\n",
       "<table border=\"1\" class=\"dataframe\">\n",
       "  <thead>\n",
       "    <tr style=\"text-align: right;\">\n",
       "      <th></th>\n",
       "      <th>UserId</th>\n",
       "      <th>MovieId</th>\n",
       "      <th>Rating</th>\n",
       "    </tr>\n",
       "    <tr>\n",
       "      <th>Id</th>\n",
       "      <th></th>\n",
       "      <th></th>\n",
       "      <th></th>\n",
       "    </tr>\n",
       "  </thead>\n",
       "  <tbody>\n",
       "    <tr>\n",
       "      <th>r5874_c663</th>\n",
       "      <td>5873</td>\n",
       "      <td>662</td>\n",
       "      <td>5</td>\n",
       "    </tr>\n",
       "    <tr>\n",
       "      <th>r4711_c367</th>\n",
       "      <td>4710</td>\n",
       "      <td>366</td>\n",
       "      <td>4</td>\n",
       "    </tr>\n",
       "    <tr>\n",
       "      <th>r2539_c435</th>\n",
       "      <td>2538</td>\n",
       "      <td>434</td>\n",
       "      <td>1</td>\n",
       "    </tr>\n",
       "    <tr>\n",
       "      <th>r7737_c558</th>\n",
       "      <td>7736</td>\n",
       "      <td>557</td>\n",
       "      <td>2</td>\n",
       "    </tr>\n",
       "    <tr>\n",
       "      <th>r9631_c791</th>\n",
       "      <td>9630</td>\n",
       "      <td>790</td>\n",
       "      <td>5</td>\n",
       "    </tr>\n",
       "  </tbody>\n",
       "</table>\n",
       "</div>"
      ],
      "text/plain": [
       "            UserId  MovieId  Rating\n",
       "Id                                 \n",
       "r5874_c663    5873      662       5\n",
       "r4711_c367    4710      366       4\n",
       "r2539_c435    2538      434       1\n",
       "r7737_c558    7736      557       2\n",
       "r9631_c791    9630      790       5"
      ]
     },
     "execution_count": 46,
     "metadata": {},
     "output_type": "execute_result"
    }
   ],
   "source": [
    "train_data.head()"
   ]
  },
  {
   "cell_type": "code",
   "execution_count": 47,
   "metadata": {
    "ExecuteTime": {
     "end_time": "2023-05-20T13:04:04.963226Z",
     "start_time": "2023-05-20T13:04:04.897026Z"
    }
   },
   "outputs": [
    {
     "data": {
      "text/html": [
       "<div>\n",
       "<style scoped>\n",
       "    .dataframe tbody tr th:only-of-type {\n",
       "        vertical-align: middle;\n",
       "    }\n",
       "\n",
       "    .dataframe tbody tr th {\n",
       "        vertical-align: top;\n",
       "    }\n",
       "\n",
       "    .dataframe thead th {\n",
       "        text-align: right;\n",
       "    }\n",
       "</style>\n",
       "<table border=\"1\" class=\"dataframe\">\n",
       "  <thead>\n",
       "    <tr style=\"text-align: right;\">\n",
       "      <th></th>\n",
       "      <th>UserId</th>\n",
       "      <th>MovieId</th>\n",
       "      <th>Rating</th>\n",
       "    </tr>\n",
       "  </thead>\n",
       "  <tbody>\n",
       "    <tr>\n",
       "      <th>count</th>\n",
       "      <td>941561.000000</td>\n",
       "      <td>941561.000000</td>\n",
       "      <td>941561.000000</td>\n",
       "    </tr>\n",
       "    <tr>\n",
       "      <th>mean</th>\n",
       "      <td>5149.112369</td>\n",
       "      <td>482.580407</td>\n",
       "      <td>3.856588</td>\n",
       "    </tr>\n",
       "    <tr>\n",
       "      <th>std</th>\n",
       "      <td>2918.447452</td>\n",
       "      <td>274.174986</td>\n",
       "      <td>1.119108</td>\n",
       "    </tr>\n",
       "    <tr>\n",
       "      <th>min</th>\n",
       "      <td>0.000000</td>\n",
       "      <td>0.000000</td>\n",
       "      <td>1.000000</td>\n",
       "    </tr>\n",
       "    <tr>\n",
       "      <th>25%</th>\n",
       "      <td>2602.000000</td>\n",
       "      <td>246.000000</td>\n",
       "      <td>3.000000</td>\n",
       "    </tr>\n",
       "    <tr>\n",
       "      <th>50%</th>\n",
       "      <td>5247.000000</td>\n",
       "      <td>493.000000</td>\n",
       "      <td>4.000000</td>\n",
       "    </tr>\n",
       "    <tr>\n",
       "      <th>75%</th>\n",
       "      <td>7734.000000</td>\n",
       "      <td>690.000000</td>\n",
       "      <td>5.000000</td>\n",
       "    </tr>\n",
       "    <tr>\n",
       "      <th>max</th>\n",
       "      <td>9999.000000</td>\n",
       "      <td>999.000000</td>\n",
       "      <td>5.000000</td>\n",
       "    </tr>\n",
       "  </tbody>\n",
       "</table>\n",
       "</div>"
      ],
      "text/plain": [
       "              UserId        MovieId         Rating\n",
       "count  941561.000000  941561.000000  941561.000000\n",
       "mean     5149.112369     482.580407       3.856588\n",
       "std      2918.447452     274.174986       1.119108\n",
       "min         0.000000       0.000000       1.000000\n",
       "25%      2602.000000     246.000000       3.000000\n",
       "50%      5247.000000     493.000000       4.000000\n",
       "75%      7734.000000     690.000000       5.000000\n",
       "max      9999.000000     999.000000       5.000000"
      ]
     },
     "execution_count": 47,
     "metadata": {},
     "output_type": "execute_result"
    }
   ],
   "source": [
    "train_data.describe()"
   ]
  },
  {
   "cell_type": "code",
   "execution_count": 49,
   "metadata": {
    "ExecuteTime": {
     "end_time": "2023-05-20T13:20:24.866661Z",
     "start_time": "2023-05-20T13:20:24.840761Z"
    }
   },
   "outputs": [],
   "source": [
    "train_mean = train_data.groupby(by=\"UserId\")['Rating'].mean()\n",
    "train_std = train_data.groupby(by=\"UserId\")['Rating'].std()\n",
    "\n",
    "train_mean_repeat = np.repeat(train_mean.values, train_data.groupby(by=\"UserId\")['Rating'].count())\n",
    "train_std_repeat = np.repeat(train_std.values, train_data.groupby(by=\"UserId\")['Rating'].count())\n",
    "\n",
    "train_data.sort_values(by=\"UserId\")\n",
    "\n",
    "train_data.Rating = (train_data.Rating - train_mean_repeat)/train_std_repeat"
   ]
  },
  {
   "cell_type": "code",
   "execution_count": 53,
   "metadata": {
    "ExecuteTime": {
     "end_time": "2023-05-20T13:18:54.940900Z",
     "start_time": "2023-05-20T13:18:54.900197Z"
    }
   },
   "outputs": [],
   "source": [
    "# function to get sparse matrix from data given as a dataframe with row and column indices\n",
    "def get_sparse_matrix(data, n_rows, n_cols):\n",
    "    return csr_matrix((data['Rating'].values, (data['UserId'].values, data['MovieId'].values)), shape=(n_rows, n_cols))\n",
    "\n",
    "n_rows = train_data['UserId'].max() + 1 # might raise errors if in val set user with larger id\n",
    "n_cols = train_data['MovieId'].max() + 1 # might raise errors if in val set movie with larger id\n",
    "train_matrix = get_sparse_matrix(train_data, n_rows, n_cols)"
   ]
  },
  {
   "cell_type": "code",
   "execution_count": 54,
   "metadata": {
    "ExecuteTime": {
     "end_time": "2023-05-05T14:39:25.974620Z",
     "start_time": "2023-05-05T14:39:25.899476Z"
    }
   },
   "outputs": [
    {
     "data": {
      "image/png": "[encoded data removed]",
      "text/plain": [
       "<Figure size 640x480 with 1 Axes>"
      ]
     },
     "metadata": {},
     "output_type": "display_data"
    }
   ],
   "source": [
    "# plot sparse matrix\n",
    "plt.spy(train_matrix[:100,:100], markersize=0.1)\n",
    "plt.show()"
   ]
  },
  {
   "cell_type": "markdown",
   "metadata": {},
   "source": [
    "# KNN"
   ]
  },
  {
   "cell_type": "code",
   "execution_count": 55,
   "metadata": {
    "ExecuteTime": {
     "end_time": "2023-05-05T15:19:29.893504Z",
     "start_time": "2023-05-05T15:19:26.493077Z"
    }
   },
   "outputs": [],
   "source": [
    "similarities = cosine_similarity(train_matrix, train_matrix)"
   ]
  },
  {
   "cell_type": "code",
   "execution_count": 90,
   "metadata": {},
   "outputs": [],
   "source": [
    "def make_predictions(k, val_data, train_std, train_mean, max_elements=None):\n",
    "    if max_elements is None:\n",
    "        max_elements = val_data.shape[0]\n",
    "    \n",
    "    predictions = np.zeros(val_data.shape[0])\n",
    "    for i in tqdm(range(max_elements)):\n",
    "        user_id, movie_id = val_data.iloc[i][['UserId', 'MovieId']]\n",
    "\n",
    "        user_id = int(user_id)\n",
    "        movie_id = int(movie_id)\n",
    "\n",
    "        train_users = train_matrix[:, movie_id].nonzero()[0]\n",
    "        prediction = train_matrix[np.argsort(similarities[user_id, train_users])[-k:], movie_id].mean()\n",
    "        predictions[i] = prediction * train_std[user_id] + train_mean[user_id]\n",
    "    return np.rint(predictions)"
   ]
  },
  {
   "cell_type": "code",
   "execution_count": 96,
   "metadata": {
    "ExecuteTime": {
     "end_time": "2023-05-05T15:28:11.651081Z",
     "start_time": "2023-05-05T15:27:08.230724Z"
    }
   },
   "outputs": [
    {
     "name": "stderr",
     "output_type": "stream",
     "text": [
      "100%|██████████| 1000/1000 [00:01<00:00, 796.77it/s]\n",
      "100%|██████████| 1000/1000 [00:01<00:00, 833.04it/s]\n",
      "100%|██████████| 1000/1000 [00:01<00:00, 827.37it/s]\n",
      "100%|██████████| 1000/1000 [00:01<00:00, 827.80it/s]\n",
      "100%|██████████| 1000/1000 [00:01<00:00, 822.98it/s]\n",
      "100%|██████████| 1000/1000 [00:01<00:00, 834.60it/s]\n",
      "100%|██████████| 1000/1000 [00:01<00:00, 829.43it/s]\n",
      "100%|██████████| 1000/1000 [00:01<00:00, 830.72it/s]\n",
      "100%|██████████| 1000/1000 [00:01<00:00, 828.69it/s]\n",
      "100%|██████████| 1000/1000 [00:01<00:00, 817.40it/s]\n",
      "100%|██████████| 1000/1000 [00:01<00:00, 815.42it/s]\n",
      "100%|██████████| 1000/1000 [00:01<00:00, 805.28it/s]\n",
      "100%|██████████| 1000/1000 [00:01<00:00, 823.75it/s]\n",
      "100%|██████████| 1000/1000 [00:01<00:00, 820.70it/s]\n",
      "100%|██████████| 1000/1000 [00:01<00:00, 818.19it/s]\n",
      "100%|██████████| 1000/1000 [00:01<00:00, 811.71it/s]\n",
      "100%|██████████| 1000/1000 [00:01<00:00, 795.53it/s]\n",
      "100%|██████████| 1000/1000 [00:01<00:00, 792.82it/s]\n",
      "100%|██████████| 1000/1000 [00:01<00:00, 806.64it/s]\n",
      "100%|██████████| 1000/1000 [00:01<00:00, 823.70it/s]\n",
      "100%|██████████| 1000/1000 [00:01<00:00, 823.97it/s]\n",
      "100%|██████████| 1000/1000 [00:01<00:00, 816.89it/s]\n",
      "100%|██████████| 1000/1000 [00:01<00:00, 826.87it/s]\n",
      "100%|██████████| 1000/1000 [00:01<00:00, 825.07it/s]\n"
     ]
    }
   ],
   "source": [
    "max_elements = 1000\n",
    "\n",
    "k_array = np.arange(1, 25, 1)\n",
    "rmse_array = []\n",
    "\n",
    "for k in k_array:\n",
    "    predictions = make_predictions(k, val_data, train_std, train_mean, max_elements)\n",
    "    rmse = mean_squared_error(val_data['Rating'][:max_elements], predictions[:max_elements], squared=False)\n",
    "    rmse_array.append(rmse)"
   ]
  },
  {
   "cell_type": "code",
   "execution_count": 97,
   "metadata": {
    "ExecuteTime": {
     "end_time": "2023-05-05T15:28:20.284537Z",
     "start_time": "2023-05-05T15:28:20.239610Z"
    }
   },
   "outputs": [
    {
     "data": {
      "image/png": "[encoded data removed]",
      "text/plain": [
       "<Figure size 640x480 with 1 Axes>"
      ]
     },
     "metadata": {},
     "output_type": "display_data"
    },
    {
     "name": "stdout",
     "output_type": "stream",
     "text": [
      "Best k: 18\n",
      "Best RMSE: 1.0881176406988355\n"
     ]
    }
   ],
   "source": [
    "plt.plot(k_array, rmse_array)\n",
    "plt.show()\n",
    "\n",
    "print('Best k: {}'.format(k_array[np.argmin(rmse_array)]))\n",
    "print('Best RMSE: {}'.format(np.min(rmse_array)))"
   ]
  },
  {
   "cell_type": "code",
   "execution_count": 103,
   "metadata": {},
   "outputs": [
    {
     "name": "stderr",
     "output_type": "stream",
     "text": [
      "100%|██████████| 235391/235391 [04:44<00:00, 826.47it/s]\n"
     ]
    }
   ],
   "source": [
    "best_k = k_array[np.argmin(rmse_array)]\n",
    "predictions = make_predictions(best_k, val_data, train_std, train_mean)\n",
    "val_data['Prediction'] = predictions"
   ]
  },
  {
   "cell_type": "code",
   "execution_count": 104,
   "metadata": {
    "ExecuteTime": {
     "end_time": "2023-05-05T15:14:20.144941Z",
     "start_time": "2023-05-05T15:14:20.141374Z"
    }
   },
   "outputs": [
    {
     "data": {
      "text/html": [
       "<div>\n",
       "<style scoped>\n",
       "    .dataframe tbody tr th:only-of-type {\n",
       "        vertical-align: middle;\n",
       "    }\n",
       "\n",
       "    .dataframe tbody tr th {\n",
       "        vertical-align: top;\n",
       "    }\n",
       "\n",
       "    .dataframe thead th {\n",
       "        text-align: right;\n",
       "    }\n",
       "</style>\n",
       "<table border=\"1\" class=\"dataframe\">\n",
       "  <thead>\n",
       "    <tr style=\"text-align: right;\">\n",
       "      <th></th>\n",
       "      <th>UserId</th>\n",
       "      <th>MovieId</th>\n",
       "      <th>Rating</th>\n",
       "      <th>Prediction</th>\n",
       "    </tr>\n",
       "    <tr>\n",
       "      <th>Id</th>\n",
       "      <th></th>\n",
       "      <th></th>\n",
       "      <th></th>\n",
       "      <th></th>\n",
       "    </tr>\n",
       "  </thead>\n",
       "  <tbody>\n",
       "    <tr>\n",
       "      <th>r5062_c706</th>\n",
       "      <td>5061</td>\n",
       "      <td>705</td>\n",
       "      <td>2</td>\n",
       "      <td>4.0</td>\n",
       "    </tr>\n",
       "    <tr>\n",
       "      <th>r9044_c148</th>\n",
       "      <td>9043</td>\n",
       "      <td>147</td>\n",
       "      <td>4</td>\n",
       "      <td>3.0</td>\n",
       "    </tr>\n",
       "    <tr>\n",
       "      <th>r1736_c169</th>\n",
       "      <td>1735</td>\n",
       "      <td>168</td>\n",
       "      <td>4</td>\n",
       "      <td>4.0</td>\n",
       "    </tr>\n",
       "    <tr>\n",
       "      <th>r5270_c877</th>\n",
       "      <td>5269</td>\n",
       "      <td>876</td>\n",
       "      <td>1</td>\n",
       "      <td>4.0</td>\n",
       "    </tr>\n",
       "    <tr>\n",
       "      <th>r6100_c691</th>\n",
       "      <td>6099</td>\n",
       "      <td>690</td>\n",
       "      <td>4</td>\n",
       "      <td>4.0</td>\n",
       "    </tr>\n",
       "  </tbody>\n",
       "</table>\n",
       "</div>"
      ],
      "text/plain": [
       "            UserId  MovieId  Rating  Prediction\n",
       "Id                                             \n",
       "r5062_c706    5061      705       2         4.0\n",
       "r9044_c148    9043      147       4         3.0\n",
       "r1736_c169    1735      168       4         4.0\n",
       "r5270_c877    5269      876       1         4.0\n",
       "r6100_c691    6099      690       4         4.0"
      ]
     },
     "execution_count": 104,
     "metadata": {},
     "output_type": "execute_result"
    }
   ],
   "source": [
    "val_data.head()"
   ]
  },
  {
   "cell_type": "code",
   "execution_count": 105,
   "metadata": {
    "ExecuteTime": {
     "end_time": "2023-05-05T15:14:27.800423Z",
     "start_time": "2023-05-05T15:14:27.777064Z"
    }
   },
   "outputs": [
    {
     "name": "stdout",
     "output_type": "stream",
     "text": [
      "Dummy RMSE: 1.4112094086052875\n",
      "Mean RMSE: 1.1181009573558605\n",
      "KNN RMSE: 1.1079845546941463\n"
     ]
    }
   ],
   "source": [
    "# compute rmse using sklearn\n",
    "rmse_3 = mean_squared_error(val_data['Rating'], 3 * np.ones(val_data.shape[0]), squared=False)\n",
    "rmse_mean = mean_squared_error(val_data['Rating'], np.rint(train_mean[val_data.UserId]), squared=False)\n",
    "rmse_knn = mean_squared_error(val_data['Rating'], val_data['Prediction'], squared=False)\n",
    "print('Dummy RMSE: {}'.format(rmse_3))\n",
    "print('Mean RMSE: {}'.format(rmse_mean))\n",
    "print('KNN RMSE: {}'.format(rmse_knn))"
   ]
  }
 ],
 "metadata": {
  "kernelspec": {
   "display_name": "Python 3 (ipykernel)",
   "language": "python",
   "name": "python3"
  },
  "language_info": {
   "codemirror_mode": {
    "name": "ipython",
    "version": 3
   },
   "file_extension": ".py",
   "mimetype": "text/x-python",
   "name": "python",
   "nbconvert_exporter": "python",
   "pygments_lexer": "ipython3",
   "version": "3.11.0"
  }
 },
 "nbformat": 4,
 "nbformat_minor": 1
}
