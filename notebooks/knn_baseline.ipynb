{
 "cells": [
  {
   "cell_type": "code",
   "execution_count": 1,
   "metadata": {
    "ExecuteTime": {
     "end_time": "2023-07-16T14:53:40.685489Z",
     "start_time": "2023-07-16T14:53:40.570398Z"
    }
   },
   "outputs": [],
   "source": [
    "import pandas as pd\n",
    "from sklearn.model_selection import train_test_split\n",
    "from scipy.sparse import csr_matrix\n",
    "import numpy as np\n",
    "import matplotlib.pyplot as plt\n",
    "from sklearn.metrics import mean_squared_error\n",
    "\n",
    "from tqdm import tqdm\n",
    "from sklearn.metrics.pairwise import cosine_similarity"
   ]
  },
  {
   "cell_type": "markdown",
   "metadata": {},
   "source": [
    "# Data Preprocessing"
   ]
  },
  {
   "cell_type": "code",
   "execution_count": 2,
   "metadata": {
    "ExecuteTime": {
     "end_time": "2023-07-16T14:53:46.131125Z",
     "start_time": "2023-07-16T14:53:43.416338Z"
    }
   },
   "outputs": [],
   "source": [
    "data = pd.read_csv('../data/data_train.csv', index_col=0)\n",
    "\n",
    "# rename column and turn ot uint8\n",
    "data.rename(columns={'Prediction': 'Rating'}, inplace=True)\n",
    "data['Rating'] = data['Rating'].astype('uint8')\n",
    "\n",
    "# get user and movie id by splitting index given in format rX_cY\n",
    "data['UserId'] = data.index.str.split('_').str[0].str[1:].astype('int32')\n",
    "data['MovieId'] = data.index.str.split('_').str[1].str[1:].astype('int32')\n",
    "\n",
    "# subtract min UserId and MovieID to get indices starting at 0\n",
    "data['UserId'] = data['UserId'] - data['UserId'].min()\n",
    "data['MovieId'] = data['MovieId'] - data['MovieId'].min()\n",
    "\n",
    "# make int again\n",
    "data['UserId'] = data['UserId'].astype('int32')\n",
    "data['MovieId'] = data['MovieId'].astype('int32')\n",
    "\n",
    "# reorder columns to UserId, MovieId, Rating\n",
    "data = data[['UserId', 'MovieId', 'Rating']]\n",
    "\n",
    "# split into train and val data\n",
    "train_data, val_data = train_test_split(data, test_size=0.2, random_state=42)"
   ]
  },
  {
   "cell_type": "code",
   "execution_count": 29,
   "metadata": {
    "ExecuteTime": {
     "end_time": "2023-05-20T13:04:02.471153Z",
     "start_time": "2023-05-20T13:04:02.457975Z"
    }
   },
   "outputs": [
    {
     "data": {
      "text/html": [
       "<div>\n",
       "<style scoped>\n",
       "    .dataframe tbody tr th:only-of-type {\n",
       "        vertical-align: middle;\n",
       "    }\n",
       "\n",
       "    .dataframe tbody tr th {\n",
       "        vertical-align: top;\n",
       "    }\n",
       "\n",
       "    .dataframe thead th {\n",
       "        text-align: right;\n",
       "    }\n",
       "</style>\n",
       "<table border=\"1\" class=\"dataframe\">\n",
       "  <thead>\n",
       "    <tr style=\"text-align: right;\">\n",
       "      <th></th>\n",
       "      <th>UserId</th>\n",
       "      <th>MovieId</th>\n",
       "      <th>Rating</th>\n",
       "    </tr>\n",
       "    <tr>\n",
       "      <th>Id</th>\n",
       "      <th></th>\n",
       "      <th></th>\n",
       "      <th></th>\n",
       "    </tr>\n",
       "  </thead>\n",
       "  <tbody>\n",
       "    <tr>\n",
       "      <th>r5874_c663</th>\n",
       "      <td>5873</td>\n",
       "      <td>662</td>\n",
       "      <td>5</td>\n",
       "    </tr>\n",
       "    <tr>\n",
       "      <th>r4711_c367</th>\n",
       "      <td>4710</td>\n",
       "      <td>366</td>\n",
       "      <td>4</td>\n",
       "    </tr>\n",
       "    <tr>\n",
       "      <th>r2539_c435</th>\n",
       "      <td>2538</td>\n",
       "      <td>434</td>\n",
       "      <td>1</td>\n",
       "    </tr>\n",
       "    <tr>\n",
       "      <th>r7737_c558</th>\n",
       "      <td>7736</td>\n",
       "      <td>557</td>\n",
       "      <td>2</td>\n",
       "    </tr>\n",
       "    <tr>\n",
       "      <th>r9631_c791</th>\n",
       "      <td>9630</td>\n",
       "      <td>790</td>\n",
       "      <td>5</td>\n",
       "    </tr>\n",
       "  </tbody>\n",
       "</table>\n",
       "</div>"
      ],
      "text/plain": [
       "            UserId  MovieId  Rating\n",
       "Id                                 \n",
       "r5874_c663    5873      662       5\n",
       "r4711_c367    4710      366       4\n",
       "r2539_c435    2538      434       1\n",
       "r7737_c558    7736      557       2\n",
       "r9631_c791    9630      790       5"
      ]
     },
     "execution_count": 29,
     "metadata": {},
     "output_type": "execute_result"
    }
   ],
   "source": [
    "train_data.head()"
   ]
  },
  {
   "cell_type": "code",
   "execution_count": 30,
   "metadata": {
    "ExecuteTime": {
     "end_time": "2023-05-20T13:04:04.963226Z",
     "start_time": "2023-05-20T13:04:04.897026Z"
    }
   },
   "outputs": [
    {
     "data": {
      "text/html": [
       "<div>\n",
       "<style scoped>\n",
       "    .dataframe tbody tr th:only-of-type {\n",
       "        vertical-align: middle;\n",
       "    }\n",
       "\n",
       "    .dataframe tbody tr th {\n",
       "        vertical-align: top;\n",
       "    }\n",
       "\n",
       "    .dataframe thead th {\n",
       "        text-align: right;\n",
       "    }\n",
       "</style>\n",
       "<table border=\"1\" class=\"dataframe\">\n",
       "  <thead>\n",
       "    <tr style=\"text-align: right;\">\n",
       "      <th></th>\n",
       "      <th>UserId</th>\n",
       "      <th>MovieId</th>\n",
       "      <th>Rating</th>\n",
       "    </tr>\n",
       "  </thead>\n",
       "  <tbody>\n",
       "    <tr>\n",
       "      <th>count</th>\n",
       "      <td>941561.000000</td>\n",
       "      <td>941561.000000</td>\n",
       "      <td>941561.000000</td>\n",
       "    </tr>\n",
       "    <tr>\n",
       "      <th>mean</th>\n",
       "      <td>5149.112369</td>\n",
       "      <td>482.580407</td>\n",
       "      <td>3.856588</td>\n",
       "    </tr>\n",
       "    <tr>\n",
       "      <th>std</th>\n",
       "      <td>2918.447452</td>\n",
       "      <td>274.174986</td>\n",
       "      <td>1.119108</td>\n",
       "    </tr>\n",
       "    <tr>\n",
       "      <th>min</th>\n",
       "      <td>0.000000</td>\n",
       "      <td>0.000000</td>\n",
       "      <td>1.000000</td>\n",
       "    </tr>\n",
       "    <tr>\n",
       "      <th>25%</th>\n",
       "      <td>2602.000000</td>\n",
       "      <td>246.000000</td>\n",
       "      <td>3.000000</td>\n",
       "    </tr>\n",
       "    <tr>\n",
       "      <th>50%</th>\n",
       "      <td>5247.000000</td>\n",
       "      <td>493.000000</td>\n",
       "      <td>4.000000</td>\n",
       "    </tr>\n",
       "    <tr>\n",
       "      <th>75%</th>\n",
       "      <td>7734.000000</td>\n",
       "      <td>690.000000</td>\n",
       "      <td>5.000000</td>\n",
       "    </tr>\n",
       "    <tr>\n",
       "      <th>max</th>\n",
       "      <td>9999.000000</td>\n",
       "      <td>999.000000</td>\n",
       "      <td>5.000000</td>\n",
       "    </tr>\n",
       "  </tbody>\n",
       "</table>\n",
       "</div>"
      ],
      "text/plain": [
       "              UserId        MovieId         Rating\n",
       "count  941561.000000  941561.000000  941561.000000\n",
       "mean     5149.112369     482.580407       3.856588\n",
       "std      2918.447452     274.174986       1.119108\n",
       "min         0.000000       0.000000       1.000000\n",
       "25%      2602.000000     246.000000       3.000000\n",
       "50%      5247.000000     493.000000       4.000000\n",
       "75%      7734.000000     690.000000       5.000000\n",
       "max      9999.000000     999.000000       5.000000"
      ]
     },
     "execution_count": 30,
     "metadata": {},
     "output_type": "execute_result"
    }
   ],
   "source": [
    "train_data.describe()"
   ]
  },
  {
   "cell_type": "code",
   "execution_count": 3,
   "metadata": {
    "ExecuteTime": {
     "end_time": "2023-07-16T14:53:52.140927Z",
     "start_time": "2023-07-16T14:53:52.110043Z"
    }
   },
   "outputs": [],
   "source": [
    "normalize_by = \"MovieId\"\n",
    "\n",
    "train_mean = train_data.groupby(by=normalize_by)['Rating'].mean()\n",
    "train_std = train_data.groupby(by=normalize_by)['Rating'].std()\n",
    "train_data.Rating = (train_data.Rating - train_mean.values[train_data[normalize_by]])/train_std.values[train_data[normalize_by]]"
   ]
  },
  {
   "cell_type": "code",
   "execution_count": 4,
   "metadata": {
    "ExecuteTime": {
     "end_time": "2023-07-16T14:53:53.854019Z",
     "start_time": "2023-07-16T14:53:53.809732Z"
    }
   },
   "outputs": [],
   "source": [
    "# function to get sparse matrix from data given as a dataframe with row and column indices\n",
    "def get_sparse_matrix(data, n_rows, n_cols):\n",
    "    return csr_matrix((data['Rating'].values, (data['UserId'].values, data['MovieId'].values)), shape=(n_rows, n_cols))\n",
    "\n",
    "n_rows = train_data['UserId'].max() + 1 # might raise errors if in val set user with larger id\n",
    "n_cols = train_data['MovieId'].max() + 1 # might raise errors if in val set movie with larger id\n",
    "train_matrix = get_sparse_matrix(train_data, n_rows, n_cols)"
   ]
  },
  {
   "cell_type": "code",
   "execution_count": 5,
   "metadata": {
    "ExecuteTime": {
     "end_time": "2023-05-26T13:53:45.318410Z",
     "start_time": "2023-05-26T13:53:45.235996Z"
    }
   },
   "outputs": [
    {
     "data": {
      "image/png": "[encoded data removed]",
      "text/plain": [
       "<Figure size 640x480 with 1 Axes>"
      ]
     },
     "metadata": {},
     "output_type": "display_data"
    }
   ],
   "source": [
    "# plot sparse matrix\n",
    "plt.spy(train_matrix[:100,:100], markersize=0.1)\n",
    "plt.show()"
   ]
  },
  {
   "cell_type": "markdown",
   "metadata": {},
   "source": [
    "# KNN"
   ]
  },
  {
   "cell_type": "code",
   "execution_count": 5,
   "metadata": {
    "ExecuteTime": {
     "end_time": "2023-07-16T14:53:56.659228Z",
     "start_time": "2023-07-16T14:53:56.456973Z"
    }
   },
   "outputs": [],
   "source": [
    "similarities = cosine_similarity(train_matrix.T, train_matrix.T)"
   ]
  },
  {
   "cell_type": "code",
   "execution_count": 7,
   "metadata": {
    "ExecuteTime": {
     "end_time": "2023-07-16T14:54:05.012949Z",
     "start_time": "2023-07-16T14:54:05.007394Z"
    }
   },
   "outputs": [],
   "source": [
    "def make_predictions(k, val_data, train_std, train_mean, max_elements=None):\n",
    "    if max_elements is None:\n",
    "        max_elements = val_data.shape[0]\n",
    "    \n",
    "    predictions = np.zeros(val_data.shape[0])\n",
    "    similarity_scores = np.zeros(val_data.shape[0])\n",
    "    for i in tqdm(range(max_elements)):\n",
    "        user_id, movie_id = val_data.iloc[i][['UserId', 'MovieId']]\n",
    "\n",
    "        user_id = int(user_id)\n",
    "        movie_id = int(movie_id)\n",
    "\n",
    "        rated_movies = train_matrix[user_id].nonzero()[1]\n",
    "        nearest_movies = rated_movies[np.argsort(similarities[movie_id, rated_movies])[-k:]]\n",
    "        \n",
    "        similarity_scores[i] = np.sort(similarities[movie_id, rated_movies])[-k:].mean()\n",
    "\n",
    "        prediction = train_matrix[user_id, nearest_movies].mean()\n",
    "        predictions[i] = prediction * train_std[movie_id] + train_mean[movie_id]\n",
    "    return predictions, similarity_scores\n",
    "\n",
    "# predictions = make_predictions(5, val_data, train_std, train_mean, 2)"
   ]
  },
  {
   "cell_type": "code",
   "execution_count": 72,
   "metadata": {
    "ExecuteTime": {
     "end_time": "2023-07-16T13:12:50.444912Z",
     "start_time": "2023-07-16T13:12:47.093850Z"
    }
   },
   "outputs": [
    {
     "name": "stderr",
     "output_type": "stream",
     "text": [
      "100%|██████████| 1000/1000 [00:00<00:00, 2793.15it/s]\n",
      "100%|██████████| 1000/1000 [00:00<00:00, 2948.31it/s]\n",
      "100%|██████████| 1000/1000 [00:00<00:00, 3037.11it/s]\n",
      "100%|██████████| 1000/1000 [00:00<00:00, 2964.03it/s]\n",
      "100%|██████████| 1000/1000 [00:00<00:00, 3001.98it/s]\n",
      "100%|██████████| 1000/1000 [00:00<00:00, 3048.35it/s]\n",
      "100%|██████████| 1000/1000 [00:00<00:00, 3067.76it/s]\n",
      "100%|██████████| 1000/1000 [00:00<00:00, 3077.75it/s]\n",
      "100%|██████████| 1000/1000 [00:00<00:00, 3032.31it/s]\n",
      "100%|██████████| 1000/1000 [00:00<00:00, 3057.25it/s]\n"
     ]
    }
   ],
   "source": [
    "max_elements = 1000\n",
    "\n",
    "k_array = np.arange(1, 50, 5)\n",
    "rmse_array = []\n",
    "\n",
    "for k in k_array:\n",
    "    predictions, similarity_scores = make_predictions(k, val_data, train_std, train_mean, max_elements)\n",
    "    rmse = mean_squared_error(val_data['Rating'][:max_elements], predictions[:max_elements], squared=False)\n",
    "    rmse_array.append(rmse)"
   ]
  },
  {
   "cell_type": "code",
   "execution_count": 73,
   "metadata": {
    "ExecuteTime": {
     "end_time": "2023-07-16T13:12:51.335046Z",
     "start_time": "2023-07-16T13:12:51.274374Z"
    }
   },
   "outputs": [
    {
     "data": {
      "image/png": "[encoded data removed]",
      "text/plain": [
       "<Figure size 640x480 with 1 Axes>"
      ]
     },
     "metadata": {},
     "output_type": "display_data"
    },
    {
     "name": "stdout",
     "output_type": "stream",
     "text": [
      "Best k: 26\n",
      "Best RMSE: 0.9747686695907558\n"
     ]
    }
   ],
   "source": [
    "plt.plot(k_array, rmse_array)\n",
    "plt.show()\n",
    "\n",
    "print('Best k: {}'.format(k_array[np.argmin(rmse_array)]))\n",
    "print('Best RMSE: {}'.format(np.min(rmse_array)))"
   ]
  },
  {
   "cell_type": "code",
   "execution_count": 74,
   "metadata": {
    "ExecuteTime": {
     "end_time": "2023-07-16T12:54:52.313397Z",
     "start_time": "2023-07-16T12:53:36.266710Z"
    }
   },
   "outputs": [
    {
     "name": "stderr",
     "output_type": "stream",
     "text": [
      "100%|██████████| 235391/235391 [01:17<00:00, 3056.90it/s]\n"
     ]
    }
   ],
   "source": [
    "# best_k = k_array[np.argmin(rmse_array)]\n",
    "best_k = 26\n",
    "predictions, similarity_scores  = make_predictions(best_k, val_data, train_std, train_mean)\n",
    "val_data['Prediction'] = predictions\n",
    "val_data['Similarity'] = similarity_scores"
   ]
  },
  {
   "cell_type": "code",
   "execution_count": 78,
   "metadata": {},
   "outputs": [
    {
     "data": {
      "image/png": "[encoded data removed]",
      "text/plain": [
       "<Figure size 640x480 with 1 Axes>"
      ]
     },
     "metadata": {},
     "output_type": "display_data"
    }
   ],
   "source": [
    "mse = (val_data['Rating'] - val_data['Similarity'])**2\n",
    "plt.scatter(val_data['Similarity'], mse, alpha=0.1, s=1)\n",
    "plt.show()"
   ]
  },
  {
   "cell_type": "code",
   "execution_count": 76,
   "metadata": {
    "ExecuteTime": {
     "end_time": "2023-07-16T12:54:54.901104Z",
     "start_time": "2023-07-16T12:54:54.887329Z"
    }
   },
   "outputs": [
    {
     "data": {
      "text/html": [
       "<div>\n",
       "<style scoped>\n",
       "    .dataframe tbody tr th:only-of-type {\n",
       "        vertical-align: middle;\n",
       "    }\n",
       "\n",
       "    .dataframe tbody tr th {\n",
       "        vertical-align: top;\n",
       "    }\n",
       "\n",
       "    .dataframe thead th {\n",
       "        text-align: right;\n",
       "    }\n",
       "</style>\n",
       "<table border=\"1\" class=\"dataframe\">\n",
       "  <thead>\n",
       "    <tr style=\"text-align: right;\">\n",
       "      <th></th>\n",
       "      <th>UserId</th>\n",
       "      <th>MovieId</th>\n",
       "      <th>Rating</th>\n",
       "      <th>Prediction</th>\n",
       "      <th>Similarity</th>\n",
       "    </tr>\n",
       "    <tr>\n",
       "      <th>Id</th>\n",
       "      <th></th>\n",
       "      <th></th>\n",
       "      <th></th>\n",
       "      <th></th>\n",
       "      <th></th>\n",
       "    </tr>\n",
       "  </thead>\n",
       "  <tbody>\n",
       "    <tr>\n",
       "      <th>r5062_c706</th>\n",
       "      <td>5061</td>\n",
       "      <td>705</td>\n",
       "      <td>2</td>\n",
       "      <td>3.450599</td>\n",
       "      <td>0.026031</td>\n",
       "    </tr>\n",
       "    <tr>\n",
       "      <th>r9044_c148</th>\n",
       "      <td>9043</td>\n",
       "      <td>147</td>\n",
       "      <td>4</td>\n",
       "      <td>4.058141</td>\n",
       "      <td>0.037758</td>\n",
       "    </tr>\n",
       "    <tr>\n",
       "      <th>r1736_c169</th>\n",
       "      <td>1735</td>\n",
       "      <td>168</td>\n",
       "      <td>4</td>\n",
       "      <td>4.497718</td>\n",
       "      <td>0.032954</td>\n",
       "    </tr>\n",
       "    <tr>\n",
       "      <th>r5270_c877</th>\n",
       "      <td>5269</td>\n",
       "      <td>876</td>\n",
       "      <td>1</td>\n",
       "      <td>3.470415</td>\n",
       "      <td>0.031948</td>\n",
       "    </tr>\n",
       "    <tr>\n",
       "      <th>r6100_c691</th>\n",
       "      <td>6099</td>\n",
       "      <td>690</td>\n",
       "      <td>4</td>\n",
       "      <td>3.759279</td>\n",
       "      <td>0.026318</td>\n",
       "    </tr>\n",
       "  </tbody>\n",
       "</table>\n",
       "</div>"
      ],
      "text/plain": [
       "            UserId  MovieId  Rating  Prediction  Similarity\n",
       "Id                                                         \n",
       "r5062_c706    5061      705       2    3.450599    0.026031\n",
       "r9044_c148    9043      147       4    4.058141    0.037758\n",
       "r1736_c169    1735      168       4    4.497718    0.032954\n",
       "r5270_c877    5269      876       1    3.470415    0.031948\n",
       "r6100_c691    6099      690       4    3.759279    0.026318"
      ]
     },
     "execution_count": 76,
     "metadata": {},
     "output_type": "execute_result"
    }
   ],
   "source": [
    "val_data.head()"
   ]
  },
  {
   "cell_type": "code",
   "execution_count": 77,
   "metadata": {
    "ExecuteTime": {
     "end_time": "2023-07-16T12:55:02.207573Z",
     "start_time": "2023-07-16T12:55:02.166039Z"
    }
   },
   "outputs": [
    {
     "name": "stdout",
     "output_type": "stream",
     "text": [
      "Dummy RMSE: 1.4112094086052875\n",
      "Mean RMSE: 1.148036283409983\n",
      "Movie Mean RMSE: 1.0309495525701207\n",
      "KNN RMSE: 0.9925058600964632\n"
     ]
    }
   ],
   "source": [
    "# compute rmse using sklearn\n",
    "rmse_3 = mean_squared_error(val_data['Rating'], 3 * np.ones(val_data.shape[0]), squared=False)\n",
    "rmse_mean_overall = mean_squared_error(val_data['Rating'], train_mean.mean() * np.ones(val_data.shape[0]), squared=False)\n",
    "rmse_mean = mean_squared_error(val_data['Rating'], train_mean[val_data.MovieId], squared=False)\n",
    "rmse_knn = mean_squared_error(val_data['Rating'], val_data['Prediction'], squared=False)\n",
    "print('Dummy RMSE: {}'.format(rmse_3))\n",
    "print('Mean RMSE: {}'.format(rmse_mean_overall))\n",
    "print('Movie Mean RMSE: {}'.format(rmse_mean))\n",
    "print('KNN RMSE: {}'.format(rmse_knn))"
   ]
  },
  {
   "cell_type": "code",
   "execution_count": 79,
   "metadata": {},
   "outputs": [],
   "source": [
    "val_data['Prediction'].to_csv(f\"../lightning_logs/KNN/predictions_knn_val.csv\")"
   ]
  },
  {
   "cell_type": "code",
   "execution_count": 80,
   "metadata": {},
   "outputs": [],
   "source": [
    "val_data['Similarity'].to_csv(f\"../lightning_logs/KNN/similarity_knn_val.csv\")"
   ]
  },
  {
   "cell_type": "markdown",
   "metadata": {
    "collapsed": false
   },
   "source": [
    "# make test predictions"
   ]
  },
  {
   "cell_type": "code",
   "execution_count": 16,
   "metadata": {
    "ExecuteTime": {
     "end_time": "2023-07-16T15:01:52.791065Z",
     "start_time": "2023-07-16T15:01:52.785484Z"
    },
    "collapsed": false
   },
   "outputs": [],
   "source": [
    "def load_cil(dataset=\"split\"):\n",
    "\n",
    "    file = \"data_train\" if dataset != \"test\" else \"sampleSubmission\"\n",
    "    data = pd.read_csv(f'../data/{file}.csv', index_col=0)\n",
    "    data['UserId'] = data.index.str.split('_').str[0].str[1:].astype('int32')\n",
    "    data['MovieId'] = data.index.str.split('_').str[1].str[1:].astype('int32')\n",
    "    data.rename(columns={'Prediction': 'rating'}, inplace=True)\n",
    "    data['rating'] = data['rating'].astype('uint8')\n",
    "    data = data[['UserId', 'MovieId', 'rating']]\n",
    "\n",
    "    data['UserId'] = data['UserId'] - 1\n",
    "    data['MovieId'] = data['MovieId'] - 1\n",
    "    print(\"Subtracted {} from user and movie\".format(1))\n",
    "\n",
    "    user_num = 10000  # int(data['user'].max() + 1)\n",
    "    movie_num = 1000  # int(data['movie'].max() + 1)\n",
    "    print(\"User num: {}, Movie num: {}\".format(user_num, movie_num))\n",
    "\n",
    "    train_data = val_data = None\n",
    "    if dataset == \"test\":\n",
    "        val_data = data\n",
    "    elif dataset == \"train\":\n",
    "        train_data = data\n",
    "    else:\n",
    "        train_data, val_data = train_test_split(data, test_size=0.2, random_state=42)\n",
    "\n",
    "    return train_data, val_data, user_num, movie_num"
   ]
  },
  {
   "cell_type": "code",
   "execution_count": 17,
   "metadata": {
    "ExecuteTime": {
     "end_time": "2023-07-16T15:01:59.025146Z",
     "start_time": "2023-07-16T15:01:56.250831Z"
    },
    "collapsed": false
   },
   "outputs": [
    {
     "name": "stdout",
     "output_type": "stream",
     "text": [
      "Subtracted 1 from user and movie\n",
      "User num: 10000, Movie num: 1000\n"
     ]
    }
   ],
   "source": [
    "_, test_data, _, _ = load_cil(dataset=\"test\")"
   ]
  },
  {
   "cell_type": "code",
   "execution_count": 12,
   "metadata": {
    "ExecuteTime": {
     "end_time": "2023-07-16T14:56:27.846543Z",
     "start_time": "2023-07-16T14:56:27.838016Z"
    },
    "collapsed": false
   },
   "outputs": [
    {
     "name": "stdout",
     "output_type": "stream",
     "text": [
      "         user  movie  rating\n",
      "Id                          \n",
      "r37_c1     36      0       3\n",
      "r73_c1     72      0       3\n",
      "r156_c1   155      0       3\n",
      "r160_c1   159      0       3\n",
      "r248_c1   247      0       3\n"
     ]
    }
   ],
   "source": [
    "print(test_data.head())"
   ]
  },
  {
   "cell_type": "code",
   "execution_count": 13,
   "metadata": {
    "ExecuteTime": {
     "end_time": "2023-07-16T14:59:01.414496Z",
     "start_time": "2023-07-16T14:59:01.064577Z"
    },
    "collapsed": false
   },
   "outputs": [],
   "source": [
    "train_data = data\n",
    "normalize_by = \"MovieId\"\n",
    "train_mean = train_data.groupby(by=normalize_by)['Rating'].mean()\n",
    "train_std = train_data.groupby(by=normalize_by)['Rating'].std()\n",
    "train_data.Rating = (train_data.Rating - train_mean.values[train_data[normalize_by]])/train_std.values[train_data[normalize_by]]\n",
    "\n",
    "n_rows = train_data['UserId'].max() + 1 # might raise errors if in val set user with larger id\n",
    "n_cols = train_data['MovieId'].max() + 1 # might raise errors if in val set movie with larger id\n",
    "train_matrix = get_sparse_matrix(train_data, n_rows, n_cols)\n",
    "\n",
    "similarities = cosine_similarity(train_matrix.T, train_matrix.T)"
   ]
  },
  {
   "cell_type": "code",
   "execution_count": 18,
   "metadata": {
    "ExecuteTime": {
     "end_time": "2023-07-16T15:08:38.998966Z",
     "start_time": "2023-07-16T15:02:02.379604Z"
    },
    "collapsed": false
   },
   "outputs": [
    {
     "name": "stderr",
     "output_type": "stream",
     "text": [
      "100%|██████████| 1176952/1176952 [06:36<00:00, 2967.53it/s]\n"
     ]
    }
   ],
   "source": [
    "best_k = 26\n",
    "predictions, similarity_scores  = make_predictions(best_k, test_data, train_std, train_mean)\n",
    "test_data['Prediction'] = predictions\n",
    "test_data['Similarity'] = similarity_scores"
   ]
  },
  {
   "cell_type": "code",
   "execution_count": 19,
   "metadata": {
    "ExecuteTime": {
     "end_time": "2023-07-16T15:08:44.132911Z",
     "start_time": "2023-07-16T15:08:42.031160Z"
    },
    "collapsed": false
   },
   "outputs": [],
   "source": [
    "test_data['Prediction'].to_csv(f\"../lightning_logs/KNN/predictions_knn_test.csv\")\n",
    "test_data['Similarity'].to_csv(f\"../lightning_logs/KNN/similarity_knn_test.csv\")"
   ]
  },
  {
   "cell_type": "code",
   "execution_count": null,
   "metadata": {
    "collapsed": false
   },
   "outputs": [],
   "source": []
  }
 ],
 "metadata": {
  "kernelspec": {
   "display_name": "Python 3 (ipykernel)",
   "language": "python",
   "name": "python3"
  },
  "language_info": {
   "codemirror_mode": {
    "name": "ipython",
    "version": 3
   },
   "file_extension": ".py",
   "mimetype": "text/x-python",
   "name": "python",
   "nbconvert_exporter": "python",
   "pygments_lexer": "ipython3",
   "version": "3.9.7"
  }
 },
 "nbformat": 4,
 "nbformat_minor": 1
}
