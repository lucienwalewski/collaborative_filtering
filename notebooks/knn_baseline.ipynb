{
 "cells": [
  {
   "cell_type": "code",
   "execution_count": 1,
   "metadata": {
    "ExecuteTime": {
     "start_time": "2023-05-26T13:51:59.128728Z",
     "end_time": "2023-05-26T13:51:59.809814Z"
    },
    "collapsed": true
   },
   "outputs": [],
   "source": [
    "import pandas as pd\n",
    "from sklearn.model_selection import train_test_split\n",
    "from scipy.sparse import csr_matrix\n",
    "import numpy as np\n",
    "import matplotlib.pyplot as plt\n",
    "from sklearn.metrics import mean_squared_error\n",
    "\n",
    "from tqdm import tqdm\n",
    "from sklearn.metrics.pairwise import cosine_similarity"
   ]
  },
  {
   "cell_type": "markdown",
   "metadata": {},
   "source": [
    "# Data Preprocessing"
   ]
  },
  {
   "cell_type": "code",
   "execution_count": 2,
   "metadata": {
    "ExecuteTime": {
     "start_time": "2023-05-26T13:52:02.618502Z",
     "end_time": "2023-05-26T13:52:05.356871Z"
    }
   },
   "outputs": [],
   "source": [
    "data = pd.read_csv('../data/data_train.csv', index_col=0)\n",
    "\n",
    "# rename column and turn ot uint8\n",
    "data.rename(columns={'Prediction': 'Rating'}, inplace=True)\n",
    "data['Rating'] = data['Rating'].astype('uint8')\n",
    "\n",
    "# get user and movie id by splitting index given in format rX_cY\n",
    "data['UserId'] = data.index.str.split('_').str[0].str[1:].astype('int32')\n",
    "data['MovieId'] = data.index.str.split('_').str[1].str[1:].astype('int32')\n",
    "\n",
    "# subtract min UserId and MovieID to get indices starting at 0\n",
    "data['UserId'] = data['UserId'] - data['UserId'].min()\n",
    "data['MovieId'] = data['MovieId'] - data['MovieId'].min()\n",
    "\n",
    "# make int again\n",
    "data['UserId'] = data['UserId'].astype('int32')\n",
    "data['MovieId'] = data['MovieId'].astype('int32')\n",
    "\n",
    "# reorder columns to UserId, MovieId, Rating\n",
    "data = data[['UserId', 'MovieId', 'Rating']]\n",
    "\n",
    "# split into train and val data\n",
    "train_data, val_data = train_test_split(data, test_size=0.2, random_state=42)"
   ]
  },
  {
   "cell_type": "code",
   "execution_count": 46,
   "metadata": {
    "ExecuteTime": {
     "end_time": "2023-05-20T13:04:02.471153Z",
     "start_time": "2023-05-20T13:04:02.457975Z"
    }
   },
   "outputs": [
    {
     "data": {
      "text/html": [
       "<div>\n",
       "<style scoped>\n",
       "    .dataframe tbody tr th:only-of-type {\n",
       "        vertical-align: middle;\n",
       "    }\n",
       "\n",
       "    .dataframe tbody tr th {\n",
       "        vertical-align: top;\n",
       "    }\n",
       "\n",
       "    .dataframe thead th {\n",
       "        text-align: right;\n",
       "    }\n",
       "</style>\n",
       "<table border=\"1\" class=\"dataframe\">\n",
       "  <thead>\n",
       "    <tr style=\"text-align: right;\">\n",
       "      <th></th>\n",
       "      <th>UserId</th>\n",
       "      <th>MovieId</th>\n",
       "      <th>Rating</th>\n",
       "    </tr>\n",
       "    <tr>\n",
       "      <th>Id</th>\n",
       "      <th></th>\n",
       "      <th></th>\n",
       "      <th></th>\n",
       "    </tr>\n",
       "  </thead>\n",
       "  <tbody>\n",
       "    <tr>\n",
       "      <th>r5874_c663</th>\n",
       "      <td>5873</td>\n",
       "      <td>662</td>\n",
       "      <td>5</td>\n",
       "    </tr>\n",
       "    <tr>\n",
       "      <th>r4711_c367</th>\n",
       "      <td>4710</td>\n",
       "      <td>366</td>\n",
       "      <td>4</td>\n",
       "    </tr>\n",
       "    <tr>\n",
       "      <th>r2539_c435</th>\n",
       "      <td>2538</td>\n",
       "      <td>434</td>\n",
       "      <td>1</td>\n",
       "    </tr>\n",
       "    <tr>\n",
       "      <th>r7737_c558</th>\n",
       "      <td>7736</td>\n",
       "      <td>557</td>\n",
       "      <td>2</td>\n",
       "    </tr>\n",
       "    <tr>\n",
       "      <th>r9631_c791</th>\n",
       "      <td>9630</td>\n",
       "      <td>790</td>\n",
       "      <td>5</td>\n",
       "    </tr>\n",
       "  </tbody>\n",
       "</table>\n",
       "</div>"
      ],
      "text/plain": [
       "            UserId  MovieId  Rating\n",
       "Id                                 \n",
       "r5874_c663    5873      662       5\n",
       "r4711_c367    4710      366       4\n",
       "r2539_c435    2538      434       1\n",
       "r7737_c558    7736      557       2\n",
       "r9631_c791    9630      790       5"
      ]
     },
     "execution_count": 46,
     "metadata": {},
     "output_type": "execute_result"
    }
   ],
   "source": [
    "train_data.head()"
   ]
  },
  {
   "cell_type": "code",
   "execution_count": 47,
   "metadata": {
    "ExecuteTime": {
     "end_time": "2023-05-20T13:04:04.963226Z",
     "start_time": "2023-05-20T13:04:04.897026Z"
    }
   },
   "outputs": [
    {
     "data": {
      "text/html": [
       "<div>\n",
       "<style scoped>\n",
       "    .dataframe tbody tr th:only-of-type {\n",
       "        vertical-align: middle;\n",
       "    }\n",
       "\n",
       "    .dataframe tbody tr th {\n",
       "        vertical-align: top;\n",
       "    }\n",
       "\n",
       "    .dataframe thead th {\n",
       "        text-align: right;\n",
       "    }\n",
       "</style>\n",
       "<table border=\"1\" class=\"dataframe\">\n",
       "  <thead>\n",
       "    <tr style=\"text-align: right;\">\n",
       "      <th></th>\n",
       "      <th>UserId</th>\n",
       "      <th>MovieId</th>\n",
       "      <th>Rating</th>\n",
       "    </tr>\n",
       "  </thead>\n",
       "  <tbody>\n",
       "    <tr>\n",
       "      <th>count</th>\n",
       "      <td>941561.000000</td>\n",
       "      <td>941561.000000</td>\n",
       "      <td>941561.000000</td>\n",
       "    </tr>\n",
       "    <tr>\n",
       "      <th>mean</th>\n",
       "      <td>5149.112369</td>\n",
       "      <td>482.580407</td>\n",
       "      <td>3.856588</td>\n",
       "    </tr>\n",
       "    <tr>\n",
       "      <th>std</th>\n",
       "      <td>2918.447452</td>\n",
       "      <td>274.174986</td>\n",
       "      <td>1.119108</td>\n",
       "    </tr>\n",
       "    <tr>\n",
       "      <th>min</th>\n",
       "      <td>0.000000</td>\n",
       "      <td>0.000000</td>\n",
       "      <td>1.000000</td>\n",
       "    </tr>\n",
       "    <tr>\n",
       "      <th>25%</th>\n",
       "      <td>2602.000000</td>\n",
       "      <td>246.000000</td>\n",
       "      <td>3.000000</td>\n",
       "    </tr>\n",
       "    <tr>\n",
       "      <th>50%</th>\n",
       "      <td>5247.000000</td>\n",
       "      <td>493.000000</td>\n",
       "      <td>4.000000</td>\n",
       "    </tr>\n",
       "    <tr>\n",
       "      <th>75%</th>\n",
       "      <td>7734.000000</td>\n",
       "      <td>690.000000</td>\n",
       "      <td>5.000000</td>\n",
       "    </tr>\n",
       "    <tr>\n",
       "      <th>max</th>\n",
       "      <td>9999.000000</td>\n",
       "      <td>999.000000</td>\n",
       "      <td>5.000000</td>\n",
       "    </tr>\n",
       "  </tbody>\n",
       "</table>\n",
       "</div>"
      ],
      "text/plain": [
       "              UserId        MovieId         Rating\n",
       "count  941561.000000  941561.000000  941561.000000\n",
       "mean     5149.112369     482.580407       3.856588\n",
       "std      2918.447452     274.174986       1.119108\n",
       "min         0.000000       0.000000       1.000000\n",
       "25%      2602.000000     246.000000       3.000000\n",
       "50%      5247.000000     493.000000       4.000000\n",
       "75%      7734.000000     690.000000       5.000000\n",
       "max      9999.000000     999.000000       5.000000"
      ]
     },
     "execution_count": 47,
     "metadata": {},
     "output_type": "execute_result"
    }
   ],
   "source": [
    "train_data.describe()"
   ]
  },
  {
   "cell_type": "code",
   "execution_count": 3,
   "metadata": {
    "ExecuteTime": {
     "start_time": "2023-05-26T13:53:30.042531Z",
     "end_time": "2023-05-26T13:53:30.067369Z"
    }
   },
   "outputs": [],
   "source": [
    "normalize_by = \"MovieId\"\n",
    "\n",
    "train_mean = train_data.groupby(by=normalize_by)['Rating'].mean()\n",
    "train_std = train_data.groupby(by=normalize_by)['Rating'].std()\n",
    "train_data.Rating = (train_data.Rating - train_mean.values[train_data[normalize_by]])/train_std.values[train_data[normalize_by]]"
   ]
  },
  {
   "cell_type": "code",
   "execution_count": 4,
   "metadata": {
    "ExecuteTime": {
     "start_time": "2023-05-26T13:53:41.573166Z",
     "end_time": "2023-05-26T13:53:41.611465Z"
    }
   },
   "outputs": [],
   "source": [
    "# function to get sparse matrix from data given as a dataframe with row and column indices\n",
    "def get_sparse_matrix(data, n_rows, n_cols):\n",
    "    return csr_matrix((data['Rating'].values, (data['UserId'].values, data['MovieId'].values)), shape=(n_rows, n_cols))\n",
    "\n",
    "n_rows = train_data['UserId'].max() + 1 # might raise errors if in val set user with larger id\n",
    "n_cols = train_data['MovieId'].max() + 1 # might raise errors if in val set movie with larger id\n",
    "train_matrix = get_sparse_matrix(train_data, n_rows, n_cols)"
   ]
  },
  {
   "cell_type": "code",
   "execution_count": 5,
   "metadata": {
    "ExecuteTime": {
     "start_time": "2023-05-26T13:53:45.235996Z",
     "end_time": "2023-05-26T13:53:45.318410Z"
    }
   },
   "outputs": [
    {
     "data": {
      "text/plain": "<Figure size 640x480 with 1 Axes>",
      "image/png": "[encoded data removed]"
     },
     "metadata": {},
     "output_type": "display_data"
    }
   ],
   "source": [
    "# plot sparse matrix\n",
    "plt.spy(train_matrix[:100,:100], markersize=0.1)\n",
    "plt.show()"
   ]
  },
  {
   "cell_type": "markdown",
   "metadata": {},
   "source": [
    "# KNN"
   ]
  },
  {
   "cell_type": "code",
   "execution_count": 13,
   "metadata": {
    "ExecuteTime": {
     "start_time": "2023-05-26T14:05:12.301376Z",
     "end_time": "2023-05-26T14:05:12.502973Z"
    }
   },
   "outputs": [],
   "source": [
    "similarities = cosine_similarity(train_matrix.T, train_matrix.T)"
   ]
  },
  {
   "cell_type": "code",
   "execution_count": 62,
   "metadata": {
    "ExecuteTime": {
     "start_time": "2023-05-26T14:26:52.092928Z",
     "end_time": "2023-05-26T14:26:52.094980Z"
    }
   },
   "outputs": [],
   "source": [
    "def make_predictions(k, val_data, train_std, train_mean, max_elements=None):\n",
    "    if max_elements is None:\n",
    "        max_elements = val_data.shape[0]\n",
    "    \n",
    "    predictions = np.zeros(val_data.shape[0])\n",
    "    for i in tqdm(range(max_elements)):\n",
    "        user_id, movie_id = val_data.iloc[i][['UserId', 'MovieId']]\n",
    "\n",
    "        user_id = int(user_id)\n",
    "        movie_id = int(movie_id)\n",
    "\n",
    "        rated_movies = train_matrix[user_id].nonzero()[1]\n",
    "        nearest_movies = rated_movies[np.argsort(similarities[movie_id, rated_movies])[-k:]]\n",
    "        prediction = train_matrix[user_id, nearest_movies].mean()\n",
    "        predictions[i] = prediction * train_std[movie_id] + train_mean[movie_id]\n",
    "    return np.rint(predictions)\n",
    "\n",
    "# predictions = make_predictions(5, val_data, train_std, train_mean, 2)"
   ]
  },
  {
   "cell_type": "code",
   "execution_count": 66,
   "metadata": {
    "ExecuteTime": {
     "start_time": "2023-05-26T14:34:22.270136Z",
     "end_time": "2023-05-26T14:35:32.091907Z"
    }
   },
   "outputs": [
    {
     "name": "stderr",
     "output_type": "stream",
     "text": [
      "100%|██████████| 10000/10000 [00:07<00:00, 1414.74it/s]\n",
      "100%|██████████| 10000/10000 [00:06<00:00, 1436.72it/s]\n",
      "100%|██████████| 10000/10000 [00:07<00:00, 1418.40it/s]\n",
      "100%|██████████| 10000/10000 [00:06<00:00, 1434.88it/s]\n",
      "100%|██████████| 10000/10000 [00:06<00:00, 1446.72it/s]\n",
      "100%|██████████| 10000/10000 [00:06<00:00, 1445.81it/s]\n",
      "100%|██████████| 10000/10000 [00:06<00:00, 1450.00it/s]\n",
      "100%|██████████| 10000/10000 [00:06<00:00, 1447.23it/s]\n",
      "100%|██████████| 10000/10000 [00:07<00:00, 1419.47it/s]\n",
      "100%|██████████| 10000/10000 [00:07<00:00, 1414.29it/s]\n"
     ]
    }
   ],
   "source": [
    "max_elements = 10000\n",
    "\n",
    "k_array = np.arange(1, 50, 5)\n",
    "rmse_array = []\n",
    "\n",
    "for k in k_array:\n",
    "    predictions = make_predictions(k, val_data, train_std, train_mean, max_elements)\n",
    "    rmse = mean_squared_error(val_data['Rating'][:max_elements], predictions[:max_elements], squared=False)\n",
    "    rmse_array.append(rmse)"
   ]
  },
  {
   "cell_type": "code",
   "execution_count": 67,
   "metadata": {
    "ExecuteTime": {
     "start_time": "2023-05-26T14:35:37.029324Z",
     "end_time": "2023-05-26T14:35:37.100125Z"
    }
   },
   "outputs": [
    {
     "data": {
      "text/plain": "<Figure size 640x480 with 1 Axes>",
      "image/png": "[encoded data removed]"
     },
     "metadata": {},
     "output_type": "display_data"
    },
    {
     "name": "stdout",
     "output_type": "stream",
     "text": [
      "Best k: 31\n",
      "Best RMSE: 1.0283968105745953\n"
     ]
    }
   ],
   "source": [
    "plt.plot(k_array, rmse_array)\n",
    "plt.show()\n",
    "\n",
    "print('Best k: {}'.format(k_array[np.argmin(rmse_array)]))\n",
    "print('Best RMSE: {}'.format(np.min(rmse_array)))"
   ]
  },
  {
   "cell_type": "code",
   "execution_count": 68,
   "metadata": {
    "ExecuteTime": {
     "start_time": "2023-05-26T14:36:40.264081Z",
     "end_time": "2023-05-26T14:39:25.191017Z"
    }
   },
   "outputs": [
    {
     "name": "stderr",
     "output_type": "stream",
     "text": [
      "100%|██████████| 235391/235391 [02:44<00:00, 1427.29it/s]\n"
     ]
    }
   ],
   "source": [
    "best_k = k_array[np.argmin(rmse_array)]\n",
    "# best_k = 5\n",
    "predictions = make_predictions(best_k, val_data, train_std, train_mean)\n",
    "val_data['Prediction'] = predictions"
   ]
  },
  {
   "cell_type": "code",
   "execution_count": 64,
   "metadata": {
    "ExecuteTime": {
     "start_time": "2023-05-26T14:30:02.648552Z",
     "end_time": "2023-05-26T14:30:02.661163Z"
    }
   },
   "outputs": [
    {
     "data": {
      "text/plain": "            UserId  MovieId  Rating  Prediction\nId                                             \nr5062_c706    5061      705       2         4.0\nr9044_c148    9043      147       4         4.0\nr1736_c169    1735      168       4         5.0\nr5270_c877    5269      876       1         3.0\nr6100_c691    6099      690       4         3.0",
      "text/html": "<div>\n<style scoped>\n    .dataframe tbody tr th:only-of-type {\n        vertical-align: middle;\n    }\n\n    .dataframe tbody tr th {\n        vertical-align: top;\n    }\n\n    .dataframe thead th {\n        text-align: right;\n    }\n</style>\n<table border=\"1\" class=\"dataframe\">\n  <thead>\n    <tr style=\"text-align: right;\">\n      <th></th>\n      <th>UserId</th>\n      <th>MovieId</th>\n      <th>Rating</th>\n      <th>Prediction</th>\n    </tr>\n    <tr>\n      <th>Id</th>\n      <th></th>\n      <th></th>\n      <th></th>\n      <th></th>\n    </tr>\n  </thead>\n  <tbody>\n    <tr>\n      <th>r5062_c706</th>\n      <td>5061</td>\n      <td>705</td>\n      <td>2</td>\n      <td>4.0</td>\n    </tr>\n    <tr>\n      <th>r9044_c148</th>\n      <td>9043</td>\n      <td>147</td>\n      <td>4</td>\n      <td>4.0</td>\n    </tr>\n    <tr>\n      <th>r1736_c169</th>\n      <td>1735</td>\n      <td>168</td>\n      <td>4</td>\n      <td>5.0</td>\n    </tr>\n    <tr>\n      <th>r5270_c877</th>\n      <td>5269</td>\n      <td>876</td>\n      <td>1</td>\n      <td>3.0</td>\n    </tr>\n    <tr>\n      <th>r6100_c691</th>\n      <td>6099</td>\n      <td>690</td>\n      <td>4</td>\n      <td>3.0</td>\n    </tr>\n  </tbody>\n</table>\n</div>"
     },
     "execution_count": 64,
     "metadata": {},
     "output_type": "execute_result"
    }
   ],
   "source": [
    "val_data.head()"
   ]
  },
  {
   "cell_type": "code",
   "execution_count": 69,
   "metadata": {
    "ExecuteTime": {
     "start_time": "2023-05-26T14:39:28.221772Z",
     "end_time": "2023-05-26T14:39:28.233129Z"
    }
   },
   "outputs": [
    {
     "name": "stdout",
     "output_type": "stream",
     "text": [
      "Dummy RMSE: 1.4112094086052875\n",
      "Mean RMSE: 1.1275691757083937\n",
      "Movie Mean RMSE: 1.0701981885501288\n",
      "KNN RMSE: 1.0337088675643054\n"
     ]
    }
   ],
   "source": [
    "# compute rmse using sklearn\n",
    "rmse_3 = mean_squared_error(val_data['Rating'], 3 * np.ones(val_data.shape[0]), squared=False)\n",
    "rmse_mean_overall = mean_squared_error(val_data['Rating'], np.rint(train_mean.mean()) * np.ones(val_data.shape[0]), squared=False)\n",
    "rmse_mean = mean_squared_error(val_data['Rating'], np.rint(train_mean[val_data.MovieId]), squared=False)\n",
    "rmse_knn = mean_squared_error(val_data['Rating'], val_data['Prediction'], squared=False)\n",
    "print('Dummy RMSE: {}'.format(rmse_3))\n",
    "print('Mean RMSE: {}'.format(rmse_mean_overall))\n",
    "print('Movie Mean RMSE: {}'.format(rmse_mean))\n",
    "print('KNN RMSE: {}'.format(rmse_knn))"
   ]
  },
  {
   "cell_type": "code",
   "execution_count": 19,
   "outputs": [
    {
     "data": {
      "text/plain": "1.0309495525701207"
     },
     "execution_count": 19,
     "metadata": {},
     "output_type": "execute_result"
    }
   ],
   "source": [
    "mean_squared_error(val_data['Rating'], train_mean[val_data.MovieId], squared=False)"
   ],
   "metadata": {
    "collapsed": false,
    "ExecuteTime": {
     "start_time": "2023-05-26T11:57:05.065439Z",
     "end_time": "2023-05-26T11:57:05.069785Z"
    }
   }
  }
 ],
 "metadata": {
  "kernelspec": {
   "display_name": "Python 3 (ipykernel)",
   "language": "python",
   "name": "python3"
  },
  "language_info": {
   "codemirror_mode": {
    "name": "ipython",
    "version": 3
   },
   "file_extension": ".py",
   "mimetype": "text/x-python",
   "name": "python",
   "nbconvert_exporter": "python",
   "pygments_lexer": "ipython3",
   "version": "3.11.0"
  }
 },
 "nbformat": 4,
 "nbformat_minor": 1
}
