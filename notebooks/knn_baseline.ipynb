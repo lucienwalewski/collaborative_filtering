{
 "cells": [
  {
   "cell_type": "code",
   "execution_count": 1,
   "metadata": {
    "ExecuteTime": {
     "end_time": "2023-07-16T14:53:40.685489Z",
     "start_time": "2023-07-16T14:53:40.570398Z"
    }
   },
   "outputs": [],
   "source": [
    "import pandas as pd\n",
    "from sklearn.model_selection import train_test_split\n",
    "from scipy.sparse import csr_matrix\n",
    "import numpy as np\n",
    "import matplotlib.pyplot as plt\n",
    "from sklearn.metrics import mean_squared_error\n",
    "\n",
    "from tqdm import tqdm\n",
    "from sklearn.metrics.pairwise import cosine_similarity"
   ]
  },
  {
   "cell_type": "markdown",
   "metadata": {},
   "source": [
    "# Data Preprocessing"
   ]
  },
  {
   "cell_type": "code",
   "execution_count": 2,
   "metadata": {
    "ExecuteTime": {
     "end_time": "2023-07-16T14:53:46.131125Z",
     "start_time": "2023-07-16T14:53:43.416338Z"
    }
   },
   "outputs": [],
   "source": [
    "data = pd.read_csv('../../delivery/data/data_train.csv', index_col=0)\n",
    "\n",
    "# rename column and turn ot uint8\n",
    "data.rename(columns={'Prediction': 'Rating'}, inplace=True)\n",
    "data['Rating'] = data['Rating'].astype('uint8')\n",
    "\n",
    "# get user and movie id by splitting index given in format rX_cY\n",
    "data['UserId'] = data.index.str.split('_').str[0].str[1:].astype('int32')\n",
    "data['MovieId'] = data.index.str.split('_').str[1].str[1:].astype('int32')\n",
    "\n",
    "# subtract min UserId and MovieID to get indices starting at 0\n",
    "data['UserId'] = data['UserId'] - data['UserId'].min()\n",
    "data['MovieId'] = data['MovieId'] - data['MovieId'].min()\n",
    "\n",
    "# make int again\n",
    "data['UserId'] = data['UserId'].astype('int32')\n",
    "data['MovieId'] = data['MovieId'].astype('int32')\n",
    "\n",
    "# reorder columns to UserId, MovieId, Rating\n",
    "data = data[['UserId', 'MovieId', 'Rating']]\n",
    "\n",
    "# split into train and val data\n",
    "train_data, val_data = train_test_split(data, test_size=0.2, random_state=42)"
   ]
  },
  {
   "cell_type": "code",
   "execution_count": 3,
   "metadata": {
    "ExecuteTime": {
     "end_time": "2023-05-20T13:04:02.471153Z",
     "start_time": "2023-05-20T13:04:02.457975Z"
    }
   },
   "outputs": [
    {
     "data": {
      "text/html": [
       "<div>\n",
       "<style scoped>\n",
       "    .dataframe tbody tr th:only-of-type {\n",
       "        vertical-align: middle;\n",
       "    }\n",
       "\n",
       "    .dataframe tbody tr th {\n",
       "        vertical-align: top;\n",
       "    }\n",
       "\n",
       "    .dataframe thead th {\n",
       "        text-align: right;\n",
       "    }\n",
       "</style>\n",
       "<table border=\"1\" class=\"dataframe\">\n",
       "  <thead>\n",
       "    <tr style=\"text-align: right;\">\n",
       "      <th></th>\n",
       "      <th>UserId</th>\n",
       "      <th>MovieId</th>\n",
       "      <th>Rating</th>\n",
       "    </tr>\n",
       "    <tr>\n",
       "      <th>Id</th>\n",
       "      <th></th>\n",
       "      <th></th>\n",
       "      <th></th>\n",
       "    </tr>\n",
       "  </thead>\n",
       "  <tbody>\n",
       "    <tr>\n",
       "      <th>r5874_c663</th>\n",
       "      <td>5873</td>\n",
       "      <td>662</td>\n",
       "      <td>5</td>\n",
       "    </tr>\n",
       "    <tr>\n",
       "      <th>r4711_c367</th>\n",
       "      <td>4710</td>\n",
       "      <td>366</td>\n",
       "      <td>4</td>\n",
       "    </tr>\n",
       "    <tr>\n",
       "      <th>r2539_c435</th>\n",
       "      <td>2538</td>\n",
       "      <td>434</td>\n",
       "      <td>1</td>\n",
       "    </tr>\n",
       "    <tr>\n",
       "      <th>r7737_c558</th>\n",
       "      <td>7736</td>\n",
       "      <td>557</td>\n",
       "      <td>2</td>\n",
       "    </tr>\n",
       "    <tr>\n",
       "      <th>r9631_c791</th>\n",
       "      <td>9630</td>\n",
       "      <td>790</td>\n",
       "      <td>5</td>\n",
       "    </tr>\n",
       "  </tbody>\n",
       "</table>\n",
       "</div>"
      ],
      "text/plain": [
       "            UserId  MovieId  Rating\n",
       "Id                                 \n",
       "r5874_c663    5873      662       5\n",
       "r4711_c367    4710      366       4\n",
       "r2539_c435    2538      434       1\n",
       "r7737_c558    7736      557       2\n",
       "r9631_c791    9630      790       5"
      ]
     },
     "execution_count": 3,
     "metadata": {},
     "output_type": "execute_result"
    }
   ],
   "source": [
    "train_data.head()"
   ]
  },
  {
   "cell_type": "code",
   "execution_count": 4,
   "metadata": {
    "ExecuteTime": {
     "end_time": "2023-05-20T13:04:04.963226Z",
     "start_time": "2023-05-20T13:04:04.897026Z"
    }
   },
   "outputs": [
    {
     "data": {
      "text/html": [
       "<div>\n",
       "<style scoped>\n",
       "    .dataframe tbody tr th:only-of-type {\n",
       "        vertical-align: middle;\n",
       "    }\n",
       "\n",
       "    .dataframe tbody tr th {\n",
       "        vertical-align: top;\n",
       "    }\n",
       "\n",
       "    .dataframe thead th {\n",
       "        text-align: right;\n",
       "    }\n",
       "</style>\n",
       "<table border=\"1\" class=\"dataframe\">\n",
       "  <thead>\n",
       "    <tr style=\"text-align: right;\">\n",
       "      <th></th>\n",
       "      <th>UserId</th>\n",
       "      <th>MovieId</th>\n",
       "      <th>Rating</th>\n",
       "    </tr>\n",
       "  </thead>\n",
       "  <tbody>\n",
       "    <tr>\n",
       "      <th>count</th>\n",
       "      <td>941561.000000</td>\n",
       "      <td>941561.000000</td>\n",
       "      <td>941561.000000</td>\n",
       "    </tr>\n",
       "    <tr>\n",
       "      <th>mean</th>\n",
       "      <td>5149.112369</td>\n",
       "      <td>482.580407</td>\n",
       "      <td>3.856588</td>\n",
       "    </tr>\n",
       "    <tr>\n",
       "      <th>std</th>\n",
       "      <td>2918.447452</td>\n",
       "      <td>274.174986</td>\n",
       "      <td>1.119108</td>\n",
       "    </tr>\n",
       "    <tr>\n",
       "      <th>min</th>\n",
       "      <td>0.000000</td>\n",
       "      <td>0.000000</td>\n",
       "      <td>1.000000</td>\n",
       "    </tr>\n",
       "    <tr>\n",
       "      <th>25%</th>\n",
       "      <td>2602.000000</td>\n",
       "      <td>246.000000</td>\n",
       "      <td>3.000000</td>\n",
       "    </tr>\n",
       "    <tr>\n",
       "      <th>50%</th>\n",
       "      <td>5247.000000</td>\n",
       "      <td>493.000000</td>\n",
       "      <td>4.000000</td>\n",
       "    </tr>\n",
       "    <tr>\n",
       "      <th>75%</th>\n",
       "      <td>7734.000000</td>\n",
       "      <td>690.000000</td>\n",
       "      <td>5.000000</td>\n",
       "    </tr>\n",
       "    <tr>\n",
       "      <th>max</th>\n",
       "      <td>9999.000000</td>\n",
       "      <td>999.000000</td>\n",
       "      <td>5.000000</td>\n",
       "    </tr>\n",
       "  </tbody>\n",
       "</table>\n",
       "</div>"
      ],
      "text/plain": [
       "              UserId        MovieId         Rating\n",
       "count  941561.000000  941561.000000  941561.000000\n",
       "mean     5149.112369     482.580407       3.856588\n",
       "std      2918.447452     274.174986       1.119108\n",
       "min         0.000000       0.000000       1.000000\n",
       "25%      2602.000000     246.000000       3.000000\n",
       "50%      5247.000000     493.000000       4.000000\n",
       "75%      7734.000000     690.000000       5.000000\n",
       "max      9999.000000     999.000000       5.000000"
      ]
     },
     "execution_count": 4,
     "metadata": {},
     "output_type": "execute_result"
    }
   ],
   "source": [
    "train_data.describe()"
   ]
  },
  {
   "cell_type": "code",
   "execution_count": 5,
   "metadata": {
    "ExecuteTime": {
     "end_time": "2023-07-16T14:53:52.140927Z",
     "start_time": "2023-07-16T14:53:52.110043Z"
    }
   },
   "outputs": [],
   "source": [
    "normalize_by = \"MovieId\"\n",
    "\n",
    "train_mean = train_data.groupby(by=normalize_by)['Rating'].mean()\n",
    "train_std = train_data.groupby(by=normalize_by)['Rating'].std()\n",
    "train_data.Rating = (train_data.Rating - train_mean.values[train_data[normalize_by]])/train_std.values[train_data[normalize_by]]"
   ]
  },
  {
   "cell_type": "code",
   "execution_count": 6,
   "metadata": {
    "ExecuteTime": {
     "end_time": "2023-07-16T14:53:53.854019Z",
     "start_time": "2023-07-16T14:53:53.809732Z"
    }
   },
   "outputs": [],
   "source": [
    "# function to get sparse matrix from data given as a dataframe with row and column indices\n",
    "def get_sparse_matrix(data, n_rows, n_cols):\n",
    "    return csr_matrix((data['Rating'].values, (data['UserId'].values, data['MovieId'].values)), shape=(n_rows, n_cols))\n",
    "\n",
    "n_rows = train_data['UserId'].max() + 1 # might raise errors if in val set user with larger id\n",
    "n_cols = train_data['MovieId'].max() + 1 # might raise errors if in val set movie with larger id\n",
    "train_matrix = get_sparse_matrix(train_data, n_rows, n_cols)"
   ]
  },
  {
   "cell_type": "code",
   "execution_count": 7,
   "metadata": {
    "ExecuteTime": {
     "end_time": "2023-05-26T13:53:45.318410Z",
     "start_time": "2023-05-26T13:53:45.235996Z"
    }
   },
   "outputs": [
    {
     "data": {
      "image/png": "[encoded data removed]",
      "text/plain": [
       "<Figure size 640x480 with 1 Axes>"
      ]
     },
     "metadata": {},
     "output_type": "display_data"
    }
   ],
   "source": [
    "# plot sparse matrix\n",
    "plt.spy(train_matrix[:100,:100], markersize=0.1)\n",
    "plt.show()"
   ]
  },
  {
   "cell_type": "markdown",
   "metadata": {},
   "source": [
    "# KNN"
   ]
  },
  {
   "cell_type": "code",
   "execution_count": 8,
   "metadata": {
    "ExecuteTime": {
     "end_time": "2023-07-16T14:53:56.659228Z",
     "start_time": "2023-07-16T14:53:56.456973Z"
    }
   },
   "outputs": [],
   "source": [
    "similarities = cosine_similarity(train_matrix.T, train_matrix.T)"
   ]
  },
  {
   "cell_type": "code",
   "execution_count": 9,
   "metadata": {
    "ExecuteTime": {
     "end_time": "2023-07-16T14:54:05.012949Z",
     "start_time": "2023-07-16T14:54:05.007394Z"
    }
   },
   "outputs": [],
   "source": [
    "def make_predictions(k, val_data, train_std, train_mean, max_elements=None):\n",
    "    if max_elements is None:\n",
    "        max_elements = val_data.shape[0]\n",
    "    \n",
    "    predictions = np.zeros(val_data.shape[0])\n",
    "    similarity_scores = np.zeros(val_data.shape[0])\n",
    "    for i in tqdm(range(max_elements)):\n",
    "        user_id, movie_id = val_data.iloc[i][['UserId', 'MovieId']]\n",
    "\n",
    "        user_id = int(user_id)\n",
    "        movie_id = int(movie_id)\n",
    "\n",
    "        rated_movies = train_matrix[user_id].nonzero()[1]\n",
    "        nearest_movies = rated_movies[np.argsort(similarities[movie_id, rated_movies])[-k:]]\n",
    "        \n",
    "        similarity_scores[i] = np.sort(similarities[movie_id, rated_movies])[-k:].mean()\n",
    "\n",
    "        prediction = train_matrix[user_id, nearest_movies].mean()\n",
    "        predictions[i] = prediction * train_std[movie_id] + train_mean[movie_id]\n",
    "    return predictions, similarity_scores\n",
    "\n",
    "# predictions = make_predictions(5, val_data, train_std, train_mean, 2)"
   ]
  },
  {
   "cell_type": "code",
   "execution_count": 10,
   "metadata": {
    "ExecuteTime": {
     "end_time": "2023-07-16T13:12:50.444912Z",
     "start_time": "2023-07-16T13:12:47.093850Z"
    }
   },
   "outputs": [
    {
     "name": "stderr",
     "output_type": "stream",
     "text": [
      "100%|██████████| 1000/1000 [00:00<00:00, 1876.19it/s]\n",
      "100%|██████████| 1000/1000 [00:00<00:00, 2052.09it/s]\n",
      "100%|██████████| 1000/1000 [00:00<00:00, 2051.34it/s]\n",
      "100%|██████████| 1000/1000 [00:00<00:00, 1913.15it/s]\n",
      "100%|██████████| 1000/1000 [00:00<00:00, 1935.85it/s]\n",
      "100%|██████████| 1000/1000 [00:00<00:00, 2003.22it/s]\n",
      "100%|██████████| 1000/1000 [00:00<00:00, 1878.33it/s]\n",
      "100%|██████████| 1000/1000 [00:00<00:00, 1973.03it/s]\n",
      "100%|██████████| 1000/1000 [00:00<00:00, 1973.16it/s]\n",
      " 64%|██████▍   | 638/1000 [00:00<00:00, 1977.55it/s]\n"
     ]
    },
    {
     "ename": "KeyboardInterrupt",
     "evalue": "",
     "output_type": "error",
     "traceback": [
      "\u001b[0;31m---------------------------------------------------------------------------\u001b[0m",
      "\u001b[0;31mKeyboardInterrupt\u001b[0m                         Traceback (most recent call last)",
      "Cell \u001b[0;32mIn[10], line 7\u001b[0m\n\u001b[1;32m      4\u001b[0m rmse_array \u001b[39m=\u001b[39m []\n\u001b[1;32m      6\u001b[0m \u001b[39mfor\u001b[39;00m k \u001b[39min\u001b[39;00m k_array:\n\u001b[0;32m----> 7\u001b[0m     predictions, similarity_scores \u001b[39m=\u001b[39m make_predictions(k, val_data, train_std, train_mean, max_elements)\n\u001b[1;32m      8\u001b[0m     rmse \u001b[39m=\u001b[39m mean_squared_error(val_data[\u001b[39m'\u001b[39m\u001b[39mRating\u001b[39m\u001b[39m'\u001b[39m][:max_elements], predictions[:max_elements], squared\u001b[39m=\u001b[39m\u001b[39mFalse\u001b[39;00m)\n\u001b[1;32m      9\u001b[0m     rmse_array\u001b[39m.\u001b[39mappend(rmse)\n",
      "Cell \u001b[0;32mIn[9], line 8\u001b[0m, in \u001b[0;36mmake_predictions\u001b[0;34m(k, val_data, train_std, train_mean, max_elements)\u001b[0m\n\u001b[1;32m      6\u001b[0m similarity_scores \u001b[39m=\u001b[39m np\u001b[39m.\u001b[39mzeros(val_data\u001b[39m.\u001b[39mshape[\u001b[39m0\u001b[39m])\n\u001b[1;32m      7\u001b[0m \u001b[39mfor\u001b[39;00m i \u001b[39min\u001b[39;00m tqdm(\u001b[39mrange\u001b[39m(max_elements)):\n\u001b[0;32m----> 8\u001b[0m     user_id, movie_id \u001b[39m=\u001b[39m val_data\u001b[39m.\u001b[39;49miloc[i][[\u001b[39m'\u001b[39;49m\u001b[39mUserId\u001b[39;49m\u001b[39m'\u001b[39;49m, \u001b[39m'\u001b[39;49m\u001b[39mMovieId\u001b[39;49m\u001b[39m'\u001b[39;49m]]\n\u001b[1;32m     10\u001b[0m     user_id \u001b[39m=\u001b[39m \u001b[39mint\u001b[39m(user_id)\n\u001b[1;32m     11\u001b[0m     movie_id \u001b[39m=\u001b[39m \u001b[39mint\u001b[39m(movie_id)\n",
      "File \u001b[0;32m/opt/homebrew/Caskroom/miniforge/base/envs/colaborative_fil/lib/python3.9/site-packages/pandas/core/series.py:1033\u001b[0m, in \u001b[0;36mSeries.__getitem__\u001b[0;34m(self, key)\u001b[0m\n\u001b[1;32m   1030\u001b[0m     key \u001b[39m=\u001b[39m np\u001b[39m.\u001b[39masarray(key, dtype\u001b[39m=\u001b[39m\u001b[39mbool\u001b[39m)\n\u001b[1;32m   1031\u001b[0m     \u001b[39mreturn\u001b[39;00m \u001b[39mself\u001b[39m\u001b[39m.\u001b[39m_get_values(key)\n\u001b[0;32m-> 1033\u001b[0m \u001b[39mreturn\u001b[39;00m \u001b[39mself\u001b[39;49m\u001b[39m.\u001b[39;49m_get_with(key)\n",
      "File \u001b[0;32m/opt/homebrew/Caskroom/miniforge/base/envs/colaborative_fil/lib/python3.9/site-packages/pandas/core/series.py:1060\u001b[0m, in \u001b[0;36mSeries._get_with\u001b[0;34m(self, key)\u001b[0m\n\u001b[1;32m   1058\u001b[0m     key_type \u001b[39m=\u001b[39m key\u001b[39m.\u001b[39minferred_type\n\u001b[1;32m   1059\u001b[0m \u001b[39melse\u001b[39;00m:\n\u001b[0;32m-> 1060\u001b[0m     key_type \u001b[39m=\u001b[39m lib\u001b[39m.\u001b[39;49minfer_dtype(key, skipna\u001b[39m=\u001b[39;49m\u001b[39mFalse\u001b[39;49;00m)\n\u001b[1;32m   1062\u001b[0m \u001b[39m# Note: The key_type == \"boolean\" case should be caught by the\u001b[39;00m\n\u001b[1;32m   1063\u001b[0m \u001b[39m#  com.is_bool_indexer check in __getitem__\u001b[39;00m\n\u001b[1;32m   1064\u001b[0m \u001b[39mif\u001b[39;00m key_type \u001b[39m==\u001b[39m \u001b[39m\"\u001b[39m\u001b[39minteger\u001b[39m\u001b[39m\"\u001b[39m:\n\u001b[1;32m   1065\u001b[0m     \u001b[39m# We need to decide whether to treat this as a positional indexer\u001b[39;00m\n\u001b[1;32m   1066\u001b[0m     \u001b[39m#  (i.e. self.iloc) or label-based (i.e. self.loc)\u001b[39;00m\n",
      "File \u001b[0;32m/opt/homebrew/Caskroom/miniforge/base/envs/colaborative_fil/lib/python3.9/site-packages/pandas/_libs/lib.pyx:1501\u001b[0m, in \u001b[0;36mpandas._libs.lib.infer_dtype\u001b[0;34m()\u001b[0m\n",
      "File \u001b[0;32m/opt/homebrew/Caskroom/miniforge/base/envs/colaborative_fil/lib/python3.9/site-packages/pandas/_libs/lib.pyx:1363\u001b[0m, in \u001b[0;36mpandas._libs.lib._try_infer_map\u001b[0;34m()\u001b[0m\n",
      "File \u001b[0;32m/opt/homebrew/Caskroom/miniforge/base/envs/colaborative_fil/lib/python3.9/site-packages/numpy/core/_dtype.py:344\u001b[0m, in \u001b[0;36m_name_get\u001b[0;34m(dtype)\u001b[0m\n\u001b[1;32m    340\u001b[0m     \u001b[39melse\u001b[39;00m:\n\u001b[1;32m    341\u001b[0m         \u001b[39mreturn\u001b[39;00m \u001b[39mTrue\u001b[39;00m\n\u001b[0;32m--> 344\u001b[0m \u001b[39mdef\u001b[39;00m \u001b[39m_name_get\u001b[39m(dtype):\n\u001b[1;32m    345\u001b[0m     \u001b[39m# provides dtype.name.__get__, documented as returning a \"bit name\"\u001b[39;00m\n\u001b[1;32m    347\u001b[0m     \u001b[39mif\u001b[39;00m dtype\u001b[39m.\u001b[39misbuiltin \u001b[39m==\u001b[39m \u001b[39m2\u001b[39m:\n\u001b[1;32m    348\u001b[0m         \u001b[39m# user dtypes don't promise to do anything special\u001b[39;00m\n\u001b[1;32m    349\u001b[0m         \u001b[39mreturn\u001b[39;00m dtype\u001b[39m.\u001b[39mtype\u001b[39m.\u001b[39m\u001b[39m__name__\u001b[39m\n",
      "\u001b[0;31mKeyboardInterrupt\u001b[0m: "
     ]
    }
   ],
   "source": [
    "max_elements = 1000\n",
    "\n",
    "k_array = np.arange(1, 50, 5)\n",
    "rmse_array = []\n",
    "\n",
    "for k in k_array:\n",
    "    predictions, similarity_scores = make_predictions(k, val_data, train_std, train_mean, max_elements)\n",
    "    rmse = mean_squared_error(val_data['Rating'][:max_elements], predictions[:max_elements], squared=False)\n",
    "    rmse_array.append(rmse)"
   ]
  },
  {
   "cell_type": "code",
   "execution_count": null,
   "metadata": {
    "ExecuteTime": {
     "end_time": "2023-07-16T13:12:51.335046Z",
     "start_time": "2023-07-16T13:12:51.274374Z"
    }
   },
   "outputs": [
    {
     "data": {
      "image/png": "[encoded data removed]",
      "text/plain": [
       "<Figure size 640x480 with 1 Axes>"
      ]
     },
     "metadata": {},
     "output_type": "display_data"
    },
    {
     "name": "stdout",
     "output_type": "stream",
     "text": [
      "Best k: 26\n",
      "Best RMSE: 0.9747686695907558\n"
     ]
    }
   ],
   "source": [
    "plt.plot(k_array, rmse_array)\n",
    "plt.show()\n",
    "\n",
    "print('Best k: {}'.format(k_array[np.argmin(rmse_array)]))\n",
    "print('Best RMSE: {}'.format(np.min(rmse_array)))"
   ]
  },
  {
   "cell_type": "code",
   "execution_count": null,
   "metadata": {
    "ExecuteTime": {
     "end_time": "2023-07-16T12:54:52.313397Z",
     "start_time": "2023-07-16T12:53:36.266710Z"
    }
   },
   "outputs": [
    {
     "name": "stderr",
     "output_type": "stream",
     "text": [
      "  7%|▋         | 16276/235391 [00:06<01:31, 2384.99it/s]\n"
     ]
    },
    {
     "ename": "KeyboardInterrupt",
     "evalue": "",
     "output_type": "error",
     "traceback": [
      "\u001b[0;31m---------------------------------------------------------------------------\u001b[0m",
      "\u001b[0;31mAttributeError\u001b[0m                            Traceback (most recent call last)",
      "File \u001b[0;32m/opt/homebrew/Caskroom/miniforge/base/envs/colaborative_fil/lib/python3.9/site-packages/numpy/core/fromnumeric.py:3154\u001b[0m, in \u001b[0;36mndim\u001b[0;34m(a)\u001b[0m\n\u001b[1;32m   3153\u001b[0m \u001b[39mtry\u001b[39;00m:\n\u001b[0;32m-> 3154\u001b[0m     \u001b[39mreturn\u001b[39;00m a\u001b[39m.\u001b[39;49mndim\n\u001b[1;32m   3155\u001b[0m \u001b[39mexcept\u001b[39;00m \u001b[39mAttributeError\u001b[39;00m:\n",
      "\u001b[0;31mAttributeError\u001b[0m: 'int' object has no attribute 'ndim'",
      "\nDuring handling of the above exception, another exception occurred:\n",
      "\u001b[0;31mKeyboardInterrupt\u001b[0m                         Traceback (most recent call last)",
      "Cell \u001b[0;32mIn[12], line 3\u001b[0m\n\u001b[1;32m      1\u001b[0m \u001b[39m# best_k = k_array[np.argmin(rmse_array)]\u001b[39;00m\n\u001b[1;32m      2\u001b[0m best_k \u001b[39m=\u001b[39m \u001b[39m26\u001b[39m\n\u001b[0;32m----> 3\u001b[0m predictions, similarity_scores  \u001b[39m=\u001b[39m make_predictions(best_k, val_data, train_std, train_mean)\n\u001b[1;32m      4\u001b[0m val_data[\u001b[39m'\u001b[39m\u001b[39mPrediction\u001b[39m\u001b[39m'\u001b[39m] \u001b[39m=\u001b[39m predictions\n\u001b[1;32m      5\u001b[0m val_data[\u001b[39m'\u001b[39m\u001b[39mSimilarity\u001b[39m\u001b[39m'\u001b[39m] \u001b[39m=\u001b[39m similarity_scores\n",
      "Cell \u001b[0;32mIn[9], line 13\u001b[0m, in \u001b[0;36mmake_predictions\u001b[0;34m(k, val_data, train_std, train_mean, max_elements)\u001b[0m\n\u001b[1;32m     10\u001b[0m user_id \u001b[39m=\u001b[39m \u001b[39mint\u001b[39m(user_id)\n\u001b[1;32m     11\u001b[0m movie_id \u001b[39m=\u001b[39m \u001b[39mint\u001b[39m(movie_id)\n\u001b[0;32m---> 13\u001b[0m rated_movies \u001b[39m=\u001b[39m train_matrix[user_id]\u001b[39m.\u001b[39mnonzero()[\u001b[39m1\u001b[39m]\n\u001b[1;32m     14\u001b[0m nearest_movies \u001b[39m=\u001b[39m rated_movies[np\u001b[39m.\u001b[39margsort(similarities[movie_id, rated_movies])[\u001b[39m-\u001b[39mk:]]\n\u001b[1;32m     16\u001b[0m similarity_scores[i] \u001b[39m=\u001b[39m np\u001b[39m.\u001b[39msort(similarities[movie_id, rated_movies])[\u001b[39m-\u001b[39mk:]\u001b[39m.\u001b[39mmean()\n",
      "File \u001b[0;32m/opt/homebrew/Caskroom/miniforge/base/envs/colaborative_fil/lib/python3.9/site-packages/scipy/sparse/_index.py:47\u001b[0m, in \u001b[0;36mIndexMixin.__getitem__\u001b[0;34m(self, key)\u001b[0m\n\u001b[1;32m     46\u001b[0m \u001b[39mdef\u001b[39;00m \u001b[39m__getitem__\u001b[39m(\u001b[39mself\u001b[39m, key):\n\u001b[0;32m---> 47\u001b[0m     row, col \u001b[39m=\u001b[39m \u001b[39mself\u001b[39;49m\u001b[39m.\u001b[39;49m_validate_indices(key)\n\u001b[1;32m     49\u001b[0m     \u001b[39m# Dispatch to specialized methods.\u001b[39;00m\n\u001b[1;32m     50\u001b[0m     \u001b[39mif\u001b[39;00m \u001b[39misinstance\u001b[39m(row, INT_TYPES):\n",
      "File \u001b[0;32m/opt/homebrew/Caskroom/miniforge/base/envs/colaborative_fil/lib/python3.9/site-packages/scipy/sparse/_index.py:152\u001b[0m, in \u001b[0;36mIndexMixin._validate_indices\u001b[0;34m(self, key)\u001b[0m\n\u001b[1;32m    149\u001b[0m M, N \u001b[39m=\u001b[39m \u001b[39mself\u001b[39m\u001b[39m.\u001b[39mshape\n\u001b[1;32m    150\u001b[0m row, col \u001b[39m=\u001b[39m _unpack_index(key)\n\u001b[0;32m--> 152\u001b[0m \u001b[39mif\u001b[39;00m isintlike(row):\n\u001b[1;32m    153\u001b[0m     row \u001b[39m=\u001b[39m \u001b[39mint\u001b[39m(row)\n\u001b[1;32m    154\u001b[0m     \u001b[39mif\u001b[39;00m row \u001b[39m<\u001b[39m \u001b[39m-\u001b[39mM \u001b[39mor\u001b[39;00m row \u001b[39m>\u001b[39m\u001b[39m=\u001b[39m M:\n",
      "File \u001b[0;32m/opt/homebrew/Caskroom/miniforge/base/envs/colaborative_fil/lib/python3.9/site-packages/scipy/sparse/_sputils.py:222\u001b[0m, in \u001b[0;36misintlike\u001b[0;34m(x)\u001b[0m\n\u001b[1;32m    217\u001b[0m \u001b[39m\u001b[39m\u001b[39m\"\"\"Is x appropriate as an index into a sparse matrix? Returns True\u001b[39;00m\n\u001b[1;32m    218\u001b[0m \u001b[39mif it can be cast safely to a machine int.\u001b[39;00m\n\u001b[1;32m    219\u001b[0m \u001b[39m\"\"\"\u001b[39;00m\n\u001b[1;32m    220\u001b[0m \u001b[39m# Fast-path check to eliminate non-scalar values. operator.index would\u001b[39;00m\n\u001b[1;32m    221\u001b[0m \u001b[39m# catch this case too, but the exception catching is slow.\u001b[39;00m\n\u001b[0;32m--> 222\u001b[0m \u001b[39mif\u001b[39;00m np\u001b[39m.\u001b[39;49mndim(x) \u001b[39m!=\u001b[39m \u001b[39m0\u001b[39m:\n\u001b[1;32m    223\u001b[0m     \u001b[39mreturn\u001b[39;00m \u001b[39mFalse\u001b[39;00m\n\u001b[1;32m    224\u001b[0m \u001b[39mtry\u001b[39;00m:\n",
      "File \u001b[0;32m<__array_function__ internals>:180\u001b[0m, in \u001b[0;36mndim\u001b[0;34m(*args, **kwargs)\u001b[0m\n",
      "File \u001b[0;32m/opt/homebrew/Caskroom/miniforge/base/envs/colaborative_fil/lib/python3.9/site-packages/numpy/core/fromnumeric.py:3156\u001b[0m, in \u001b[0;36mndim\u001b[0;34m(a)\u001b[0m\n\u001b[1;32m   3154\u001b[0m     \u001b[39mreturn\u001b[39;00m a\u001b[39m.\u001b[39mndim\n\u001b[1;32m   3155\u001b[0m \u001b[39mexcept\u001b[39;00m \u001b[39mAttributeError\u001b[39;00m:\n\u001b[0;32m-> 3156\u001b[0m     \u001b[39mreturn\u001b[39;00m asarray(a)\u001b[39m.\u001b[39;49mndim\n",
      "\u001b[0;31mKeyboardInterrupt\u001b[0m: "
     ]
    }
   ],
   "source": [
    "# best_k = k_array[np.argmin(rmse_array)]\n",
    "best_k = 26\n",
    "predictions, similarity_scores  = make_predictions(best_k, val_data, train_std, train_mean)\n",
    "val_data['Prediction'] = predictions\n",
    "val_data['Similarity'] = similarity_scores"
   ]
  },
  {
   "cell_type": "code",
   "execution_count": null,
   "metadata": {},
   "outputs": [
    {
     "data": {
      "image/png": "[encoded data removed]",
      "text/plain": [
       "<Figure size 640x480 with 1 Axes>"
      ]
     },
     "metadata": {},
     "output_type": "display_data"
    }
   ],
   "source": [
    "mse = (val_data['Rating'] - val_data['Similarity'])**2\n",
    "plt.scatter(val_data['Similarity'], mse, alpha=0.1, s=1)\n",
    "plt.show()"
   ]
  },
  {
   "cell_type": "code",
   "execution_count": null,
   "metadata": {
    "ExecuteTime": {
     "end_time": "2023-07-16T12:54:54.901104Z",
     "start_time": "2023-07-16T12:54:54.887329Z"
    }
   },
   "outputs": [
    {
     "data": {
      "text/html": [
       "<div>\n",
       "<style scoped>\n",
       "    .dataframe tbody tr th:only-of-type {\n",
       "        vertical-align: middle;\n",
       "    }\n",
       "\n",
       "    .dataframe tbody tr th {\n",
       "        vertical-align: top;\n",
       "    }\n",
       "\n",
       "    .dataframe thead th {\n",
       "        text-align: right;\n",
       "    }\n",
       "</style>\n",
       "<table border=\"1\" class=\"dataframe\">\n",
       "  <thead>\n",
       "    <tr style=\"text-align: right;\">\n",
       "      <th></th>\n",
       "      <th>UserId</th>\n",
       "      <th>MovieId</th>\n",
       "      <th>Rating</th>\n",
       "      <th>Prediction</th>\n",
       "      <th>Similarity</th>\n",
       "    </tr>\n",
       "    <tr>\n",
       "      <th>Id</th>\n",
       "      <th></th>\n",
       "      <th></th>\n",
       "      <th></th>\n",
       "      <th></th>\n",
       "      <th></th>\n",
       "    </tr>\n",
       "  </thead>\n",
       "  <tbody>\n",
       "    <tr>\n",
       "      <th>r5062_c706</th>\n",
       "      <td>5061</td>\n",
       "      <td>705</td>\n",
       "      <td>2</td>\n",
       "      <td>3.450599</td>\n",
       "      <td>0.026031</td>\n",
       "    </tr>\n",
       "    <tr>\n",
       "      <th>r9044_c148</th>\n",
       "      <td>9043</td>\n",
       "      <td>147</td>\n",
       "      <td>4</td>\n",
       "      <td>4.058141</td>\n",
       "      <td>0.037758</td>\n",
       "    </tr>\n",
       "    <tr>\n",
       "      <th>r1736_c169</th>\n",
       "      <td>1735</td>\n",
       "      <td>168</td>\n",
       "      <td>4</td>\n",
       "      <td>4.497718</td>\n",
       "      <td>0.032954</td>\n",
       "    </tr>\n",
       "    <tr>\n",
       "      <th>r5270_c877</th>\n",
       "      <td>5269</td>\n",
       "      <td>876</td>\n",
       "      <td>1</td>\n",
       "      <td>3.470415</td>\n",
       "      <td>0.031948</td>\n",
       "    </tr>\n",
       "    <tr>\n",
       "      <th>r6100_c691</th>\n",
       "      <td>6099</td>\n",
       "      <td>690</td>\n",
       "      <td>4</td>\n",
       "      <td>3.759279</td>\n",
       "      <td>0.026318</td>\n",
       "    </tr>\n",
       "  </tbody>\n",
       "</table>\n",
       "</div>"
      ],
      "text/plain": [
       "            UserId  MovieId  Rating  Prediction  Similarity\n",
       "Id                                                         \n",
       "r5062_c706    5061      705       2    3.450599    0.026031\n",
       "r9044_c148    9043      147       4    4.058141    0.037758\n",
       "r1736_c169    1735      168       4    4.497718    0.032954\n",
       "r5270_c877    5269      876       1    3.470415    0.031948\n",
       "r6100_c691    6099      690       4    3.759279    0.026318"
      ]
     },
     "execution_count": 76,
     "metadata": {},
     "output_type": "execute_result"
    }
   ],
   "source": [
    "val_data.head()"
   ]
  },
  {
   "cell_type": "code",
   "execution_count": null,
   "metadata": {
    "ExecuteTime": {
     "end_time": "2023-07-16T12:55:02.207573Z",
     "start_time": "2023-07-16T12:55:02.166039Z"
    }
   },
   "outputs": [
    {
     "name": "stdout",
     "output_type": "stream",
     "text": [
      "Dummy RMSE: 1.4112094086052875\n",
      "Mean RMSE: 1.148036283409983\n",
      "Movie Mean RMSE: 1.0309495525701207\n",
      "KNN RMSE: 0.9925058600964632\n"
     ]
    }
   ],
   "source": [
    "# compute rmse using sklearn\n",
    "rmse_3 = mean_squared_error(val_data['Rating'], 3 * np.ones(val_data.shape[0]), squared=False)\n",
    "rmse_mean_overall = mean_squared_error(val_data['Rating'], train_mean.mean() * np.ones(val_data.shape[0]), squared=False)\n",
    "rmse_mean = mean_squared_error(val_data['Rating'], train_mean[val_data.MovieId], squared=False)\n",
    "rmse_knn = mean_squared_error(val_data['Rating'], val_data['Prediction'], squared=False)\n",
    "print('Dummy RMSE: {}'.format(rmse_3))\n",
    "print('Mean RMSE: {}'.format(rmse_mean_overall))\n",
    "print('Movie Mean RMSE: {}'.format(rmse_mean))\n",
    "print('KNN RMSE: {}'.format(rmse_knn))"
   ]
  },
  {
   "cell_type": "code",
   "execution_count": null,
   "metadata": {},
   "outputs": [],
   "source": [
    "val_data['Prediction'].to_csv(f\"../../delivery/outputs/KNN/predictions_knn_val.csv\")"
   ]
  },
  {
   "cell_type": "code",
   "execution_count": null,
   "metadata": {},
   "outputs": [],
   "source": [
    "val_data['Similarity'].to_csv(f\"../../delivery/outputs/KNN/similarity_knn_val.csv\")"
   ]
  },
  {
   "cell_type": "markdown",
   "metadata": {
    "collapsed": false
   },
   "source": [
    "# make test predictions"
   ]
  },
  {
   "cell_type": "code",
   "execution_count": null,
   "metadata": {
    "ExecuteTime": {
     "end_time": "2023-07-16T15:01:52.791065Z",
     "start_time": "2023-07-16T15:01:52.785484Z"
    },
    "collapsed": false
   },
   "outputs": [],
   "source": [
    "def load_cil(dataset=\"split\"):\n",
    "\n",
    "    file = \"data_train\" if dataset != \"test\" else \"sampleSubmission\"\n",
    "    data = pd.read_csv(f'../../delivery/data/{file}.csv', index_col=0)\n",
    "    data['UserId'] = data.index.str.split('_').str[0].str[1:].astype('int32')\n",
    "    data['MovieId'] = data.index.str.split('_').str[1].str[1:].astype('int32')\n",
    "    data.rename(columns={'Prediction': 'rating'}, inplace=True)\n",
    "    data['rating'] = data['rating'].astype('uint8')\n",
    "    data = data[['UserId', 'MovieId', 'rating']]\n",
    "\n",
    "    data['UserId'] = data['UserId'] - 1\n",
    "    data['MovieId'] = data['MovieId'] - 1\n",
    "    print(\"Subtracted {} from user and movie\".format(1))\n",
    "\n",
    "    user_num = 10000  # int(data['user'].max() + 1)\n",
    "    movie_num = 1000  # int(data['movie'].max() + 1)\n",
    "    print(\"User num: {}, Movie num: {}\".format(user_num, movie_num))\n",
    "\n",
    "    train_data = val_data = None\n",
    "    if dataset == \"test\":\n",
    "        val_data = data\n",
    "    elif dataset == \"train\":\n",
    "        train_data = data\n",
    "    else:\n",
    "        train_data, val_data = train_test_split(data, test_size=0.2, random_state=42)\n",
    "\n",
    "    return train_data, val_data, user_num, movie_num"
   ]
  },
  {
   "cell_type": "code",
   "execution_count": null,
   "metadata": {
    "ExecuteTime": {
     "end_time": "2023-07-16T15:01:59.025146Z",
     "start_time": "2023-07-16T15:01:56.250831Z"
    },
    "collapsed": false
   },
   "outputs": [
    {
     "name": "stdout",
     "output_type": "stream",
     "text": [
      "Subtracted 1 from user and movie\n",
      "User num: 10000, Movie num: 1000\n"
     ]
    }
   ],
   "source": [
    "_, test_data, _, _ = load_cil(dataset=\"test\")"
   ]
  },
  {
   "cell_type": "code",
   "execution_count": null,
   "metadata": {
    "ExecuteTime": {
     "end_time": "2023-07-16T14:56:27.846543Z",
     "start_time": "2023-07-16T14:56:27.838016Z"
    },
    "collapsed": false
   },
   "outputs": [
    {
     "name": "stdout",
     "output_type": "stream",
     "text": [
      "         user  movie  rating\n",
      "Id                          \n",
      "r37_c1     36      0       3\n",
      "r73_c1     72      0       3\n",
      "r156_c1   155      0       3\n",
      "r160_c1   159      0       3\n",
      "r248_c1   247      0       3\n"
     ]
    }
   ],
   "source": [
    "print(test_data.head())"
   ]
  },
  {
   "cell_type": "code",
   "execution_count": null,
   "metadata": {
    "ExecuteTime": {
     "end_time": "2023-07-16T14:59:01.414496Z",
     "start_time": "2023-07-16T14:59:01.064577Z"
    },
    "collapsed": false
   },
   "outputs": [],
   "source": [
    "train_data = data\n",
    "normalize_by = \"MovieId\"\n",
    "train_mean = train_data.groupby(by=normalize_by)['Rating'].mean()\n",
    "train_std = train_data.groupby(by=normalize_by)['Rating'].std()\n",
    "train_data.Rating = (train_data.Rating - train_mean.values[train_data[normalize_by]])/train_std.values[train_data[normalize_by]]\n",
    "\n",
    "n_rows = train_data['UserId'].max() + 1 # might raise errors if in val set user with larger id\n",
    "n_cols = train_data['MovieId'].max() + 1 # might raise errors if in val set movie with larger id\n",
    "train_matrix = get_sparse_matrix(train_data, n_rows, n_cols)\n",
    "\n",
    "similarities = cosine_similarity(train_matrix.T, train_matrix.T)"
   ]
  },
  {
   "cell_type": "code",
   "execution_count": null,
   "metadata": {
    "ExecuteTime": {
     "end_time": "2023-07-16T15:08:38.998966Z",
     "start_time": "2023-07-16T15:02:02.379604Z"
    },
    "collapsed": false
   },
   "outputs": [
    {
     "name": "stderr",
     "output_type": "stream",
     "text": [
      "100%|██████████| 1176952/1176952 [06:36<00:00, 2967.53it/s]\n"
     ]
    }
   ],
   "source": [
    "best_k = 26\n",
    "predictions, similarity_scores  = make_predictions(best_k, test_data, train_std, train_mean)\n",
    "test_data['Prediction'] = predictions\n",
    "test_data['Similarity'] = similarity_scores"
   ]
  },
  {
   "cell_type": "code",
   "execution_count": null,
   "metadata": {
    "ExecuteTime": {
     "end_time": "2023-07-16T15:08:44.132911Z",
     "start_time": "2023-07-16T15:08:42.031160Z"
    },
    "collapsed": false
   },
   "outputs": [],
   "source": [
    "test_data['Prediction'].to_csv(f\"../../delivery/outputs/KNN/predictions_knn_test.csv\")\n",
    "test_data['Similarity'].to_csv(f\"../../delivery/outputs/KNN/similarity_knn_test.csv\")"
   ]
  }
 ],
 "metadata": {
  "kernelspec": {
   "display_name": "Python 3 (ipykernel)",
   "language": "python",
   "name": "python3"
  },
  "language_info": {
   "codemirror_mode": {
    "name": "ipython",
    "version": 3
   },
   "file_extension": ".py",
   "mimetype": "text/x-python",
   "name": "python",
   "nbconvert_exporter": "python",
   "pygments_lexer": "ipython3",
   "version": "3.9.7"
  }
 },
 "nbformat": 4,
 "nbformat_minor": 1
}
