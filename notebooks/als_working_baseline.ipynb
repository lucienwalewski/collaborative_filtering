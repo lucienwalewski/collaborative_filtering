{
 "cells": [
  {
   "cell_type": "code",
   "execution_count": 1,
   "metadata": {
    "ExecuteTime": {
     "end_time": "2023-05-20T14:38:35.386938Z",
     "start_time": "2023-05-20T14:38:34.563452Z"
    },
    "collapsed": true
   },
   "outputs": [],
   "source": [
    "import pandas as pd\n",
    "from sklearn.model_selection import train_test_split\n",
    "from scipy.sparse import csr_matrix\n",
    "import numpy as np\n",
    "import matplotlib.pyplot as plt\n",
    "from tqdm.auto import tqdm"
   ]
  },
  {
   "cell_type": "markdown",
   "metadata": {},
   "source": [
    "# Data Preprocessing"
   ]
  },
  {
   "cell_type": "code",
   "execution_count": 2,
   "metadata": {
    "ExecuteTime": {
     "end_time": "2023-05-20T14:38:40.157958Z",
     "start_time": "2023-05-20T14:38:37.457426Z"
    }
   },
   "outputs": [],
   "source": [
    "data = pd.read_csv('../data/data_train.csv', index_col=0)\n",
    "\n",
    "# rename column and turn ot uint8\n",
    "data.rename(columns={'Prediction': 'Rating'}, inplace=True)\n",
    "data['Rating'] = data['Rating'].astype('uint8')\n",
    "\n",
    "# get user and movie id by splitting index given in format rX_cY\n",
    "data['UserId'] = data.index.str.split('_').str[0].str[1:].astype('int32')\n",
    "data['MovieId'] = data.index.str.split('_').str[1].str[1:].astype('int32')\n",
    "\n",
    "# subtract min UserId and MovieID to get indices starting at 0\n",
    "data['UserId'] = data['UserId'] - data['UserId'].min()\n",
    "data['MovieId'] = data['MovieId'] - data['MovieId'].min()\n",
    "\n",
    "# reorder columns to UserId, MovieId, Rating\n",
    "data = data[['UserId', 'MovieId', 'Rating']]\n",
    "\n",
    "# split into train and val data\n",
    "train_data, val_data = train_test_split(data, test_size=0.2, random_state=42)"
   ]
  },
  {
   "cell_type": "code",
   "execution_count": 3,
   "metadata": {
    "ExecuteTime": {
     "end_time": "2023-05-20T14:38:41.108815Z",
     "start_time": "2023-05-20T14:38:41.053365Z"
    }
   },
   "outputs": [
    {
     "data": {
      "text/html": [
       "<div>\n",
       "<style scoped>\n",
       "    .dataframe tbody tr th:only-of-type {\n",
       "        vertical-align: middle;\n",
       "    }\n",
       "\n",
       "    .dataframe tbody tr th {\n",
       "        vertical-align: top;\n",
       "    }\n",
       "\n",
       "    .dataframe thead th {\n",
       "        text-align: right;\n",
       "    }\n",
       "</style>\n",
       "<table border=\"1\" class=\"dataframe\">\n",
       "  <thead>\n",
       "    <tr style=\"text-align: right;\">\n",
       "      <th></th>\n",
       "      <th>UserId</th>\n",
       "      <th>MovieId</th>\n",
       "      <th>Rating</th>\n",
       "    </tr>\n",
       "    <tr>\n",
       "      <th>Id</th>\n",
       "      <th></th>\n",
       "      <th></th>\n",
       "      <th></th>\n",
       "    </tr>\n",
       "  </thead>\n",
       "  <tbody>\n",
       "    <tr>\n",
       "      <th>r5874_c663</th>\n",
       "      <td>5873</td>\n",
       "      <td>662</td>\n",
       "      <td>5</td>\n",
       "    </tr>\n",
       "    <tr>\n",
       "      <th>r4711_c367</th>\n",
       "      <td>4710</td>\n",
       "      <td>366</td>\n",
       "      <td>4</td>\n",
       "    </tr>\n",
       "    <tr>\n",
       "      <th>r2539_c435</th>\n",
       "      <td>2538</td>\n",
       "      <td>434</td>\n",
       "      <td>1</td>\n",
       "    </tr>\n",
       "    <tr>\n",
       "      <th>r7737_c558</th>\n",
       "      <td>7736</td>\n",
       "      <td>557</td>\n",
       "      <td>2</td>\n",
       "    </tr>\n",
       "    <tr>\n",
       "      <th>r9631_c791</th>\n",
       "      <td>9630</td>\n",
       "      <td>790</td>\n",
       "      <td>5</td>\n",
       "    </tr>\n",
       "  </tbody>\n",
       "</table>\n",
       "</div>"
      ],
      "text/plain": [
       "            UserId  MovieId  Rating\n",
       "Id                                 \n",
       "r5874_c663    5873      662       5\n",
       "r4711_c367    4710      366       4\n",
       "r2539_c435    2538      434       1\n",
       "r7737_c558    7736      557       2\n",
       "r9631_c791    9630      790       5"
      ]
     },
     "execution_count": 3,
     "metadata": {},
     "output_type": "execute_result"
    }
   ],
   "source": [
    "train_data.head()"
   ]
  },
  {
   "cell_type": "code",
   "execution_count": 4,
   "metadata": {
    "ExecuteTime": {
     "end_time": "2023-05-02T17:34:52.995698Z",
     "start_time": "2023-05-02T17:34:52.926879Z"
    }
   },
   "outputs": [
    {
     "data": {
      "text/html": [
       "<div>\n",
       "<style scoped>\n",
       "    .dataframe tbody tr th:only-of-type {\n",
       "        vertical-align: middle;\n",
       "    }\n",
       "\n",
       "    .dataframe tbody tr th {\n",
       "        vertical-align: top;\n",
       "    }\n",
       "\n",
       "    .dataframe thead th {\n",
       "        text-align: right;\n",
       "    }\n",
       "</style>\n",
       "<table border=\"1\" class=\"dataframe\">\n",
       "  <thead>\n",
       "    <tr style=\"text-align: right;\">\n",
       "      <th></th>\n",
       "      <th>UserId</th>\n",
       "      <th>MovieId</th>\n",
       "      <th>Rating</th>\n",
       "    </tr>\n",
       "  </thead>\n",
       "  <tbody>\n",
       "    <tr>\n",
       "      <th>count</th>\n",
       "      <td>941561.000000</td>\n",
       "      <td>941561.000000</td>\n",
       "      <td>941561.000000</td>\n",
       "    </tr>\n",
       "    <tr>\n",
       "      <th>mean</th>\n",
       "      <td>5149.112369</td>\n",
       "      <td>482.580407</td>\n",
       "      <td>3.856588</td>\n",
       "    </tr>\n",
       "    <tr>\n",
       "      <th>std</th>\n",
       "      <td>2918.447452</td>\n",
       "      <td>274.174986</td>\n",
       "      <td>1.119108</td>\n",
       "    </tr>\n",
       "    <tr>\n",
       "      <th>min</th>\n",
       "      <td>0.000000</td>\n",
       "      <td>0.000000</td>\n",
       "      <td>1.000000</td>\n",
       "    </tr>\n",
       "    <tr>\n",
       "      <th>25%</th>\n",
       "      <td>2602.000000</td>\n",
       "      <td>246.000000</td>\n",
       "      <td>3.000000</td>\n",
       "    </tr>\n",
       "    <tr>\n",
       "      <th>50%</th>\n",
       "      <td>5247.000000</td>\n",
       "      <td>493.000000</td>\n",
       "      <td>4.000000</td>\n",
       "    </tr>\n",
       "    <tr>\n",
       "      <th>75%</th>\n",
       "      <td>7734.000000</td>\n",
       "      <td>690.000000</td>\n",
       "      <td>5.000000</td>\n",
       "    </tr>\n",
       "    <tr>\n",
       "      <th>max</th>\n",
       "      <td>9999.000000</td>\n",
       "      <td>999.000000</td>\n",
       "      <td>5.000000</td>\n",
       "    </tr>\n",
       "  </tbody>\n",
       "</table>\n",
       "</div>"
      ],
      "text/plain": [
       "              UserId        MovieId         Rating\n",
       "count  941561.000000  941561.000000  941561.000000\n",
       "mean     5149.112369     482.580407       3.856588\n",
       "std      2918.447452     274.174986       1.119108\n",
       "min         0.000000       0.000000       1.000000\n",
       "25%      2602.000000     246.000000       3.000000\n",
       "50%      5247.000000     493.000000       4.000000\n",
       "75%      7734.000000     690.000000       5.000000\n",
       "max      9999.000000     999.000000       5.000000"
      ]
     },
     "execution_count": 4,
     "metadata": {},
     "output_type": "execute_result"
    }
   ],
   "source": [
    "train_data.describe()"
   ]
  },
  {
   "cell_type": "code",
   "execution_count": 5,
   "metadata": {
    "ExecuteTime": {
     "end_time": "2023-05-02T17:34:54.657327Z",
     "start_time": "2023-05-02T17:34:54.650500Z"
    }
   },
   "outputs": [],
   "source": [
    "train_mean = train_data.groupby(by=\"UserId\")['Rating'].mean()\n",
    "train_std = train_data.groupby(by=\"UserId\")['Rating'].std()\n",
    "\n",
    "train_mean_repeat = np.repeat(train_mean.values, train_data.groupby(by=\"UserId\")['Rating'].count())\n",
    "train_std_repeat = np.repeat(train_std.values, train_data.groupby(by=\"UserId\")['Rating'].count())\n",
    "\n",
    "train_data.sort_values(by=\"UserId\")\n",
    "\n",
    "train_data.Rating = (train_data.Rating - train_mean_repeat)/train_std_repeat"
   ]
  },
  {
   "cell_type": "code",
   "execution_count": 6,
   "metadata": {
    "ExecuteTime": {
     "end_time": "2023-05-02T17:34:56.353916Z",
     "start_time": "2023-05-02T17:34:56.307563Z"
    }
   },
   "outputs": [],
   "source": [
    "# function to get sparse matrix from data given as a dataframe with row and column indices\n",
    "def get_sparse_matrix(data, n_rows, n_cols):\n",
    "    return csr_matrix((data['Rating'].values, (data['UserId'].values, data['MovieId'].values)), shape=(n_rows, n_cols))\n",
    "\n",
    "n_rows = train_data['UserId'].max() + 1 # might raise errors if in val set user with larger id\n",
    "n_cols = train_data['MovieId'].max() + 1 # might raise errors if in val set movie with larger id\n",
    "train_matrix = get_sparse_matrix(train_data, n_rows, n_cols)"
   ]
  },
  {
   "cell_type": "code",
   "execution_count": 7,
   "metadata": {
    "ExecuteTime": {
     "end_time": "2023-05-02T17:34:57.849990Z",
     "start_time": "2023-05-02T17:34:57.774961Z"
    }
   },
   "outputs": [
    {
     "data": {
      "image/png": "[encoded data removed]",
      "text/plain": [
       "<Figure size 640x480 with 1 Axes>"
      ]
     },
     "metadata": {},
     "output_type": "display_data"
    }
   ],
   "source": [
    "# plot sparse matrix\n",
    "plt.spy(train_matrix[:100,:100], markersize=0.1)\n",
    "plt.show()"
   ]
  },
  {
   "cell_type": "markdown",
   "metadata": {},
   "source": [
    "# ALS algorithm"
   ]
  },
  {
   "cell_type": "code",
   "execution_count": 8,
   "metadata": {
    "ExecuteTime": {
     "end_time": "2023-05-02T17:36:27.021013Z",
     "start_time": "2023-05-02T17:36:13.596809Z"
    }
   },
   "outputs": [],
   "source": [
    "# function to compute loss\n",
    "def loss_func(U, V, A, lam):\n",
    "    loss = 0\n",
    "    for row in range(n_rows):\n",
    "        for col in range(n_cols):\n",
    "            if A[row,col]:\n",
    "                loss += (A[row,col] - U[row,:] @ V[:,col])**2\n",
    "    loss += lam * (np.linalg.norm(U)**2 + np.linalg.norm(V)**2)\n",
    "    return loss"
   ]
  },
  {
   "cell_type": "code",
   "execution_count": 9,
   "metadata": {},
   "outputs": [],
   "source": [
    "rank = 20 # number of latent factors\n",
    "lam = 0.1 # regularization parameter\n",
    "\n",
    "# only consider subset\n",
    "n_rows, n_cols = 1000, 100\n",
    "\n",
    "# initialize U and V\n",
    "A = train_matrix[:n_rows, :n_cols]\n",
    "U = np.random.rand(n_rows, rank)\n",
    "V = np.random.rand(rank, n_cols)\n",
    "\n",
    "# function to make one step\n",
    "def make_step(U, V, A, lam):\n",
    "    for i in tqdm(range(n_rows)):\n",
    "        U[i] = np.linalg.inv(np.sum([np.where(A[i, j], np.expand_dims(V[:, j], 1) @ np.expand_dims(V[:, j], 1).T, 0) for j in range(n_cols)], axis=0) + lam * np.identity(rank)) @ np.sum([np.where(A[i, j], A[i, j] * V[:, j], 0) for j in range(n_cols)], axis=0)\n",
    "    for j in tqdm(range(n_cols)):\n",
    "        V.T[j] = np.linalg.inv(np.sum([np.where(A[i, j], np.expand_dims(U[i], 1) @ np.expand_dims(U[i], 1).T, 0) for i in range(n_rows)], axis=0) + lam * np.identity(rank)) @ np.sum([np.where(A[i, j], A[i, j] * U[i], 0) for i in range(n_rows)], axis=0)"
   ]
  },
  {
   "cell_type": "code",
   "execution_count": 10,
   "metadata": {},
   "outputs": [
    {
     "data": {
      "application/vnd.jupyter.widget-view+json": {
       "model_id": "3fd93db7cb444b6dac7e77d7ca5ecff9",
       "version_major": 2,
       "version_minor": 0
      },
      "text/plain": [
       "  0%|          | 0/1000 [00:00<?, ?it/s]"
      ]
     },
     "metadata": {},
     "output_type": "display_data"
    },
    {
     "data": {
      "application/vnd.jupyter.widget-view+json": {
       "model_id": "be14b4eadfc24ec7aaf4661c37b19a41",
       "version_major": 2,
       "version_minor": 0
      },
      "text/plain": [
       "  0%|          | 0/100 [00:00<?, ?it/s]"
      ]
     },
     "metadata": {},
     "output_type": "display_data"
    },
    {
     "name": "stdout",
     "output_type": "stream",
     "text": [
      "Step: 0, Loss: 1437.1768138248976\n"
     ]
    },
    {
     "data": {
      "application/vnd.jupyter.widget-view+json": {
       "model_id": "97cc113cac144147adf9fdc5fc40e8c2",
       "version_major": 2,
       "version_minor": 0
      },
      "text/plain": [
       "  0%|          | 0/1000 [00:00<?, ?it/s]"
      ]
     },
     "metadata": {},
     "output_type": "display_data"
    },
    {
     "data": {
      "application/vnd.jupyter.widget-view+json": {
       "model_id": "f215b221ad544b0d88659d337a658cd5",
       "version_major": 2,
       "version_minor": 0
      },
      "text/plain": [
       "  0%|          | 0/100 [00:00<?, ?it/s]"
      ]
     },
     "metadata": {},
     "output_type": "display_data"
    },
    {
     "name": "stdout",
     "output_type": "stream",
     "text": [
      "Step: 1, Loss: 1031.8038683828913\n"
     ]
    },
    {
     "data": {
      "application/vnd.jupyter.widget-view+json": {
       "model_id": "93caaf32f0934305a8ee2a51ae74c272",
       "version_major": 2,
       "version_minor": 0
      },
      "text/plain": [
       "  0%|          | 0/1000 [00:00<?, ?it/s]"
      ]
     },
     "metadata": {},
     "output_type": "display_data"
    },
    {
     "data": {
      "application/vnd.jupyter.widget-view+json": {
       "model_id": "1ddd763c394140bd84c60032059e0f90",
       "version_major": 2,
       "version_minor": 0
      },
      "text/plain": [
       "  0%|          | 0/100 [00:00<?, ?it/s]"
      ]
     },
     "metadata": {},
     "output_type": "display_data"
    },
    {
     "name": "stdout",
     "output_type": "stream",
     "text": [
      "Step: 2, Loss: 840.1545446373515\n"
     ]
    },
    {
     "data": {
      "application/vnd.jupyter.widget-view+json": {
       "model_id": "0926100ab2ce473da536667073ebe17c",
       "version_major": 2,
       "version_minor": 0
      },
      "text/plain": [
       "  0%|          | 0/1000 [00:00<?, ?it/s]"
      ]
     },
     "metadata": {},
     "output_type": "display_data"
    },
    {
     "data": {
      "application/vnd.jupyter.widget-view+json": {
       "model_id": "c91bf5ff1fab43eba45d9ba450c43c2a",
       "version_major": 2,
       "version_minor": 0
      },
      "text/plain": [
       "  0%|          | 0/100 [00:00<?, ?it/s]"
      ]
     },
     "metadata": {},
     "output_type": "display_data"
    },
    {
     "name": "stdout",
     "output_type": "stream",
     "text": [
      "Step: 3, Loss: 722.7136273766541\n"
     ]
    },
    {
     "data": {
      "application/vnd.jupyter.widget-view+json": {
       "model_id": "f69c7280c08148f79bc618a4de86eefe",
       "version_major": 2,
       "version_minor": 0
      },
      "text/plain": [
       "  0%|          | 0/1000 [00:00<?, ?it/s]"
      ]
     },
     "metadata": {},
     "output_type": "display_data"
    },
    {
     "data": {
      "application/vnd.jupyter.widget-view+json": {
       "model_id": "916acf016fe147ae8a5d8f3fc08ddae6",
       "version_major": 2,
       "version_minor": 0
      },
      "text/plain": [
       "  0%|          | 0/100 [00:00<?, ?it/s]"
      ]
     },
     "metadata": {},
     "output_type": "display_data"
    },
    {
     "name": "stdout",
     "output_type": "stream",
     "text": [
      "Step: 4, Loss: 641.205543744686\n"
     ]
    },
    {
     "data": {
      "application/vnd.jupyter.widget-view+json": {
       "model_id": "4f30b15916bf41d5ad6538b295676f63",
       "version_major": 2,
       "version_minor": 0
      },
      "text/plain": [
       "  0%|          | 0/1000 [00:00<?, ?it/s]"
      ]
     },
     "metadata": {},
     "output_type": "display_data"
    },
    {
     "data": {
      "application/vnd.jupyter.widget-view+json": {
       "model_id": "c1fd87747ba54cbab222da92287256b5",
       "version_major": 2,
       "version_minor": 0
      },
      "text/plain": [
       "  0%|          | 0/100 [00:00<?, ?it/s]"
      ]
     },
     "metadata": {},
     "output_type": "display_data"
    },
    {
     "name": "stdout",
     "output_type": "stream",
     "text": [
      "Step: 5, Loss: 580.7801972090323\n"
     ]
    },
    {
     "data": {
      "application/vnd.jupyter.widget-view+json": {
       "model_id": "f98fb26b98a347189b7e46c497628d52",
       "version_major": 2,
       "version_minor": 0
      },
      "text/plain": [
       "  0%|          | 0/1000 [00:00<?, ?it/s]"
      ]
     },
     "metadata": {},
     "output_type": "display_data"
    },
    {
     "data": {
      "application/vnd.jupyter.widget-view+json": {
       "model_id": "2eee57fe857c469eb1dc3e6af7ac10ae",
       "version_major": 2,
       "version_minor": 0
      },
      "text/plain": [
       "  0%|          | 0/100 [00:00<?, ?it/s]"
      ]
     },
     "metadata": {},
     "output_type": "display_data"
    },
    {
     "name": "stdout",
     "output_type": "stream",
     "text": [
      "Step: 6, Loss: 534.0206515973806\n"
     ]
    },
    {
     "data": {
      "application/vnd.jupyter.widget-view+json": {
       "model_id": "3187a0a1460841958c8db4ea5594cf3f",
       "version_major": 2,
       "version_minor": 0
      },
      "text/plain": [
       "  0%|          | 0/1000 [00:00<?, ?it/s]"
      ]
     },
     "metadata": {},
     "output_type": "display_data"
    },
    {
     "data": {
      "application/vnd.jupyter.widget-view+json": {
       "model_id": "20c21bcf8bbf4c5aad2b7a399ace1973",
       "version_major": 2,
       "version_minor": 0
      },
      "text/plain": [
       "  0%|          | 0/100 [00:00<?, ?it/s]"
      ]
     },
     "metadata": {},
     "output_type": "display_data"
    },
    {
     "name": "stdout",
     "output_type": "stream",
     "text": [
      "Step: 7, Loss: 496.69688745401834\n"
     ]
    },
    {
     "data": {
      "application/vnd.jupyter.widget-view+json": {
       "model_id": "fa8871cbc4ba423ca97e9c3f90fee7fb",
       "version_major": 2,
       "version_minor": 0
      },
      "text/plain": [
       "  0%|          | 0/1000 [00:00<?, ?it/s]"
      ]
     },
     "metadata": {},
     "output_type": "display_data"
    },
    {
     "data": {
      "application/vnd.jupyter.widget-view+json": {
       "model_id": "e78e496b661449e78abb18d8bc4c2c13",
       "version_major": 2,
       "version_minor": 0
      },
      "text/plain": [
       "  0%|          | 0/100 [00:00<?, ?it/s]"
      ]
     },
     "metadata": {},
     "output_type": "display_data"
    },
    {
     "name": "stdout",
     "output_type": "stream",
     "text": [
      "Step: 8, Loss: 466.17828864413127\n"
     ]
    },
    {
     "data": {
      "application/vnd.jupyter.widget-view+json": {
       "model_id": "c25a029d258146a6ba4711e47739cae1",
       "version_major": 2,
       "version_minor": 0
      },
      "text/plain": [
       "  0%|          | 0/1000 [00:00<?, ?it/s]"
      ]
     },
     "metadata": {},
     "output_type": "display_data"
    },
    {
     "data": {
      "application/vnd.jupyter.widget-view+json": {
       "model_id": "deb35cd0bc7e442dbe2874d651924fe0",
       "version_major": 2,
       "version_minor": 0
      },
      "text/plain": [
       "  0%|          | 0/100 [00:00<?, ?it/s]"
      ]
     },
     "metadata": {},
     "output_type": "display_data"
    },
    {
     "name": "stdout",
     "output_type": "stream",
     "text": [
      "Step: 9, Loss: 440.7481601320525\n"
     ]
    }
   ],
   "source": [
    "# make steps until convergence\n",
    "losses = []\n",
    "for i in range(10):\n",
    "    make_step(U, V, A, lam)\n",
    "    loss = loss_func(U, V, A, lam)\n",
    "    losses.append(loss)\n",
    "    print('Step: {}, Loss: {}'.format(i, loss))"
   ]
  },
  {
   "cell_type": "markdown",
   "metadata": {},
   "source": [
    "We try a more efficient approach"
   ]
  },
  {
   "cell_type": "code",
   "execution_count": null,
   "metadata": {},
   "outputs": [],
   "source": [
    "# TODO: Update make_step to remove for loops\n",
    "# TODO: Update loss function implementation"
   ]
  },
  {
   "cell_type": "code",
   "execution_count": 13,
   "metadata": {},
   "outputs": [
    {
     "data": {
      "text/html": [
       "<div>\n",
       "<style scoped>\n",
       "    .dataframe tbody tr th:only-of-type {\n",
       "        vertical-align: middle;\n",
       "    }\n",
       "\n",
       "    .dataframe tbody tr th {\n",
       "        vertical-align: top;\n",
       "    }\n",
       "\n",
       "    .dataframe thead th {\n",
       "        text-align: right;\n",
       "    }\n",
       "</style>\n",
       "<table border=\"1\" class=\"dataframe\">\n",
       "  <thead>\n",
       "    <tr style=\"text-align: right;\">\n",
       "      <th></th>\n",
       "      <th>UserId</th>\n",
       "      <th>MovieId</th>\n",
       "      <th>Prediction</th>\n",
       "    </tr>\n",
       "    <tr>\n",
       "      <th>idx</th>\n",
       "      <th></th>\n",
       "      <th></th>\n",
       "      <th></th>\n",
       "    </tr>\n",
       "  </thead>\n",
       "  <tbody>\n",
       "    <tr>\n",
       "      <th>r0_c0</th>\n",
       "      <td>0</td>\n",
       "      <td>0</td>\n",
       "      <td>4.0</td>\n",
       "    </tr>\n",
       "    <tr>\n",
       "      <th>r0_c1</th>\n",
       "      <td>0</td>\n",
       "      <td>1</td>\n",
       "      <td>4.0</td>\n",
       "    </tr>\n",
       "    <tr>\n",
       "      <th>r0_c2</th>\n",
       "      <td>0</td>\n",
       "      <td>2</td>\n",
       "      <td>4.0</td>\n",
       "    </tr>\n",
       "    <tr>\n",
       "      <th>r0_c3</th>\n",
       "      <td>0</td>\n",
       "      <td>3</td>\n",
       "      <td>5.0</td>\n",
       "    </tr>\n",
       "    <tr>\n",
       "      <th>r0_c4</th>\n",
       "      <td>0</td>\n",
       "      <td>4</td>\n",
       "      <td>4.0</td>\n",
       "    </tr>\n",
       "  </tbody>\n",
       "</table>\n",
       "</div>"
      ],
      "text/plain": [
       "       UserId  MovieId  Prediction\n",
       "idx                               \n",
       "r0_c0       0        0         4.0\n",
       "r0_c1       0        1         4.0\n",
       "r0_c2       0        2         4.0\n",
       "r0_c3       0        3         5.0\n",
       "r0_c4       0        4         4.0"
      ]
     },
     "execution_count": 13,
     "metadata": {},
     "output_type": "execute_result"
    }
   ],
   "source": [
    "prediction_matrix = U @ V\n",
    "\n",
    "# make dataframe out of flatten matrix with features UserId and MovieId\n",
    "prediction_df = pd.DataFrame(prediction_matrix.flatten(), columns=['Prediction'])\n",
    "prediction_df['UserId'] = np.repeat(np.arange(n_rows), n_cols)\n",
    "prediction_df['MovieId'] = np.tile(np.arange(n_cols), n_rows)\n",
    "prediction_df = prediction_df[['UserId', 'MovieId', 'Prediction']]\n",
    "\n",
    "# set idx to format rX_cY\n",
    "prediction_df['idx'] = 'r' + prediction_df['UserId'].astype('str') + '_c' + prediction_df['MovieId'].astype('str')\n",
    "prediction_df = prediction_df.set_index('idx')\n",
    "\n",
    "# revert standardization\n",
    "prediction_df['Prediction'] = np.rint(prediction_df['Prediction'] * train_std.values[prediction_df.UserId] + train_mean.values[prediction_df.UserId])\n",
    "prediction_df.head()"
   ]
  },
  {
   "cell_type": "code",
   "execution_count": 14,
   "metadata": {},
   "outputs": [
    {
     "data": {
      "text/html": [
       "<div>\n",
       "<style scoped>\n",
       "    .dataframe tbody tr th:only-of-type {\n",
       "        vertical-align: middle;\n",
       "    }\n",
       "\n",
       "    .dataframe tbody tr th {\n",
       "        vertical-align: top;\n",
       "    }\n",
       "\n",
       "    .dataframe thead th {\n",
       "        text-align: right;\n",
       "    }\n",
       "</style>\n",
       "<table border=\"1\" class=\"dataframe\">\n",
       "  <thead>\n",
       "    <tr style=\"text-align: right;\">\n",
       "      <th></th>\n",
       "      <th>UserId</th>\n",
       "      <th>MovieId</th>\n",
       "      <th>Rating</th>\n",
       "      <th>Prediction</th>\n",
       "    </tr>\n",
       "  </thead>\n",
       "  <tbody>\n",
       "    <tr>\n",
       "      <th>r871_c27</th>\n",
       "      <td>870</td>\n",
       "      <td>26</td>\n",
       "      <td>5</td>\n",
       "      <td>5.0</td>\n",
       "    </tr>\n",
       "    <tr>\n",
       "      <th>r981_c46</th>\n",
       "      <td>980</td>\n",
       "      <td>45</td>\n",
       "      <td>3</td>\n",
       "      <td>4.0</td>\n",
       "    </tr>\n",
       "    <tr>\n",
       "      <th>r518_c48</th>\n",
       "      <td>517</td>\n",
       "      <td>47</td>\n",
       "      <td>4</td>\n",
       "      <td>2.0</td>\n",
       "    </tr>\n",
       "    <tr>\n",
       "      <th>r692_c35</th>\n",
       "      <td>691</td>\n",
       "      <td>34</td>\n",
       "      <td>3</td>\n",
       "      <td>4.0</td>\n",
       "    </tr>\n",
       "    <tr>\n",
       "      <th>r81_c15</th>\n",
       "      <td>80</td>\n",
       "      <td>14</td>\n",
       "      <td>3</td>\n",
       "      <td>3.0</td>\n",
       "    </tr>\n",
       "  </tbody>\n",
       "</table>\n",
       "</div>"
      ],
      "text/plain": [
       "          UserId  MovieId  Rating  Prediction\n",
       "r871_c27     870       26       5         5.0\n",
       "r981_c46     980       45       3         4.0\n",
       "r518_c48     517       47       4         2.0\n",
       "r692_c35     691       34       3         4.0\n",
       "r81_c15       80       14       3         3.0"
      ]
     },
     "execution_count": 14,
     "metadata": {},
     "output_type": "execute_result"
    }
   ],
   "source": [
    "val_data_scope = val_data[(val_data['UserId'] < n_rows) & (val_data['MovieId'] < n_cols)]\n",
    "val_data_scope = val_data_scope.merge(prediction_df['Prediction'], left_index=True, right_index=True)\n",
    "val_data_scope.head()"
   ]
  },
  {
   "cell_type": "code",
   "execution_count": 16,
   "metadata": {},
   "outputs": [
    {
     "name": "stdout",
     "output_type": "stream",
     "text": [
      "ALS RMSE: 1.6041455925435981\n"
     ]
    }
   ],
   "source": [
    "from sklearn.metrics import mean_squared_error\n",
    "rmse_als = mean_squared_error(val_data_scope['Rating'], val_data_scope['Prediction'], squared=False)\n",
    "print('ALS RMSE: {}'.format(rmse_als))"
   ]
  }
 ],
 "metadata": {
  "kernelspec": {
   "display_name": "Python 3 (ipykernel)",
   "language": "python",
   "name": "python3"
  },
  "language_info": {
   "codemirror_mode": {
    "name": "ipython",
    "version": 3
   },
   "file_extension": ".py",
   "mimetype": "text/x-python",
   "name": "python",
   "nbconvert_exporter": "python",
   "pygments_lexer": "ipython3",
   "version": "3.9.7"
  }
 },
 "nbformat": 4,
 "nbformat_minor": 1
}
