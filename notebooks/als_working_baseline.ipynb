{
 "cells": [
  {
   "cell_type": "code",
   "execution_count": 1,
   "metadata": {
    "ExecuteTime": {
     "end_time": "2023-05-02T17:34:40.491911Z",
     "start_time": "2023-05-02T17:34:39.868985Z"
    },
    "collapsed": true
   },
   "outputs": [
    {
     "name": "stderr",
     "output_type": "stream",
     "text": [
      "/Users/lucienwalewski/Library/CloudStorage/OneDrive-Personal/ETH/Year 1/Spring/Computational Intelligence Lab/Project/collaborative_filtering/venv/lib/python3.10/site-packages/tqdm/auto.py:21: TqdmWarning: IProgress not found. Please update jupyter and ipywidgets. See https://ipywidgets.readthedocs.io/en/stable/user_install.html\n",
      "  from .autonotebook import tqdm as notebook_tqdm\n"
     ]
    }
   ],
   "source": [
    "import pandas as pd\n",
    "from sklearn.model_selection import train_test_split\n",
    "from scipy.sparse import csr_matrix\n",
    "import numpy as np\n",
    "import matplotlib.pyplot as plt\n",
    "from tqdm.auto import tqdm"
   ]
  },
  {
   "cell_type": "markdown",
   "metadata": {
    "collapsed": false
   },
   "source": [
    "# Data Preprocessing"
   ]
  },
  {
   "cell_type": "code",
   "execution_count": 2,
   "metadata": {
    "ExecuteTime": {
     "end_time": "2023-05-02T17:34:48.789184Z",
     "start_time": "2023-05-02T17:34:45.972282Z"
    },
    "collapsed": false
   },
   "outputs": [],
   "source": [
    "data = pd.read_csv('../data/data_train.csv', index_col=0)\n",
    "\n",
    "# rename column and turn ot uint8\n",
    "data.rename(columns={'Prediction': 'Rating'}, inplace=True)\n",
    "data['Rating'] = data['Rating'].astype('uint8')\n",
    "\n",
    "# get user and movie id by splitting index given in format rX_cY\n",
    "data['UserId'] = data.index.str.split('_').str[0].str[1:].astype('int32')\n",
    "data['MovieId'] = data.index.str.split('_').str[1].str[1:].astype('int32')\n",
    "\n",
    "# subtract min UserId and MovieID to get indices starting at 0\n",
    "data['UserId'] = data['UserId'] - data['UserId'].min()\n",
    "data['MovieId'] = data['MovieId'] - data['MovieId'].min()\n",
    "\n",
    "# reorder columns to UserId, MovieId, Rating\n",
    "data = data[['UserId', 'MovieId', 'Rating']]\n",
    "\n",
    "# split into train and val data\n",
    "train_data, val_data = train_test_split(data, test_size=0.2, random_state=42)"
   ]
  },
  {
   "cell_type": "code",
   "execution_count": 3,
   "metadata": {
    "ExecuteTime": {
     "end_time": "2023-05-02T17:34:51.224466Z",
     "start_time": "2023-05-02T17:34:51.218085Z"
    },
    "collapsed": false
   },
   "outputs": [
    {
     "data": {
      "text/html": [
       "<div>\n",
       "<style scoped>\n",
       "    .dataframe tbody tr th:only-of-type {\n",
       "        vertical-align: middle;\n",
       "    }\n",
       "\n",
       "    .dataframe tbody tr th {\n",
       "        vertical-align: top;\n",
       "    }\n",
       "\n",
       "    .dataframe thead th {\n",
       "        text-align: right;\n",
       "    }\n",
       "</style>\n",
       "<table border=\"1\" class=\"dataframe\">\n",
       "  <thead>\n",
       "    <tr style=\"text-align: right;\">\n",
       "      <th></th>\n",
       "      <th>UserId</th>\n",
       "      <th>MovieId</th>\n",
       "      <th>Rating</th>\n",
       "    </tr>\n",
       "    <tr>\n",
       "      <th>Id</th>\n",
       "      <th></th>\n",
       "      <th></th>\n",
       "      <th></th>\n",
       "    </tr>\n",
       "  </thead>\n",
       "  <tbody>\n",
       "    <tr>\n",
       "      <th>r5874_c663</th>\n",
       "      <td>5873</td>\n",
       "      <td>662</td>\n",
       "      <td>5</td>\n",
       "    </tr>\n",
       "    <tr>\n",
       "      <th>r4711_c367</th>\n",
       "      <td>4710</td>\n",
       "      <td>366</td>\n",
       "      <td>4</td>\n",
       "    </tr>\n",
       "    <tr>\n",
       "      <th>r2539_c435</th>\n",
       "      <td>2538</td>\n",
       "      <td>434</td>\n",
       "      <td>1</td>\n",
       "    </tr>\n",
       "    <tr>\n",
       "      <th>r7737_c558</th>\n",
       "      <td>7736</td>\n",
       "      <td>557</td>\n",
       "      <td>2</td>\n",
       "    </tr>\n",
       "    <tr>\n",
       "      <th>r9631_c791</th>\n",
       "      <td>9630</td>\n",
       "      <td>790</td>\n",
       "      <td>5</td>\n",
       "    </tr>\n",
       "  </tbody>\n",
       "</table>\n",
       "</div>"
      ],
      "text/plain": [
       "            UserId  MovieId  Rating\n",
       "Id                                 \n",
       "r5874_c663    5873      662       5\n",
       "r4711_c367    4710      366       4\n",
       "r2539_c435    2538      434       1\n",
       "r7737_c558    7736      557       2\n",
       "r9631_c791    9630      790       5"
      ]
     },
     "execution_count": 3,
     "metadata": {},
     "output_type": "execute_result"
    }
   ],
   "source": [
    "train_data.head()"
   ]
  },
  {
   "cell_type": "code",
   "execution_count": 4,
   "metadata": {
    "ExecuteTime": {
     "end_time": "2023-05-02T17:34:52.995698Z",
     "start_time": "2023-05-02T17:34:52.926879Z"
    },
    "collapsed": false
   },
   "outputs": [
    {
     "data": {
      "text/html": [
       "<div>\n",
       "<style scoped>\n",
       "    .dataframe tbody tr th:only-of-type {\n",
       "        vertical-align: middle;\n",
       "    }\n",
       "\n",
       "    .dataframe tbody tr th {\n",
       "        vertical-align: top;\n",
       "    }\n",
       "\n",
       "    .dataframe thead th {\n",
       "        text-align: right;\n",
       "    }\n",
       "</style>\n",
       "<table border=\"1\" class=\"dataframe\">\n",
       "  <thead>\n",
       "    <tr style=\"text-align: right;\">\n",
       "      <th></th>\n",
       "      <th>UserId</th>\n",
       "      <th>MovieId</th>\n",
       "      <th>Rating</th>\n",
       "    </tr>\n",
       "  </thead>\n",
       "  <tbody>\n",
       "    <tr>\n",
       "      <th>count</th>\n",
       "      <td>941561.000000</td>\n",
       "      <td>941561.000000</td>\n",
       "      <td>941561.000000</td>\n",
       "    </tr>\n",
       "    <tr>\n",
       "      <th>mean</th>\n",
       "      <td>5149.112369</td>\n",
       "      <td>482.580407</td>\n",
       "      <td>3.856588</td>\n",
       "    </tr>\n",
       "    <tr>\n",
       "      <th>std</th>\n",
       "      <td>2918.447452</td>\n",
       "      <td>274.174986</td>\n",
       "      <td>1.119108</td>\n",
       "    </tr>\n",
       "    <tr>\n",
       "      <th>min</th>\n",
       "      <td>0.000000</td>\n",
       "      <td>0.000000</td>\n",
       "      <td>1.000000</td>\n",
       "    </tr>\n",
       "    <tr>\n",
       "      <th>25%</th>\n",
       "      <td>2602.000000</td>\n",
       "      <td>246.000000</td>\n",
       "      <td>3.000000</td>\n",
       "    </tr>\n",
       "    <tr>\n",
       "      <th>50%</th>\n",
       "      <td>5247.000000</td>\n",
       "      <td>493.000000</td>\n",
       "      <td>4.000000</td>\n",
       "    </tr>\n",
       "    <tr>\n",
       "      <th>75%</th>\n",
       "      <td>7734.000000</td>\n",
       "      <td>690.000000</td>\n",
       "      <td>5.000000</td>\n",
       "    </tr>\n",
       "    <tr>\n",
       "      <th>max</th>\n",
       "      <td>9999.000000</td>\n",
       "      <td>999.000000</td>\n",
       "      <td>5.000000</td>\n",
       "    </tr>\n",
       "  </tbody>\n",
       "</table>\n",
       "</div>"
      ],
      "text/plain": [
       "              UserId        MovieId         Rating\n",
       "count  941561.000000  941561.000000  941561.000000\n",
       "mean     5149.112369     482.580407       3.856588\n",
       "std      2918.447452     274.174986       1.119108\n",
       "min         0.000000       0.000000       1.000000\n",
       "25%      2602.000000     246.000000       3.000000\n",
       "50%      5247.000000     493.000000       4.000000\n",
       "75%      7734.000000     690.000000       5.000000\n",
       "max      9999.000000     999.000000       5.000000"
      ]
     },
     "execution_count": 4,
     "metadata": {},
     "output_type": "execute_result"
    }
   ],
   "source": [
    "train_data.describe()"
   ]
  },
  {
   "cell_type": "code",
   "execution_count": 5,
   "metadata": {
    "ExecuteTime": {
     "end_time": "2023-05-02T17:34:54.657327Z",
     "start_time": "2023-05-02T17:34:54.650500Z"
    },
    "collapsed": false
   },
   "outputs": [],
   "source": [
    "train_mean = train_data['Rating'].mean()\n",
    "train_std = train_data['Rating'].std()\n",
    "\n",
    "# standardize ratings\n",
    "train_data['Rating'] = (train_data['Rating'] - train_mean) / train_std"
   ]
  },
  {
   "cell_type": "code",
   "execution_count": 6,
   "metadata": {
    "ExecuteTime": {
     "end_time": "2023-05-02T17:34:56.353916Z",
     "start_time": "2023-05-02T17:34:56.307563Z"
    },
    "collapsed": false
   },
   "outputs": [],
   "source": [
    "# function to get sparse matrix from data given as a dataframe with row and column indices\n",
    "def get_sparse_matrix(data, n_rows, n_cols):\n",
    "    return csr_matrix((data['Rating'].values, (data['UserId'].values, data['MovieId'].values)), shape=(n_rows, n_cols))\n",
    "\n",
    "n_rows = train_data['UserId'].max() + 1 # might raise errors if in val set user with larger id\n",
    "n_cols = train_data['MovieId'].max() + 1 # might raise errors if in val set movie with larger id\n",
    "train_matrix = get_sparse_matrix(train_data, n_rows, n_cols)"
   ]
  },
  {
   "cell_type": "code",
   "execution_count": 7,
   "metadata": {
    "ExecuteTime": {
     "end_time": "2023-05-02T17:34:57.849990Z",
     "start_time": "2023-05-02T17:34:57.774961Z"
    },
    "collapsed": false
   },
   "outputs": [
    {
     "data": {
      "image/png": "[encoded data removed]",
      "text/plain": [
       "<Figure size 640x480 with 1 Axes>"
      ]
     },
     "metadata": {},
     "output_type": "display_data"
    }
   ],
   "source": [
    "# plot sparse matrix\n",
    "plt.spy(train_matrix[:100,:100], markersize=0.1)\n",
    "plt.show()"
   ]
  },
  {
   "cell_type": "markdown",
   "metadata": {
    "collapsed": false
   },
   "source": [
    "# ALS algorithm"
   ]
  },
  {
   "cell_type": "code",
   "execution_count": 8,
   "metadata": {
    "ExecuteTime": {
     "end_time": "2023-05-02T17:36:27.021013Z",
     "start_time": "2023-05-02T17:36:13.596809Z"
    },
    "collapsed": false
   },
   "outputs": [],
   "source": [
    "# function to compute loss\n",
    "def loss_func(U, V, A, lam):\n",
    "    loss = 0\n",
    "    for row in range(n_rows):\n",
    "        for col in range(n_cols):\n",
    "            if A[row,col]:\n",
    "                loss += (A[row,col] - U[row,:] @ V[:,col])**2\n",
    "    loss += lam * (np.linalg.norm(U)**2 + np.linalg.norm(V)**2)\n",
    "    return loss"
   ]
  },
  {
   "cell_type": "code",
   "execution_count": 9,
   "metadata": {},
   "outputs": [],
   "source": [
    "rank = 20 # number of latent factors\n",
    "lam = 0.1 # regularization parameter\n",
    "\n",
    "# only consider subset\n",
    "n_rows, n_cols = 1000, 100\n",
    "\n",
    "# initialize U and V\n",
    "A = train_matrix[:n_rows, :n_cols]\n",
    "U = np.random.rand(n_rows, rank)\n",
    "V = np.random.rand(rank, n_cols)\n",
    "\n",
    "# function to make one step\n",
    "def make_step(U, V, A, lam):\n",
    "    for i in tqdm(range(n_rows)):\n",
    "        U[i] = np.linalg.inv(np.sum([np.where(A[i, j], np.expand_dims(V[:, j], 1) @ np.expand_dims(V[:, j], 1).T, 0) for j in range(n_cols)], axis=0) + lam * np.identity(rank)) @ np.sum([np.where(A[i, j], A[i, j] * V[:, j], 0) for j in range(n_cols)], axis=0)\n",
    "    for j in tqdm(range(n_cols)):\n",
    "        V.T[j] = np.linalg.inv(np.sum([np.where(A[i, j], np.expand_dims(U[i], 1) @ np.expand_dims(U[i], 1).T, 0) for i in range(n_rows)], axis=0) + lam * np.identity(rank)) @ np.sum([np.where(A[i, j], A[i, j] * U[i], 0) for i in range(n_rows)], axis=0)"
   ]
  },
  {
   "cell_type": "code",
   "execution_count": 10,
   "metadata": {},
   "outputs": [
    {
     "name": "stderr",
     "output_type": "stream",
     "text": [
      "100%|██████████| 1000/1000 [00:11<00:00, 85.21it/s]\n",
      "100%|██████████| 100/100 [00:13<00:00,  7.41it/s]\n"
     ]
    },
    {
     "name": "stdout",
     "output_type": "stream",
     "text": [
      "Step: 0, Loss: 1252.7940082154116\n"
     ]
    },
    {
     "name": "stderr",
     "output_type": "stream",
     "text": [
      "100%|██████████| 1000/1000 [00:14<00:00, 68.50it/s]\n",
      "100%|██████████| 100/100 [00:14<00:00,  7.10it/s]\n"
     ]
    },
    {
     "name": "stdout",
     "output_type": "stream",
     "text": [
      "Step: 1, Loss: 875.7020706052106\n"
     ]
    },
    {
     "name": "stderr",
     "output_type": "stream",
     "text": [
      "100%|██████████| 1000/1000 [00:12<00:00, 78.48it/s]\n",
      "100%|██████████| 100/100 [00:13<00:00,  7.66it/s]\n"
     ]
    },
    {
     "name": "stdout",
     "output_type": "stream",
     "text": [
      "Step: 2, Loss: 711.6598196606135\n"
     ]
    },
    {
     "name": "stderr",
     "output_type": "stream",
     "text": [
      "100%|██████████| 1000/1000 [00:13<00:00, 75.53it/s]\n",
      "100%|██████████| 100/100 [00:13<00:00,  7.32it/s]\n"
     ]
    },
    {
     "name": "stdout",
     "output_type": "stream",
     "text": [
      "Step: 3, Loss: 612.8425103993977\n"
     ]
    },
    {
     "name": "stderr",
     "output_type": "stream",
     "text": [
      "100%|██████████| 1000/1000 [00:15<00:00, 64.57it/s]\n",
      "100%|██████████| 100/100 [00:14<00:00,  6.69it/s]\n"
     ]
    }
   ],
   "source": [
    "# make steps until convergence\n",
    "losses = []\n",
    "for i in range(10):\n",
    "    make_step(U, V, A, lam)\n",
    "    loss = loss_func(U, V, A, lam)\n",
    "    losses.append(loss)\n",
    "    print('Step: {}, Loss: {}'.format(i, loss))"
   ]
  },
  {
   "attachments": {},
   "cell_type": "markdown",
   "metadata": {},
   "source": [
    "We try a more efficient approach"
   ]
  },
  {
   "cell_type": "code",
   "execution_count": null,
   "metadata": {},
   "outputs": [],
   "source": [
    "# TODO: Update make_step to remove for loops\n",
    "# TODO: Update loss function implementation"
   ]
  }
 ],
 "metadata": {
  "kernelspec": {
   "display_name": "Python 3",
   "language": "python",
   "name": "python3"
  },
  "language_info": {
   "codemirror_mode": {
    "name": "ipython",
    "version": 3
   },
   "file_extension": ".py",
   "mimetype": "text/x-python",
   "name": "python",
   "nbconvert_exporter": "python",
   "pygments_lexer": "ipython3",
   "version": "3.10.9"
  }
 },
 "nbformat": 4,
 "nbformat_minor": 0
}
