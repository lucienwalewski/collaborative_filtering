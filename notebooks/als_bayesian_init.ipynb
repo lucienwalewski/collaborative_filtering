{
 "cells": [
  {
   "cell_type": "code",
   "execution_count": 1,
   "metadata": {
    "collapsed": true,
    "ExecuteTime": {
     "start_time": "2023-07-25T14:58:32.717363Z",
     "end_time": "2023-07-25T14:58:32.792207Z"
    }
   },
   "outputs": [],
   "source": [
    "import numpy as np\n",
    "from sklearn.preprocessing import OneHotEncoder\n",
    "import myfm"
   ]
  },
  {
   "cell_type": "markdown",
   "source": [
    "# Load data"
   ],
   "metadata": {
    "collapsed": false
   }
  },
  {
   "cell_type": "code",
   "execution_count": 2,
   "outputs": [],
   "source": [
    "from sklearn.model_selection import train_test_split\n",
    "import pandas as pd\n",
    "\n",
    "def load_cil(dataset=\"split\"):\n",
    "\n",
    "    file = \"data_train\" if dataset != \"test\" else \"sampleSubmission\"\n",
    "    data = pd.read_csv(f'../data/{file}.csv', index_col=0)\n",
    "    data['user'] = data.index.str.split('_').str[0].str[1:].astype('int32')\n",
    "    data['movie'] = data.index.str.split('_').str[1].str[1:].astype('int32')\n",
    "    data.rename(columns={'Prediction': 'rating'}, inplace=True)\n",
    "    data['rating'] = data['rating'].astype('uint8')\n",
    "    data = data[['user', 'movie', 'rating']]\n",
    "\n",
    "    data['user'] = data['user'] - 1\n",
    "    data['movie'] = data['movie'] - 1\n",
    "    print(\"Subtracted {} from user and movie\".format(1))\n",
    "\n",
    "    user_num = 10000  # int(data['user'].max() + 1)\n",
    "    movie_num = 1000  # int(data['movie'].max() + 1)\n",
    "    print(\"User num: {}, Movie num: {}\".format(user_num, movie_num))\n",
    "\n",
    "    train_data = val_data = None\n",
    "    if dataset == \"test\":\n",
    "        val_data = data\n",
    "    elif dataset == \"train\":\n",
    "        train_data = data\n",
    "    else:\n",
    "        train_data, val_data = train_test_split(data, test_size=0.2, random_state=42)\n",
    "\n",
    "    return train_data, val_data, user_num, movie_num"
   ],
   "metadata": {
    "collapsed": false,
    "ExecuteTime": {
     "start_time": "2023-07-25T14:58:40.158982Z",
     "end_time": "2023-07-25T14:58:40.241519Z"
    }
   }
  },
  {
   "cell_type": "code",
   "execution_count": 3,
   "outputs": [
    {
     "name": "stdout",
     "output_type": "stream",
     "text": [
      "Subtracted 1 from user and movie\n",
      "User num: 10000, Movie num: 1000\n"
     ]
    }
   ],
   "source": [
    "train_data, val_data, user_num, movie_num = load_cil(\"split\")"
   ],
   "metadata": {
    "collapsed": false,
    "ExecuteTime": {
     "start_time": "2023-07-25T14:58:42.055877Z",
     "end_time": "2023-07-25T14:58:44.899631Z"
    }
   }
  },
  {
   "cell_type": "markdown",
   "source": [
    "# BFM"
   ],
   "metadata": {
    "collapsed": false
   }
  },
  {
   "cell_type": "code",
   "execution_count": 4,
   "outputs": [],
   "source": [
    "FM_RANK = 10\n",
    "\n",
    "FEATURE_COLUMNS = ['user', 'movie']\n",
    "ohe = OneHotEncoder(handle_unknown='ignore')\n",
    "\n",
    "X_train = ohe.fit_transform(train_data[FEATURE_COLUMNS])\n",
    "X_test = ohe.transform(val_data[FEATURE_COLUMNS])\n",
    "y_train = train_data.rating.values\n",
    "y_test = val_data.rating.values"
   ],
   "metadata": {
    "collapsed": false,
    "ExecuteTime": {
     "start_time": "2023-07-25T14:58:49.060385Z",
     "end_time": "2023-07-25T14:58:49.393637Z"
    }
   }
  },
  {
   "cell_type": "code",
   "execution_count": 11,
   "outputs": [
    {
     "name": "stderr",
     "output_type": "stream",
     "text": [
      "alpha = 1.14 w0 = 3.79 : 100%|██████████| 200/200 [00:33<00:00,  5.90it/s]\n"
     ]
    },
    {
     "data": {
      "text/plain": "<myfm.gibbs.MyFMGibbsRegressor at 0x136907610>"
     },
     "execution_count": 11,
     "metadata": {},
     "output_type": "execute_result"
    }
   ],
   "source": [
    "fm_grouped = myfm.MyFMRegressor(\n",
    "    rank=FM_RANK, random_seed=42,\n",
    ")\n",
    "fm_grouped.fit(\n",
    "    X_train, y_train, n_iter=200, n_kept_samples=200,\n",
    "    group_shapes=[len(group) for group in ohe.categories_]\n",
    ")"
   ],
   "metadata": {
    "collapsed": false,
    "ExecuteTime": {
     "start_time": "2023-07-25T15:02:21.213718Z",
     "end_time": "2023-07-25T15:02:55.129467Z"
    }
   }
  },
  {
   "cell_type": "code",
   "execution_count": 12,
   "outputs": [],
   "source": [
    "prediction_grouped = fm_grouped.predict(X_test)\n",
    "prediction_grouped = np.clip(prediction_grouped, 1, 5)"
   ],
   "metadata": {
    "collapsed": false,
    "ExecuteTime": {
     "start_time": "2023-07-25T15:02:59.014233Z",
     "end_time": "2023-07-25T15:02:59.015432Z"
    }
   }
  },
  {
   "cell_type": "code",
   "execution_count": 13,
   "outputs": [
    {
     "name": "stdout",
     "output_type": "stream",
     "text": [
      "rmse=0.9797415528913666, mae=0.7833792304512732\n"
     ]
    }
   ],
   "source": [
    "rmse = ((y_test - prediction_grouped) ** 2).mean() ** .5\n",
    "mae = np.abs(y_test - prediction_grouped).mean()\n",
    "print(f'rmse={rmse}, mae={mae}')"
   ],
   "metadata": {
    "collapsed": false,
    "ExecuteTime": {
     "start_time": "2023-07-25T15:03:00.641296Z",
     "end_time": "2023-07-25T15:03:00.646198Z"
    }
   }
  },
  {
   "cell_type": "markdown",
   "source": [
    "# Decompose into U and V"
   ],
   "metadata": {
    "collapsed": false
   }
  },
  {
   "cell_type": "code",
   "execution_count": null,
   "outputs": [],
   "source": [
    "# get all predictions\n",
    "number_of_samples = fm_grouped.w0_samples.shape[0]\n",
    "prediction_matrix_samples = np.zeros((number_of_samples, 10000, 1000))\n",
    "for sample in range(fm_grouped.w0_samples.shape[0]):\n",
    "    # make all shape 10000 x 1000\n",
    "    w0 = np.ones((10000, 1000)) * fm_grouped.w0_samples[sample]\n",
    "\n",
    "    user_bias = fm_grouped.w_samples[sample][:10000]\n",
    "    user_bias = np.repeat(user_bias, 1000).reshape(10000, 1000)\n",
    "\n",
    "    movie_bias = fm_grouped.w_samples[sample][10000:]\n",
    "    movie_bias = np.tile(movie_bias, 10000).reshape(10000, 1000)\n",
    "\n",
    "    interaction = np.dot(fm_grouped.V_samples[sample][:10000], fm_grouped.V_samples[sample][10000:].T)\n",
    "\n",
    "    prediction_matrix_samples[sample] = w0 + user_bias + movie_bias + interaction"
   ],
   "metadata": {
    "collapsed": false
   }
  },
  {
   "cell_type": "code",
   "execution_count": 14,
   "outputs": [],
   "source": [
    "w0 = fm_grouped.w0_samples # 200 x ,\n",
    "user_bias = fm_grouped.w_samples[:, :10000] # 200 x 10000\n",
    "movie_bias = fm_grouped.w_samples[:, 10000:] # 200 x 1000\n",
    "U = fm_grouped.V_samples[:, :10000] # 200 x 10000 x 10\n",
    "V = fm_grouped.V_samples[:, 10000:] # 200 x 1000 x 10"
   ],
   "metadata": {
    "collapsed": false,
    "ExecuteTime": {
     "start_time": "2023-07-25T15:05:36.608357Z",
     "end_time": "2023-07-25T15:05:36.674996Z"
    }
   }
  },
  {
   "cell_type": "code",
   "execution_count": 15,
   "outputs": [
    {
     "name": "stdout",
     "output_type": "stream",
     "text": [
      "(200,)\n",
      "(200, 10000)\n",
      "(200, 1000)\n",
      "(200, 10000, 10)\n",
      "(200, 1000, 10)\n"
     ]
    }
   ],
   "source": [
    "print(w0.shape)\n",
    "print(user_bias.shape)\n",
    "print(movie_bias.shape)\n",
    "print(U.shape)\n",
    "print(V.shape)"
   ],
   "metadata": {
    "collapsed": false,
    "ExecuteTime": {
     "start_time": "2023-07-25T15:06:27.367482Z",
     "end_time": "2023-07-25T15:06:27.376639Z"
    }
   }
  },
  {
   "cell_type": "code",
   "execution_count": 16,
   "outputs": [],
   "source": [
    "# save as npy\n",
    "np.save(\"bfm_export/w0.npy\", w0)\n",
    "np.save(\"bfm_export/user_bias.npy\", user_bias)\n",
    "np.save(\"bfm_export/movie_bias.npy\", movie_bias)\n",
    "np.save(\"bfm_export/U.npy\", U)\n",
    "np.save(\"bfm_export/V.npy\", V)"
   ],
   "metadata": {
    "collapsed": false,
    "ExecuteTime": {
     "start_time": "2023-07-25T15:08:13.550800Z",
     "end_time": "2023-07-25T15:08:14.378145Z"
    }
   }
  }
 ],
 "metadata": {
  "kernelspec": {
   "display_name": "Python 3",
   "language": "python",
   "name": "python3"
  },
  "language_info": {
   "codemirror_mode": {
    "name": "ipython",
    "version": 2
   },
   "file_extension": ".py",
   "mimetype": "text/x-python",
   "name": "python",
   "nbconvert_exporter": "python",
   "pygments_lexer": "ipython2",
   "version": "2.7.6"
  }
 },
 "nbformat": 4,
 "nbformat_minor": 0
}
