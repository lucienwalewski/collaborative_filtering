{
 "cells": [
  {
   "cell_type": "code",
   "execution_count": 1,
   "metadata": {
    "collapsed": true,
    "ExecuteTime": {
     "start_time": "2023-05-02T17:34:39.868985Z",
     "end_time": "2023-05-02T17:34:40.491911Z"
    }
   },
   "outputs": [],
   "source": [
    "import pandas as pd\n",
    "from sklearn.model_selection import train_test_split\n",
    "from scipy.sparse import csr_matrix\n",
    "import numpy as np\n",
    "import matplotlib.pyplot as plt"
   ]
  },
  {
   "cell_type": "markdown",
   "source": [
    "# Data Preprocessing"
   ],
   "metadata": {
    "collapsed": false
   }
  },
  {
   "cell_type": "code",
   "execution_count": 2,
   "outputs": [],
   "source": [
    "data = pd.read_csv('../data/data_train.csv', index_col=0)\n",
    "\n",
    "# rename column and turn ot uint8\n",
    "data.rename(columns={'Prediction': 'Rating'}, inplace=True)\n",
    "data['Rating'] = data['Rating'].astype('uint8')\n",
    "\n",
    "# get user and movie id by splitting index given in format rX_cY\n",
    "data['UserId'] = data.index.str.split('_').str[0].str[1:].astype('int32')\n",
    "data['MovieId'] = data.index.str.split('_').str[1].str[1:].astype('int32')\n",
    "\n",
    "# subtract min UserId and MovieID to get indices starting at 0\n",
    "data['UserId'] = data['UserId'] - data['UserId'].min()\n",
    "data['MovieId'] = data['MovieId'] - data['MovieId'].min()\n",
    "\n",
    "# reorder columns to UserId, MovieId, Rating\n",
    "data = data[['UserId', 'MovieId', 'Rating']]\n",
    "\n",
    "# split into train and val data\n",
    "train_data, val_data = train_test_split(data, test_size=0.2, random_state=42)"
   ],
   "metadata": {
    "collapsed": false,
    "ExecuteTime": {
     "start_time": "2023-05-02T17:34:45.972282Z",
     "end_time": "2023-05-02T17:34:48.789184Z"
    }
   }
  },
  {
   "cell_type": "code",
   "execution_count": 3,
   "outputs": [
    {
     "data": {
      "text/plain": "            UserId  MovieId  Rating\nId                                 \nr5874_c663    5873      662       5\nr4711_c367    4710      366       4\nr2539_c435    2538      434       1\nr7737_c558    7736      557       2\nr9631_c791    9630      790       5",
      "text/html": "<div>\n<style scoped>\n    .dataframe tbody tr th:only-of-type {\n        vertical-align: middle;\n    }\n\n    .dataframe tbody tr th {\n        vertical-align: top;\n    }\n\n    .dataframe thead th {\n        text-align: right;\n    }\n</style>\n<table border=\"1\" class=\"dataframe\">\n  <thead>\n    <tr style=\"text-align: right;\">\n      <th></th>\n      <th>UserId</th>\n      <th>MovieId</th>\n      <th>Rating</th>\n    </tr>\n    <tr>\n      <th>Id</th>\n      <th></th>\n      <th></th>\n      <th></th>\n    </tr>\n  </thead>\n  <tbody>\n    <tr>\n      <th>r5874_c663</th>\n      <td>5873</td>\n      <td>662</td>\n      <td>5</td>\n    </tr>\n    <tr>\n      <th>r4711_c367</th>\n      <td>4710</td>\n      <td>366</td>\n      <td>4</td>\n    </tr>\n    <tr>\n      <th>r2539_c435</th>\n      <td>2538</td>\n      <td>434</td>\n      <td>1</td>\n    </tr>\n    <tr>\n      <th>r7737_c558</th>\n      <td>7736</td>\n      <td>557</td>\n      <td>2</td>\n    </tr>\n    <tr>\n      <th>r9631_c791</th>\n      <td>9630</td>\n      <td>790</td>\n      <td>5</td>\n    </tr>\n  </tbody>\n</table>\n</div>"
     },
     "execution_count": 3,
     "metadata": {},
     "output_type": "execute_result"
    }
   ],
   "source": [
    "train_data.head()"
   ],
   "metadata": {
    "collapsed": false,
    "ExecuteTime": {
     "start_time": "2023-05-02T17:34:51.218085Z",
     "end_time": "2023-05-02T17:34:51.224466Z"
    }
   }
  },
  {
   "cell_type": "code",
   "execution_count": 4,
   "outputs": [
    {
     "data": {
      "text/plain": "              UserId        MovieId         Rating\ncount  941561.000000  941561.000000  941561.000000\nmean     5149.112369     482.580407       3.856588\nstd      2918.447452     274.174986       1.119108\nmin         0.000000       0.000000       1.000000\n25%      2602.000000     246.000000       3.000000\n50%      5247.000000     493.000000       4.000000\n75%      7734.000000     690.000000       5.000000\nmax      9999.000000     999.000000       5.000000",
      "text/html": "<div>\n<style scoped>\n    .dataframe tbody tr th:only-of-type {\n        vertical-align: middle;\n    }\n\n    .dataframe tbody tr th {\n        vertical-align: top;\n    }\n\n    .dataframe thead th {\n        text-align: right;\n    }\n</style>\n<table border=\"1\" class=\"dataframe\">\n  <thead>\n    <tr style=\"text-align: right;\">\n      <th></th>\n      <th>UserId</th>\n      <th>MovieId</th>\n      <th>Rating</th>\n    </tr>\n  </thead>\n  <tbody>\n    <tr>\n      <th>count</th>\n      <td>941561.000000</td>\n      <td>941561.000000</td>\n      <td>941561.000000</td>\n    </tr>\n    <tr>\n      <th>mean</th>\n      <td>5149.112369</td>\n      <td>482.580407</td>\n      <td>3.856588</td>\n    </tr>\n    <tr>\n      <th>std</th>\n      <td>2918.447452</td>\n      <td>274.174986</td>\n      <td>1.119108</td>\n    </tr>\n    <tr>\n      <th>min</th>\n      <td>0.000000</td>\n      <td>0.000000</td>\n      <td>1.000000</td>\n    </tr>\n    <tr>\n      <th>25%</th>\n      <td>2602.000000</td>\n      <td>246.000000</td>\n      <td>3.000000</td>\n    </tr>\n    <tr>\n      <th>50%</th>\n      <td>5247.000000</td>\n      <td>493.000000</td>\n      <td>4.000000</td>\n    </tr>\n    <tr>\n      <th>75%</th>\n      <td>7734.000000</td>\n      <td>690.000000</td>\n      <td>5.000000</td>\n    </tr>\n    <tr>\n      <th>max</th>\n      <td>9999.000000</td>\n      <td>999.000000</td>\n      <td>5.000000</td>\n    </tr>\n  </tbody>\n</table>\n</div>"
     },
     "execution_count": 4,
     "metadata": {},
     "output_type": "execute_result"
    }
   ],
   "source": [
    "train_data.describe()"
   ],
   "metadata": {
    "collapsed": false,
    "ExecuteTime": {
     "start_time": "2023-05-02T17:34:52.926879Z",
     "end_time": "2023-05-02T17:34:52.995698Z"
    }
   }
  },
  {
   "cell_type": "code",
   "execution_count": 5,
   "outputs": [],
   "source": [
    "train_mean = train_data['Rating'].mean()\n",
    "train_std = train_data['Rating'].std()\n",
    "\n",
    "# standardize ratings\n",
    "train_data['Rating'] = (train_data['Rating'] - train_mean) / train_std"
   ],
   "metadata": {
    "collapsed": false,
    "ExecuteTime": {
     "start_time": "2023-05-02T17:34:54.650500Z",
     "end_time": "2023-05-02T17:34:54.657327Z"
    }
   }
  },
  {
   "cell_type": "code",
   "execution_count": 6,
   "outputs": [],
   "source": [
    "# function to get sparse matrix from data given as a dataframe with row and column indices\n",
    "def get_sparse_matrix(data, n_rows, n_cols):\n",
    "    return csr_matrix((data['Rating'].values, (data['UserId'].values, data['MovieId'].values)), shape=(n_rows, n_cols))\n",
    "\n",
    "n_rows = train_data['UserId'].max() + 1 # might raise errors if in val set user with larger id\n",
    "n_cols = train_data['MovieId'].max() + 1 # might raise errors if in val set movie with larger id\n",
    "train_matrix = get_sparse_matrix(train_data, n_rows, n_cols)"
   ],
   "metadata": {
    "collapsed": false,
    "ExecuteTime": {
     "start_time": "2023-05-02T17:34:56.307563Z",
     "end_time": "2023-05-02T17:34:56.353916Z"
    }
   }
  },
  {
   "cell_type": "code",
   "execution_count": 7,
   "outputs": [
    {
     "data": {
      "text/plain": "<Figure size 640x480 with 1 Axes>",
      "image/png": "[encoded data removed]"
     },
     "metadata": {},
     "output_type": "display_data"
    }
   ],
   "source": [
    "# plot sparse matrix\n",
    "plt.spy(train_matrix[:100,:100], markersize=0.1)\n",
    "plt.show()"
   ],
   "metadata": {
    "collapsed": false,
    "ExecuteTime": {
     "start_time": "2023-05-02T17:34:57.774961Z",
     "end_time": "2023-05-02T17:34:57.849990Z"
    }
   }
  },
  {
   "cell_type": "markdown",
   "source": [
    "# ALS algorithm"
   ],
   "metadata": {
    "collapsed": false
   }
  },
  {
   "cell_type": "code",
   "execution_count": 15,
   "outputs": [
    {
     "name": "stdout",
     "output_type": "stream",
     "text": [
      "Step: 0, Loss: 1026139108593927.5\n",
      "Step: 1, Loss: 1.69627387421306e+33\n"
     ]
    },
    {
     "ename": "LinAlgError",
     "evalue": "Singular matrix",
     "output_type": "error",
     "traceback": [
      "\u001B[0;31m---------------------------------------------------------------------------\u001B[0m",
      "\u001B[0;31mLinAlgError\u001B[0m                               Traceback (most recent call last)",
      "Cell \u001B[0;32mIn[15], line 67\u001B[0m\n\u001B[1;32m     65\u001B[0m losses \u001B[38;5;241m=\u001B[39m []\n\u001B[1;32m     66\u001B[0m \u001B[38;5;28;01mfor\u001B[39;00m i \u001B[38;5;129;01min\u001B[39;00m \u001B[38;5;28mrange\u001B[39m(\u001B[38;5;241m10\u001B[39m):\n\u001B[0;32m---> 67\u001B[0m     U, V \u001B[38;5;241m=\u001B[39m \u001B[43mmake_step\u001B[49m\u001B[43m(\u001B[49m\u001B[43mU\u001B[49m\u001B[43m,\u001B[49m\u001B[43m \u001B[49m\u001B[43mV\u001B[49m\u001B[43m,\u001B[49m\u001B[43m \u001B[49m\u001B[43mtrain_matrix\u001B[49m\u001B[43m[\u001B[49m\u001B[43m:\u001B[49m\u001B[43mn_rows\u001B[49m\u001B[43m,\u001B[49m\u001B[43m \u001B[49m\u001B[43m:\u001B[49m\u001B[43mn_cols\u001B[49m\u001B[43m]\u001B[49m\u001B[43m,\u001B[49m\u001B[43m \u001B[49m\u001B[43mlam\u001B[49m\u001B[43m)\u001B[49m\n\u001B[1;32m     68\u001B[0m     loss \u001B[38;5;241m=\u001B[39m loss_func(U, V, train_matrix[:n_rows, :n_cols], lam)\n\u001B[1;32m     69\u001B[0m     losses\u001B[38;5;241m.\u001B[39mappend(loss)\n",
      "Cell \u001B[0;32mIn[15], line 45\u001B[0m, in \u001B[0;36mmake_step\u001B[0;34m(U, V, A, lam)\u001B[0m\n\u001B[1;32m     43\u001B[0m         \u001B[38;5;28;01mif\u001B[39;00m A[row,col]:\n\u001B[1;32m     44\u001B[0m             sum_r1_mat \u001B[38;5;241m+\u001B[39m\u001B[38;5;241m=\u001B[39m Q[row,:,:]\n\u001B[0;32m---> 45\u001B[0m     inv \u001B[38;5;241m=\u001B[39m \u001B[43mnp\u001B[49m\u001B[38;5;241;43m.\u001B[39;49m\u001B[43mlinalg\u001B[49m\u001B[38;5;241;43m.\u001B[39;49m\u001B[43minv\u001B[49m\u001B[43m(\u001B[49m\u001B[43msum_r1_mat\u001B[49m\u001B[43m \u001B[49m\u001B[38;5;241;43m+\u001B[39;49m\u001B[43m \u001B[49m\u001B[43mlam\u001B[49m\u001B[43m \u001B[49m\u001B[38;5;241;43m*\u001B[39;49m\u001B[43m \u001B[49m\u001B[43mnp\u001B[49m\u001B[38;5;241;43m.\u001B[39;49m\u001B[43midentity\u001B[49m\u001B[43m(\u001B[49m\u001B[43mrank\u001B[49m\u001B[43m)\u001B[49m\u001B[43m)\u001B[49m\n\u001B[1;32m     46\u001B[0m     V[:,col] \u001B[38;5;241m=\u001B[39m inv \u001B[38;5;241m@\u001B[39m B[:,col]\n\u001B[1;32m     48\u001B[0m \u001B[38;5;66;03m# update U adapting lecture script\u001B[39;00m\n",
      "File \u001B[0;32m<__array_function__ internals>:200\u001B[0m, in \u001B[0;36minv\u001B[0;34m(*args, **kwargs)\u001B[0m\n",
      "File \u001B[0;32m/opt/homebrew/Caskroom/miniforge/base/lib/python3.9/site-packages/numpy/linalg/linalg.py:538\u001B[0m, in \u001B[0;36minv\u001B[0;34m(a)\u001B[0m\n\u001B[1;32m    536\u001B[0m signature \u001B[38;5;241m=\u001B[39m \u001B[38;5;124m'\u001B[39m\u001B[38;5;124mD->D\u001B[39m\u001B[38;5;124m'\u001B[39m \u001B[38;5;28;01mif\u001B[39;00m isComplexType(t) \u001B[38;5;28;01melse\u001B[39;00m \u001B[38;5;124m'\u001B[39m\u001B[38;5;124md->d\u001B[39m\u001B[38;5;124m'\u001B[39m\n\u001B[1;32m    537\u001B[0m extobj \u001B[38;5;241m=\u001B[39m get_linalg_error_extobj(_raise_linalgerror_singular)\n\u001B[0;32m--> 538\u001B[0m ainv \u001B[38;5;241m=\u001B[39m \u001B[43m_umath_linalg\u001B[49m\u001B[38;5;241;43m.\u001B[39;49m\u001B[43minv\u001B[49m\u001B[43m(\u001B[49m\u001B[43ma\u001B[49m\u001B[43m,\u001B[49m\u001B[43m \u001B[49m\u001B[43msignature\u001B[49m\u001B[38;5;241;43m=\u001B[39;49m\u001B[43msignature\u001B[49m\u001B[43m,\u001B[49m\u001B[43m \u001B[49m\u001B[43mextobj\u001B[49m\u001B[38;5;241;43m=\u001B[39;49m\u001B[43mextobj\u001B[49m\u001B[43m)\u001B[49m\n\u001B[1;32m    539\u001B[0m \u001B[38;5;28;01mreturn\u001B[39;00m wrap(ainv\u001B[38;5;241m.\u001B[39mastype(result_t, copy\u001B[38;5;241m=\u001B[39m\u001B[38;5;28;01mFalse\u001B[39;00m))\n",
      "File \u001B[0;32m/opt/homebrew/Caskroom/miniforge/base/lib/python3.9/site-packages/numpy/linalg/linalg.py:89\u001B[0m, in \u001B[0;36m_raise_linalgerror_singular\u001B[0;34m(err, flag)\u001B[0m\n\u001B[1;32m     88\u001B[0m \u001B[38;5;28;01mdef\u001B[39;00m \u001B[38;5;21m_raise_linalgerror_singular\u001B[39m(err, flag):\n\u001B[0;32m---> 89\u001B[0m     \u001B[38;5;28;01mraise\u001B[39;00m LinAlgError(\u001B[38;5;124m\"\u001B[39m\u001B[38;5;124mSingular matrix\u001B[39m\u001B[38;5;124m\"\u001B[39m)\n",
      "\u001B[0;31mLinAlgError\u001B[0m: Singular matrix"
     ]
    }
   ],
   "source": [
    "rank = 20 # number of latent factors\n",
    "lam = 0.1 # regularization parameter\n",
    "\n",
    "# only consider subset\n",
    "n_rows = 1000\n",
    "n_cols = 50\n",
    "\n",
    "# initialize U and V\n",
    "U = np.random.rand(n_rows, rank)\n",
    "V = np.random.rand(rank, n_cols)\n",
    "\n",
    "# function to compute loss\n",
    "def loss_func(U, V, A, lam):\n",
    "    loss = 0\n",
    "    for row in range(n_rows):\n",
    "        for col in range(n_cols):\n",
    "            if A[row,col]:\n",
    "                loss += (A[row,col] - U[row,:] @ V[:,col])**2\n",
    "    loss += lam * (np.linalg.norm(U)**2 + np.linalg.norm(V)**2)\n",
    "    return loss\n",
    "\n",
    "# function to make one step\n",
    "def make_step(U, V, A, lam):\n",
    "    # U of shape (n_rows, rank)\n",
    "    # V of shape (rank, n_cols)\n",
    "    # A of shape (n_rows, n_cols)\n",
    "    # lam is regularization parameter\n",
    "\n",
    "    # get parameters\n",
    "    rank = U.shape[1]\n",
    "    n_rows = A.shape[0]\n",
    "    n_cols = A.shape[1]\n",
    "\n",
    "    # update V following lecture script\n",
    "    B = U.transpose() @ A # offset vector representing user bias (rank, n_cols)\n",
    "    Q = np.ndarray((n_rows, rank, rank)) # helper matrix - precompute\n",
    "    for row in range(n_rows):\n",
    "        Q[row] = U[row,:].transpose() @ U[row,:]\n",
    "\n",
    "    for col in range(n_cols):\n",
    "        sum_r1_mat = 0\n",
    "        for row in range(n_rows):\n",
    "            if A[row,col]:\n",
    "                sum_r1_mat += Q[row,:,:]\n",
    "        inv = np.linalg.inv(sum_r1_mat + lam * np.identity(rank))\n",
    "        V[:,col] = inv @ B[:,col]\n",
    "\n",
    "    # update U adapting lecture script\n",
    "    B = A @ V.transpose() # offset vector representing movie bias (n_rows, rank)\n",
    "    Q = np.ndarray((n_cols, rank, rank)) # helper matrix - precompute\n",
    "    for col in range(n_cols):\n",
    "        Q[col] = V[:,col] @ V[:,col].transpose()\n",
    "\n",
    "    for row in range(n_rows):\n",
    "        sum_r1_mat = 0\n",
    "        for col in range(n_cols):\n",
    "            if A[row,col]:\n",
    "                sum_r1_mat += Q[col,:,:]\n",
    "        inv = np.linalg.inv(sum_r1_mat + lam * np.identity(rank))\n",
    "        U[row,:] = B[row,:] @ inv\n",
    "\n",
    "    return U, V\n",
    "\n",
    "# make steps until convergence\n",
    "losses = []\n",
    "for i in range(10):\n",
    "    U, V = make_step(U, V, train_matrix[:n_rows, :n_cols], lam)\n",
    "    loss = loss_func(U, V, train_matrix[:n_rows, :n_cols], lam)\n",
    "    losses.append(loss)\n",
    "    print('Step: {}, Loss: {}'.format(i, loss))\n"
   ],
   "metadata": {
    "collapsed": false,
    "ExecuteTime": {
     "start_time": "2023-05-02T17:36:13.596809Z",
     "end_time": "2023-05-02T17:36:27.021013Z"
    }
   }
  },
  {
   "cell_type": "code",
   "execution_count": null,
   "outputs": [],
   "source": [],
   "metadata": {
    "collapsed": false
   }
  }
 ],
 "metadata": {
  "kernelspec": {
   "display_name": "Python 3",
   "language": "python",
   "name": "python3"
  },
  "language_info": {
   "codemirror_mode": {
    "name": "ipython",
    "version": 2
   },
   "file_extension": ".py",
   "mimetype": "text/x-python",
   "name": "python",
   "nbconvert_exporter": "python",
   "pygments_lexer": "ipython2",
   "version": "2.7.6"
  }
 },
 "nbformat": 4,
 "nbformat_minor": 0
}
