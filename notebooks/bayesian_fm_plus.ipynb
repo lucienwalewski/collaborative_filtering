{
 "cells": [
  {
   "cell_type": "code",
   "execution_count": 49,
   "metadata": {
    "collapsed": true,
    "ExecuteTime": {
     "start_time": "2023-07-14T19:00:32.439979Z",
     "end_time": "2023-07-14T19:00:32.441660Z"
    }
   },
   "outputs": [],
   "source": [
    "from collections import defaultdict\n",
    "import numpy as np\n",
    "from sklearn.preprocessing import OneHotEncoder\n",
    "from sklearn import metrics\n",
    "import myfm\n",
    "from myfm import RelationBlock\n",
    "from scipy import sparse as sps\n",
    "\n",
    "from sklearn.model_selection import train_test_split\n",
    "import pandas as pd\n",
    "\n",
    "def load_cil(dataset=\"split\"):\n",
    "\n",
    "    file = \"data_train\" if dataset != \"test\" else \"sampleSubmission\"\n",
    "    data = pd.read_csv(f'../data/{file}.csv', index_col=0)\n",
    "    data['user'] = data.index.str.split('_').str[0].str[1:].astype('int32')\n",
    "    data['movie'] = data.index.str.split('_').str[1].str[1:].astype('int32')\n",
    "    data.rename(columns={'Prediction': 'rating'}, inplace=True)\n",
    "    data['rating'] = data['rating'].astype('uint8')\n",
    "    data = data[['user', 'movie', 'rating']]\n",
    "\n",
    "    data['user'] = data['user']\n",
    "    data['movie'] = data['movie']\n",
    "    # print(\"Subtracted {} from user and movie\".format(1))\n",
    "\n",
    "    user_num = 10000  # int(data['user'].max() + 1)\n",
    "    movie_num = 1000  # int(data['movie'].max() + 1)\n",
    "    print(\"User num: {}, Movie num: {}\".format(user_num, movie_num))\n",
    "\n",
    "    train_data = val_data = None\n",
    "    if dataset == \"test\":\n",
    "        val_data = data\n",
    "    elif dataset == \"train\":\n",
    "        train_data = data\n",
    "    else:\n",
    "        train_data, val_data = train_test_split(data, test_size=0.2, random_state=42)\n",
    "\n",
    "    return train_data, val_data, user_num, movie_num"
   ]
  },
  {
   "cell_type": "code",
   "execution_count": 50,
   "outputs": [
    {
     "name": "stdout",
     "output_type": "stream",
     "text": [
      "User num: 10000, Movie num: 1000\n"
     ]
    }
   ],
   "source": [
    "train_data, val_data, user_num, movie_num = load_cil(\"train\")"
   ],
   "metadata": {
    "collapsed": false,
    "ExecuteTime": {
     "start_time": "2023-07-14T19:00:34.689741Z",
     "end_time": "2023-07-14T19:00:38.069326Z"
    }
   }
  },
  {
   "cell_type": "code",
   "execution_count": 55,
   "outputs": [
    {
     "name": "stdout",
     "output_type": "stream",
     "text": [
      "User num: 10000, Movie num: 1000\n"
     ]
    }
   ],
   "source": [
    "_, val_data, user_num, movie_num = load_cil(\"test\")"
   ],
   "metadata": {
    "collapsed": false,
    "ExecuteTime": {
     "start_time": "2023-07-14T19:01:43.280954Z",
     "end_time": "2023-07-14T19:01:46.474354Z"
    }
   }
  },
  {
   "cell_type": "code",
   "execution_count": 51,
   "outputs": [],
   "source": [
    "# index \"0\" is reserved for unknown ids.\n",
    "user_to_index = defaultdict(lambda : 0, { uid: i+1 for i,uid in enumerate(np.unique(train_data.user)) })\n",
    "movie_to_index = defaultdict(lambda: 0, { mid: i+1 for i,mid in enumerate(np.unique(train_data.movie))})\n",
    "USER_ID_SIZE = len(user_to_index) + 1\n",
    "MOVIE_ID_SIZE = len(movie_to_index) + 1"
   ],
   "metadata": {
    "collapsed": false,
    "ExecuteTime": {
     "start_time": "2023-07-14T19:00:40.852697Z",
     "end_time": "2023-07-14T19:00:40.909668Z"
    }
   }
  },
  {
   "cell_type": "code",
   "execution_count": 52,
   "outputs": [],
   "source": [
    "# The flags to control the included features.\n",
    "use_iu = True # use implicit user feature\n",
    "use_ii = True # use implicit item feature\n",
    "\n",
    "movie_vs_watched = dict()\n",
    "user_vs_watched = dict()\n",
    "for row in train_data.itertuples():\n",
    "    user_id = row.user\n",
    "    movie_id = row.movie\n",
    "    movie_vs_watched.setdefault(movie_id, list()).append(user_id)\n",
    "    user_vs_watched.setdefault(user_id, list()).append(movie_id)"
   ],
   "metadata": {
    "collapsed": false,
    "ExecuteTime": {
     "start_time": "2023-07-14T19:00:42.577389Z",
     "end_time": "2023-07-14T19:00:43.271938Z"
    }
   }
  },
  {
   "cell_type": "code",
   "execution_count": 53,
   "outputs": [],
   "source": [
    "# given user/movie ids, add additional infos and return it as sparse\n",
    "def augment_user_id(user_ids):\n",
    "    Xs = []\n",
    "    X_uid = sps.lil_matrix((len(user_ids), USER_ID_SIZE))\n",
    "    for index, user_id in enumerate(user_ids):\n",
    "        X_uid[index, user_to_index[user_id]] = 1\n",
    "    Xs.append(X_uid)\n",
    "    if use_iu:\n",
    "        X_iu = sps.lil_matrix((len(user_ids), MOVIE_ID_SIZE))\n",
    "        for index, user_id in enumerate(user_ids):\n",
    "            watched_movies = user_vs_watched.get(user_id, [])\n",
    "            normalizer = 1 / max(len(watched_movies), 1) ** 0.5\n",
    "            for uid in watched_movies:\n",
    "                X_iu[index, movie_to_index[uid]] = normalizer\n",
    "        Xs.append(X_iu)\n",
    "    return sps.hstack(Xs, format='csr')\n",
    "\n",
    "def augment_movie_id(movie_ids):\n",
    "    Xs = []\n",
    "    X_movie = sps.lil_matrix((len(movie_ids), MOVIE_ID_SIZE))\n",
    "    for index, movie_id in enumerate(movie_ids):\n",
    "        X_movie[index, movie_to_index[movie_id]] = 1\n",
    "    Xs.append(X_movie)\n",
    "\n",
    "    if use_ii:\n",
    "        X_ii = sps.lil_matrix((len(movie_ids), USER_ID_SIZE))\n",
    "        for index, movie_id in enumerate(movie_ids):\n",
    "            watched_users = movie_vs_watched.get(movie_id, [])\n",
    "            normalizer = 1 / max(len(watched_users), 1) ** 0.5\n",
    "            for uid in watched_users:\n",
    "                X_ii[index, user_to_index[uid]] = normalizer\n",
    "        Xs.append(X_ii)\n",
    "\n",
    "\n",
    "    return sps.hstack(Xs, format='csr')"
   ],
   "metadata": {
    "collapsed": false,
    "ExecuteTime": {
     "start_time": "2023-07-14T19:00:45.215364Z",
     "end_time": "2023-07-14T19:00:45.218097Z"
    }
   }
  },
  {
   "cell_type": "code",
   "execution_count": 56,
   "outputs": [],
   "source": [
    "train_uid_unique, train_uid_index = np.unique(train_data.user, return_inverse=True)\n",
    "train_mid_unique, train_mid_index = np.unique(train_data.movie, return_inverse=True)\n",
    "user_data_train = augment_user_id(train_uid_unique)\n",
    "movie_data_train = augment_movie_id(train_mid_unique)\n",
    "\n",
    "test_uid_unique, test_uid_index = np.unique(val_data.user, return_inverse=True)\n",
    "test_mid_unique, test_mid_index = np.unique(val_data.movie, return_inverse=True)\n",
    "user_data_test = augment_user_id(test_uid_unique)\n",
    "movie_data_test = augment_movie_id(test_mid_unique)"
   ],
   "metadata": {
    "collapsed": false,
    "ExecuteTime": {
     "start_time": "2023-07-14T19:01:50.448434Z",
     "end_time": "2023-07-14T19:02:01.383408Z"
    }
   }
  },
  {
   "cell_type": "code",
   "execution_count": 57,
   "outputs": [],
   "source": [
    "block_user_train = RelationBlock(train_uid_index, user_data_train)\n",
    "block_movie_train = RelationBlock(train_mid_index, movie_data_train)\n",
    "block_user_test = RelationBlock(test_uid_index, user_data_test)\n",
    "block_movie_test = RelationBlock(test_mid_index, movie_data_test)"
   ],
   "metadata": {
    "collapsed": false,
    "ExecuteTime": {
     "start_time": "2023-07-14T19:02:09.275873Z",
     "end_time": "2023-07-14T19:02:09.642764Z"
    }
   }
  },
  {
   "cell_type": "code",
   "execution_count": 58,
   "outputs": [],
   "source": [
    "FM_RANK = 10\n",
    "\n",
    "FEATURE_COLUMNS = ['user', 'movie']\n",
    "ohe = OneHotEncoder(handle_unknown='ignore')\n",
    "\n",
    "X_train = ohe.fit_transform(train_data[FEATURE_COLUMNS])\n",
    "X_test = ohe.transform(val_data[FEATURE_COLUMNS])\n",
    "y_train = train_data.rating.values\n",
    "y_test = val_data.rating.values"
   ],
   "metadata": {
    "collapsed": false,
    "ExecuteTime": {
     "start_time": "2023-07-14T19:02:11.559991Z",
     "end_time": "2023-07-14T19:02:11.996599Z"
    }
   }
  },
  {
   "cell_type": "code",
   "execution_count": 59,
   "outputs": [
    {
     "name": "stderr",
     "output_type": "stream",
     "text": [
      "alpha = 1.13 w0 = 3.47 : 100%|██████████| 512/512 [05:27<00:00,  1.56it/s]\n"
     ]
    }
   ],
   "source": [
    "fm_rb = myfm.MyFMRegressor(rank=FM_RANK).fit(\n",
    "    X_train, y_train,\n",
    "    X_rel=[block_user_train],\n",
    "    n_iter=512, n_kept_samples=200\n",
    ")"
   ],
   "metadata": {
    "collapsed": false,
    "ExecuteTime": {
     "start_time": "2023-07-14T19:02:33.694013Z",
     "end_time": "2023-07-14T19:08:01.608356Z"
    }
   }
  },
  {
   "cell_type": "code",
   "execution_count": 48,
   "outputs": [
    {
     "name": "stdout",
     "output_type": "stream",
     "text": [
      "rmse=0.9774482247691249, mae=0.7779798504681602\n"
     ]
    }
   ],
   "source": [
    "test_prediction = fm_rb.predict(\n",
    "    X_test,\n",
    "    X_rel=[block_user_test]\n",
    ")\n",
    "\n",
    "rmse = ((y_test - test_prediction) ** 2).mean() ** 0.5\n",
    "mae = np.abs(y_test - test_prediction).mean()\n",
    "print(f'rmse={rmse}, mae={mae}')"
   ],
   "metadata": {
    "collapsed": false,
    "ExecuteTime": {
     "start_time": "2023-07-14T18:58:08.949738Z",
     "end_time": "2023-07-14T18:58:08.951202Z"
    }
   }
  },
  {
   "cell_type": "code",
   "execution_count": null,
   "outputs": [],
   "source": [
    "# 512, 50 ->  rmse=0.9774482247691249\n",
    "# 512, 10 -> rmse=0.975..."
   ],
   "metadata": {
    "collapsed": false
   }
  },
  {
   "cell_type": "code",
   "execution_count": 60,
   "outputs": [],
   "source": [
    "test_prediction = fm_rb.predict(\n",
    "    X_test,\n",
    "    X_rel=[block_user_test]\n",
    ")\n",
    "val_data['Prediction'] = test_prediction\n",
    "val_data['Prediction'].to_csv(f\"../lightning_logs/BFM/predictions_bfm_plus_plus.csv\")"
   ],
   "metadata": {
    "collapsed": false,
    "ExecuteTime": {
     "start_time": "2023-07-14T19:08:24.855501Z",
     "end_time": "2023-07-14T19:08:25.880938Z"
    }
   }
  },
  {
   "cell_type": "code",
   "execution_count": null,
   "outputs": [],
   "source": [],
   "metadata": {
    "collapsed": false
   }
  }
 ],
 "metadata": {
  "kernelspec": {
   "display_name": "Python 3",
   "language": "python",
   "name": "python3"
  },
  "language_info": {
   "codemirror_mode": {
    "name": "ipython",
    "version": 2
   },
   "file_extension": ".py",
   "mimetype": "text/x-python",
   "name": "python",
   "nbconvert_exporter": "python",
   "pygments_lexer": "ipython2",
   "version": "2.7.6"
  }
 },
 "nbformat": 4,
 "nbformat_minor": 0
}
