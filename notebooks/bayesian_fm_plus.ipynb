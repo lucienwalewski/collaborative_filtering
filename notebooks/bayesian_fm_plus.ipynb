{
 "cells": [
  {
   "cell_type": "code",
   "execution_count": 25,
   "metadata": {
    "ExecuteTime": {
     "end_time": "2023-07-26T15:44:31.125402Z",
     "start_time": "2023-07-26T15:44:31.048017Z"
    },
    "collapsed": true
   },
   "outputs": [],
   "source": [
    "from collections import defaultdict\n",
    "import numpy as np\n",
    "import myfm\n",
    "from myfm import RelationBlock\n",
    "from scipy import sparse as sps\n",
    "\n",
    "from sklearn.model_selection import train_test_split\n",
    "import pandas as pd\n",
    "import matplotlib.pyplot as plt\n",
    "import seaborn as sns\n",
    "sns.set_theme(style=\"whitegrid\")\n",
    "\n",
    "def load_cil(dataset=\"split\"):\n",
    "\n",
    "    file = \"data_train\" if dataset != \"test\" else \"sampleSubmission\"\n",
    "    data = pd.read_csv(f'../../delivery/data/{file}.csv', index_col=0)\n",
    "    data['user'] = data.index.str.split('_').str[0].str[1:].astype('int32')\n",
    "    data['movie'] = data.index.str.split('_').str[1].str[1:].astype('int32')\n",
    "    data.rename(columns={'Prediction': 'rating'}, inplace=True)\n",
    "    data['rating'] = data['rating'].astype('uint8')\n",
    "    data = data[['user', 'movie', 'rating']]\n",
    "\n",
    "    data['user'] = data['user']\n",
    "    data['movie'] = data['movie']\n",
    "    # print(\"Subtracted {} from user and movie\".format(1))\n",
    "\n",
    "    user_num = 10000  # int(data['user'].max() + 1)\n",
    "    movie_num = 1000  # int(data['movie'].max() + 1)\n",
    "    print(\"User num: {}, Movie num: {}\".format(user_num, movie_num))\n",
    "\n",
    "    train_data = val_data = None\n",
    "    if dataset == \"test\":\n",
    "        val_data = data\n",
    "    elif dataset == \"train\":\n",
    "        train_data = data\n",
    "    else:\n",
    "        train_data, val_data = train_test_split(data, test_size=0.2, random_state=42)\n",
    "\n",
    "    return train_data, val_data, user_num, movie_num"
   ]
  },
  {
   "cell_type": "markdown",
   "metadata": {
    "collapsed": false
   },
   "source": []
  },
  {
   "cell_type": "code",
   "execution_count": 26,
   "metadata": {
    "ExecuteTime": {
     "end_time": "2023-07-26T15:31:46.779977Z",
     "start_time": "2023-07-26T15:31:43.596386Z"
    },
    "collapsed": false
   },
   "outputs": [
    {
     "name": "stdout",
     "output_type": "stream",
     "text": [
      "User num: 10000, Movie num: 1000\n"
     ]
    }
   ],
   "source": [
    "train_data, val_data, user_num, movie_num = load_cil(\"train\")"
   ]
  },
  {
   "cell_type": "code",
   "execution_count": 27,
   "metadata": {
    "ExecuteTime": {
     "end_time": "2023-07-26T15:31:51.594330Z",
     "start_time": "2023-07-26T15:31:48.547289Z"
    },
    "collapsed": false
   },
   "outputs": [
    {
     "name": "stdout",
     "output_type": "stream",
     "text": [
      "User num: 10000, Movie num: 1000\n"
     ]
    }
   ],
   "source": [
    "_, val_data, user_num, movie_num = load_cil(\"test\")"
   ]
  },
  {
   "cell_type": "code",
   "execution_count": 28,
   "metadata": {
    "ExecuteTime": {
     "end_time": "2023-07-26T15:31:52.842780Z",
     "start_time": "2023-07-26T15:31:52.789213Z"
    },
    "collapsed": false
   },
   "outputs": [],
   "source": [
    "# index \"0\" is reserved for unknown ids.\n",
    "user_to_index = defaultdict(lambda : 0, { uid: i+1 for i,uid in enumerate(np.unique(train_data.user)) })\n",
    "movie_to_index = defaultdict(lambda: 0, { mid: i+1 for i,mid in enumerate(np.unique(train_data.movie))})\n",
    "USER_ID_SIZE = len(user_to_index) + 1\n",
    "MOVIE_ID_SIZE = len(movie_to_index) + 1"
   ]
  },
  {
   "cell_type": "code",
   "execution_count": 29,
   "metadata": {
    "ExecuteTime": {
     "end_time": "2023-07-26T15:31:56.333593Z",
     "start_time": "2023-07-26T15:31:55.597396Z"
    },
    "collapsed": false
   },
   "outputs": [],
   "source": [
    "# The flags to control the included features.\n",
    "use_iu = True # use implicit user feature\n",
    "use_ii = True # use implicit item feature\n",
    "\n",
    "movie_vs_watched = dict()\n",
    "user_vs_watched = dict()\n",
    "for row in train_data.itertuples():\n",
    "    user_id = row.user\n",
    "    movie_id = row.movie\n",
    "    movie_vs_watched.setdefault(movie_id, list()).append(user_id)\n",
    "    user_vs_watched.setdefault(user_id, list()).append(movie_id)\n",
    "X_date_train, X_date_test = (None, None)"
   ]
  },
  {
   "cell_type": "code",
   "execution_count": 30,
   "metadata": {
    "ExecuteTime": {
     "end_time": "2023-07-26T15:31:57.933227Z",
     "start_time": "2023-07-26T15:31:57.928938Z"
    },
    "collapsed": false
   },
   "outputs": [],
   "source": [
    "# given user/movie ids, add additional infos and return it as sparse\n",
    "def augment_user_id(user_ids):\n",
    "    Xs = []\n",
    "    X_uid = sps.lil_matrix((len(user_ids), USER_ID_SIZE))\n",
    "    for index, user_id in enumerate(user_ids):\n",
    "        X_uid[index, user_to_index[user_id]] = 1\n",
    "    Xs.append(X_uid)\n",
    "    if use_iu:\n",
    "        X_iu = sps.lil_matrix((len(user_ids), MOVIE_ID_SIZE))\n",
    "        for index, user_id in enumerate(user_ids):\n",
    "            watched_movies = user_vs_watched.get(user_id, [])\n",
    "            normalizer = 1 / max(len(watched_movies), 1) ** 0.5\n",
    "            for uid in watched_movies:\n",
    "                X_iu[index, movie_to_index[uid]] = normalizer\n",
    "        Xs.append(X_iu)\n",
    "    return sps.hstack(Xs, format='csr')\n",
    "\n",
    "def augment_movie_id(movie_ids):\n",
    "    Xs = []\n",
    "    X_movie = sps.lil_matrix((len(movie_ids), MOVIE_ID_SIZE))\n",
    "    for index, movie_id in enumerate(movie_ids):\n",
    "        X_movie[index, movie_to_index[movie_id]] = 1\n",
    "    Xs.append(X_movie)\n",
    "\n",
    "    if use_ii:\n",
    "        X_ii = sps.lil_matrix((len(movie_ids), USER_ID_SIZE))\n",
    "        for index, movie_id in enumerate(movie_ids):\n",
    "            watched_users = movie_vs_watched.get(movie_id, [])\n",
    "            normalizer = 1 / max(len(watched_users), 1) ** 0.5\n",
    "            for uid in watched_users:\n",
    "                X_ii[index, user_to_index[uid]] = normalizer\n",
    "        Xs.append(X_ii)\n",
    "\n",
    "\n",
    "    return sps.hstack(Xs, format='csr')"
   ]
  },
  {
   "cell_type": "code",
   "execution_count": 31,
   "metadata": {
    "ExecuteTime": {
     "end_time": "2023-07-26T15:32:07.116174Z",
     "start_time": "2023-07-26T15:31:59.275052Z"
    },
    "collapsed": false
   },
   "outputs": [],
   "source": [
    "train_uid_unique, train_uid_index = np.unique(train_data.user, return_inverse=True)\n",
    "train_mid_unique, train_mid_index = np.unique(train_data.movie, return_inverse=True)\n",
    "user_data_train = augment_user_id(train_uid_unique)\n",
    "movie_data_train = augment_movie_id(train_mid_unique)\n",
    "\n",
    "test_uid_unique, test_uid_index = np.unique(val_data.user, return_inverse=True)\n",
    "test_mid_unique, test_mid_index = np.unique(val_data.movie, return_inverse=True)\n",
    "user_data_test = augment_user_id(test_uid_unique)\n",
    "movie_data_test = augment_movie_id(test_mid_unique)"
   ]
  },
  {
   "cell_type": "code",
   "execution_count": 32,
   "metadata": {
    "ExecuteTime": {
     "end_time": "2023-07-26T15:32:14.346998Z",
     "start_time": "2023-07-26T15:32:14.338544Z"
    },
    "collapsed": false
   },
   "outputs": [],
   "source": [
    "block_user_train = RelationBlock(train_uid_index, user_data_train)\n",
    "block_movie_train = RelationBlock(train_mid_index, movie_data_train)\n",
    "block_user_test = RelationBlock(test_uid_index, user_data_test)\n",
    "block_movie_test = RelationBlock(test_mid_index, movie_data_test)"
   ]
  },
  {
   "cell_type": "code",
   "execution_count": 33,
   "metadata": {
    "ExecuteTime": {
     "end_time": "2023-07-26T15:32:15.133459Z",
     "start_time": "2023-07-26T15:32:15.126345Z"
    },
    "collapsed": false
   },
   "outputs": [],
   "source": [
    "y_train = train_data.rating.values\n",
    "y_test = val_data.rating.values"
   ]
  },
  {
   "cell_type": "code",
   "execution_count": 34,
   "metadata": {
    "ExecuteTime": {
     "end_time": "2023-07-26T15:32:16.973196Z",
     "start_time": "2023-07-26T15:32:16.967122Z"
    },
    "collapsed": false
   },
   "outputs": [],
   "source": [
    "FM_RANK = 11\n",
    "N_ITER = 200 # 512\n",
    "N_KEPT_SAMPLES = 200 # 200"
   ]
  },
  {
   "cell_type": "code",
   "execution_count": 35,
   "metadata": {
    "ExecuteTime": {
     "end_time": "2023-07-26T15:34:01.409141Z",
     "start_time": "2023-07-26T15:32:19.452896Z"
    },
    "collapsed": false
   },
   "outputs": [
    {
     "name": "stderr",
     "output_type": "stream",
     "text": [
      "  0%|          | 0/200 [00:00<?, ?it/s]"
     ]
    },
    {
     "name": "stderr",
     "output_type": "stream",
     "text": [
      "alpha = 1.14 w0 = 3.65 : 100%|██████████| 200/200 [01:43<00:00,  1.92it/s]\n"
     ]
    }
   ],
   "source": [
    "fm_rb = myfm.MyFMRegressor(rank=FM_RANK).fit(\n",
    "    X_date_train, y_train,\n",
    "    X_rel=[block_user_train, block_movie_train],\n",
    "    group_shapes=[USER_ID_SIZE, MOVIE_ID_SIZE, MOVIE_ID_SIZE, USER_ID_SIZE],\n",
    "    n_iter=N_ITER, n_kept_samples=N_KEPT_SAMPLES\n",
    ")"
   ]
  },
  {
   "cell_type": "code",
   "execution_count": 36,
   "metadata": {
    "ExecuteTime": {
     "end_time": "2023-07-26T15:34:28.137211Z",
     "start_time": "2023-07-26T15:34:28.136053Z"
    },
    "collapsed": false
   },
   "outputs": [],
   "source": [
    "test_prediction = fm_rb.predict(\n",
    "    X_date_test,\n",
    "    X_rel=[block_user_test, block_movie_test]\n",
    ")"
   ]
  },
  {
   "cell_type": "code",
   "execution_count": 37,
   "metadata": {
    "ExecuteTime": {
     "end_time": "2023-07-26T15:34:29.477868Z",
     "start_time": "2023-07-26T15:34:29.468228Z"
    },
    "collapsed": false
   },
   "outputs": [],
   "source": [
    "test_prediction = np.clip(test_prediction, 1, 5)\n",
    "val_data['Prediction'] = test_prediction"
   ]
  },
  {
   "cell_type": "code",
   "execution_count": 38,
   "metadata": {
    "ExecuteTime": {
     "end_time": "2023-07-26T15:30:07.639803Z",
     "start_time": "2023-07-26T15:30:07.630635Z"
    },
    "collapsed": false
   },
   "outputs": [
    {
     "name": "stdout",
     "output_type": "stream",
     "text": [
      "rmse=1.0174302811203404, mae=0.8952395290973649\n"
     ]
    }
   ],
   "source": [
    "rmse = ((y_test - val_data['Prediction']) ** 2).mean() ** 0.5\n",
    "mae = np.abs(y_test - val_data['Prediction']).mean()\n",
    "print(f'rmse={rmse}, mae={mae}')"
   ]
  },
  {
   "cell_type": "code",
   "execution_count": 39,
   "metadata": {
    "collapsed": false
   },
   "outputs": [],
   "source": [
    "# 512, 50 ->  rmse=0.9774482247691249\n",
    "# 512, 10 -> rmse=0.975..."
   ]
  },
  {
   "cell_type": "code",
   "execution_count": 40,
   "metadata": {
    "ExecuteTime": {
     "end_time": "2023-07-26T15:34:32.344302Z",
     "start_time": "2023-07-26T15:34:31.285690Z"
    },
    "collapsed": false
   },
   "outputs": [],
   "source": [
    "val_data['Prediction'].to_csv(f\"../../delivery/outputs/BFM/predictions_bfm_plus_plus_grouped_test_finetuned.csv\")"
   ]
  },
  {
   "cell_type": "markdown",
   "metadata": {
    "collapsed": false
   },
   "source": [
    "# Hyperparameter tuning"
   ]
  },
  {
   "cell_type": "code",
   "execution_count": 43,
   "metadata": {
    "ExecuteTime": {
     "end_time": "2023-07-26T15:13:45.254871Z",
     "start_time": "2023-07-26T15:01:56.480594Z"
    },
    "collapsed": false
   },
   "outputs": [
    {
     "name": "stderr",
     "output_type": "stream",
     "text": [
      "  0%|          | 0/512 [00:00<?, ?it/s]"
     ]
    },
    {
     "name": "stderr",
     "output_type": "stream",
     "text": [
      "alpha = 1.09 w0 = 3.57 :   9%|▉         | 45/512 [00:14<02:33,  3.03it/s]\n"
     ]
    },
    {
     "ename": "KeyboardInterrupt",
     "evalue": "",
     "output_type": "error",
     "traceback": [
      "\u001b[0;31m---------------------------------------------------------------------------\u001b[0m",
      "\u001b[0;31mKeyboardInterrupt\u001b[0m                         Traceback (most recent call last)",
      "Cell \u001b[0;32mIn[43], line 14\u001b[0m\n\u001b[1;32m     12\u001b[0m \u001b[39mfor\u001b[39;00m FM_RANK \u001b[39min\u001b[39;00m fm_rank_list:\n\u001b[1;32m     13\u001b[0m     N_KEPT_SAMPLES \u001b[39m=\u001b[39m \u001b[39mmin\u001b[39m(\u001b[39m200\u001b[39m, N_ITER)\n\u001b[0;32m---> 14\u001b[0m     fm_rb \u001b[39m=\u001b[39m myfm\u001b[39m.\u001b[39;49mMyFMRegressor(rank\u001b[39m=\u001b[39;49mFM_RANK)\u001b[39m.\u001b[39;49mfit(\n\u001b[1;32m     15\u001b[0m         X_date_train, y_train,\n\u001b[1;32m     16\u001b[0m         X_rel\u001b[39m=\u001b[39;49m[block_user_train, block_movie_train],\n\u001b[1;32m     17\u001b[0m         group_shapes\u001b[39m=\u001b[39;49m[USER_ID_SIZE, MOVIE_ID_SIZE, MOVIE_ID_SIZE, USER_ID_SIZE],\n\u001b[1;32m     18\u001b[0m         n_iter\u001b[39m=\u001b[39;49mN_ITER, n_kept_samples\u001b[39m=\u001b[39;49mN_KEPT_SAMPLES\n\u001b[1;32m     19\u001b[0m     )\n\u001b[1;32m     20\u001b[0m     test_prediction \u001b[39m=\u001b[39m fm_rb\u001b[39m.\u001b[39mpredict(\n\u001b[1;32m     21\u001b[0m         X_date_test,\n\u001b[1;32m     22\u001b[0m         X_rel\u001b[39m=\u001b[39m[block_user_test, block_movie_test]\n\u001b[1;32m     23\u001b[0m     )\n\u001b[1;32m     24\u001b[0m     test_prediction[test_prediction \u001b[39m>\u001b[39m \u001b[39m5\u001b[39m] \u001b[39m=\u001b[39m \u001b[39m5\u001b[39m\n",
      "File \u001b[0;32m/opt/homebrew/Caskroom/miniforge/base/envs/colaborative_fil/lib/python3.9/site-packages/myfm/gibbs.py:203\u001b[0m, in \u001b[0;36mMyFMGibbsRegressor.fit\u001b[0;34m(self, X, y, X_rel, X_test, y_test, X_rel_test, n_iter, n_kept_samples, grouping, group_shapes, callback, config_builder)\u001b[0m\n\u001b[1;32m    146\u001b[0m \u001b[39mdef\u001b[39;00m \u001b[39mfit\u001b[39m(\n\u001b[1;32m    147\u001b[0m     \u001b[39mself\u001b[39m,\n\u001b[1;32m    148\u001b[0m     X: ArrayLike,\n\u001b[0;32m   (...)\u001b[0m\n\u001b[1;32m    164\u001b[0m     config_builder: Optional[ConfigBuilder] \u001b[39m=\u001b[39m \u001b[39mNone\u001b[39;00m,\n\u001b[1;32m    165\u001b[0m ) \u001b[39m-\u001b[39m\u001b[39m>\u001b[39m \u001b[39m\"\u001b[39m\u001b[39mMyFMGibbsRegressor\u001b[39m\u001b[39m\"\u001b[39m:\n\u001b[1;32m    166\u001b[0m \u001b[39m    \u001b[39m\u001b[39mr\u001b[39m\u001b[39m\"\"\"Performs Gibbs sampling to fit the data.\u001b[39;00m\n\u001b[1;32m    167\u001b[0m \n\u001b[1;32m    168\u001b[0m \u001b[39m    Parameters\u001b[39;00m\n\u001b[0;32m   (...)\u001b[0m\n\u001b[1;32m    201\u001b[0m \u001b[39m        Called at the every end of each Gibbs iteration.\u001b[39;00m\n\u001b[1;32m    202\u001b[0m \u001b[39m    \"\"\"\u001b[39;00m\n\u001b[0;32m--> 203\u001b[0m     \u001b[39mself\u001b[39;49m\u001b[39m.\u001b[39;49m_fit(\n\u001b[1;32m    204\u001b[0m         X,\n\u001b[1;32m    205\u001b[0m         y,\n\u001b[1;32m    206\u001b[0m         X_rel\u001b[39m=\u001b[39;49mX_rel,\n\u001b[1;32m    207\u001b[0m         X_test\u001b[39m=\u001b[39;49mX_test,\n\u001b[1;32m    208\u001b[0m         X_rel_test\u001b[39m=\u001b[39;49mX_rel_test,\n\u001b[1;32m    209\u001b[0m         y_test\u001b[39m=\u001b[39;49my_test,\n\u001b[1;32m    210\u001b[0m         n_iter\u001b[39m=\u001b[39;49mn_iter,\n\u001b[1;32m    211\u001b[0m         n_kept_samples\u001b[39m=\u001b[39;49mn_kept_samples,\n\u001b[1;32m    212\u001b[0m         grouping\u001b[39m=\u001b[39;49mgrouping,\n\u001b[1;32m    213\u001b[0m         callback\u001b[39m=\u001b[39;49mcallback,\n\u001b[1;32m    214\u001b[0m         group_shapes\u001b[39m=\u001b[39;49mgroup_shapes,\n\u001b[1;32m    215\u001b[0m         config_builder\u001b[39m=\u001b[39;49mconfig_builder,\n\u001b[1;32m    216\u001b[0m     )\n\u001b[1;32m    217\u001b[0m     \u001b[39mreturn\u001b[39;00m \u001b[39mself\u001b[39m\n",
      "File \u001b[0;32m/opt/homebrew/Caskroom/miniforge/base/envs/colaborative_fil/lib/python3.9/site-packages/myfm/base.py:314\u001b[0m, in \u001b[0;36mMyFMBase._fit\u001b[0;34m(self, X, y, X_rel, X_test, y_test, X_rel_test, n_iter, n_kept_samples, grouping, group_shapes, callback, config_builder, callback_default_freq)\u001b[0m\n\u001b[1;32m    311\u001b[0m     pbar\u001b[39m.\u001b[39mupdate(\u001b[39m1\u001b[39m)\n\u001b[1;32m    312\u001b[0m     \u001b[39mreturn\u001b[39;00m should_stop\n\u001b[0;32m--> 314\u001b[0m \u001b[39mself\u001b[39m\u001b[39m.\u001b[39mpredictor_, \u001b[39mself\u001b[39m\u001b[39m.\u001b[39mhistory_ \u001b[39m=\u001b[39m \u001b[39mself\u001b[39;49m\u001b[39m.\u001b[39;49m_train_core(\n\u001b[1;32m    315\u001b[0m     \u001b[39mself\u001b[39;49m\u001b[39m.\u001b[39;49mrank,\n\u001b[1;32m    316\u001b[0m     \u001b[39mself\u001b[39;49m\u001b[39m.\u001b[39;49minit_stdev,\n\u001b[1;32m    317\u001b[0m     X,\n\u001b[1;32m    318\u001b[0m     X_rel,\n\u001b[1;32m    319\u001b[0m     y,\n\u001b[1;32m    320\u001b[0m     \u001b[39mself\u001b[39;49m\u001b[39m.\u001b[39;49mrandom_seed,\n\u001b[1;32m    321\u001b[0m     config,\n\u001b[1;32m    322\u001b[0m     wrapped_callback,\n\u001b[1;32m    323\u001b[0m )\n",
      "File \u001b[0;32m/opt/homebrew/Caskroom/miniforge/base/envs/colaborative_fil/lib/python3.9/site-packages/myfm/gibbs.py:105\u001b[0m, in \u001b[0;36mMyFMGibbsBase._train_core\u001b[0;34m(cls, rank, init_stdev, X, X_rel, y, random_seed, config, callback)\u001b[0m\n\u001b[1;32m     93\u001b[0m \u001b[39m@classmethod\u001b[39m\n\u001b[1;32m     94\u001b[0m \u001b[39mdef\u001b[39;00m \u001b[39m_train_core\u001b[39m(\n\u001b[1;32m     95\u001b[0m     \u001b[39mcls\u001b[39m,\n\u001b[0;32m   (...)\u001b[0m\n\u001b[1;32m    103\u001b[0m     callback: Callable[[\u001b[39mint\u001b[39m, FM, FMHyperParameters, LearningHistory], \u001b[39mbool\u001b[39m],\n\u001b[1;32m    104\u001b[0m ) \u001b[39m-\u001b[39m\u001b[39m>\u001b[39m Tuple[Predictor, LearningHistory]:\n\u001b[0;32m--> 105\u001b[0m     \u001b[39mreturn\u001b[39;00m create_train_fm(\n\u001b[1;32m    106\u001b[0m         rank, init_stdev, X, X_rel, y, random_seed, config, callback\n\u001b[1;32m    107\u001b[0m     )\n",
      "File \u001b[0;32m/opt/homebrew/Caskroom/miniforge/base/envs/colaborative_fil/lib/python3.9/site-packages/myfm/base.py:305\u001b[0m, in \u001b[0;36mMyFMBase._fit.<locals>.wrapped_callback\u001b[0;34m(i, fm, hyper, history)\u001b[0m\n\u001b[1;32m    301\u001b[0m     callback_not_null \u001b[39m=\u001b[39m callback\n\u001b[1;32m    303\u001b[0m \u001b[39mwith\u001b[39;00m tqdm(total\u001b[39m=\u001b[39mn_iter) \u001b[39mas\u001b[39;00m pbar:\n\u001b[0;32m--> 305\u001b[0m     \u001b[39mdef\u001b[39;00m \u001b[39mwrapped_callback\u001b[39m(\n\u001b[1;32m    306\u001b[0m         i: \u001b[39mint\u001b[39m, fm: FM, hyper: Hyper, history: History\n\u001b[1;32m    307\u001b[0m     ) \u001b[39m-\u001b[39m\u001b[39m>\u001b[39m \u001b[39mbool\u001b[39m:\n\u001b[1;32m    308\u001b[0m         should_stop, message \u001b[39m=\u001b[39m callback_not_null(i, fm, hyper, history)\n\u001b[1;32m    309\u001b[0m         \u001b[39mif\u001b[39;00m message \u001b[39mis\u001b[39;00m \u001b[39mnot\u001b[39;00m \u001b[39mNone\u001b[39;00m:\n",
      "\u001b[0;31mKeyboardInterrupt\u001b[0m: "
     ]
    }
   ],
   "source": [
    "N_ITER = 512\n",
    "N_KEPT_SAMPLES = 200\n",
    "\n",
    "fm_rank_list = np.arange(5,15)\n",
    "rmse_list = []\n",
    "\n",
    "best_fm_rank = None\n",
    "best_rmse = 100\n",
    "best_mae = 100\n",
    "best_model = None\n",
    "\n",
    "for FM_RANK in fm_rank_list:\n",
    "    N_KEPT_SAMPLES = min(200, N_ITER)\n",
    "    fm_rb = myfm.MyFMRegressor(rank=FM_RANK).fit(\n",
    "        X_date_train, y_train,\n",
    "        X_rel=[block_user_train, block_movie_train],\n",
    "        group_shapes=[USER_ID_SIZE, MOVIE_ID_SIZE, MOVIE_ID_SIZE, USER_ID_SIZE],\n",
    "        n_iter=N_ITER, n_kept_samples=N_KEPT_SAMPLES\n",
    "    )\n",
    "    test_prediction = fm_rb.predict(\n",
    "        X_date_test,\n",
    "        X_rel=[block_user_test, block_movie_test]\n",
    "    )\n",
    "    test_prediction[test_prediction > 5] = 5\n",
    "    test_prediction[test_prediction < 1] = 1\n",
    "    rmse = ((y_test - test_prediction) ** 2).mean() ** 0.5\n",
    "    mae = np.abs(y_test - test_prediction).mean()\n",
    "    print(f'rank={FM_RANK}, rmse={rmse}, mae={mae}')\n",
    "    rmse_list.append(rmse)\n",
    "    if rmse < best_rmse:\n",
    "        best_rmse = rmse\n",
    "        best_mae = mae\n",
    "        best_fm_rank = FM_RANK\n",
    "        best_model = fm_rb\n",
    "        val_data['Prediction'] = test_prediction\n",
    "        val_data['Prediction'].to_csv(f\"../../delivery/outputs/BFM/predictions_bfm_plus_plus_grouped_tuned.csv\")\n",
    "\n",
    "# plot rmse vs fm_rank using seaborn\n",
    "sns.set_theme(style=\"whitegrid\")\n",
    "ax = sns.lineplot(x=fm_rank_list, y=rmse_list)\n",
    "ax.set(xlabel='fm_rank', ylabel='rmse')\n",
    "plt.show()"
   ]
  },
  {
   "cell_type": "markdown",
   "metadata": {
    "collapsed": false
   },
   "source": [
    "# Investigate std of predictions"
   ]
  },
  {
   "cell_type": "code",
   "execution_count": null,
   "metadata": {
    "ExecuteTime": {
     "end_time": "2023-07-18T18:55:08.400932Z",
     "start_time": "2023-07-18T18:55:08.398498Z"
    },
    "collapsed": false
   },
   "outputs": [],
   "source": [
    "# get all predictions\n",
    "# w0_samples is of shape (200,)\n",
    "# w_samples is of shape (200, 22004)\n",
    "# V_samples is of shape (200, 22004, 10)\n",
    "\n",
    "# get single prediction\n",
    "def make_prediction(fm_rb, input):\n",
    "\n",
    "    w0 = fm_rb.w0_samples\n",
    "    w1 = np.sum(fm_rb.w_samples * input, axis=1)\n",
    "\n",
    "    w2 = np.zeros_like(w0)\n",
    "    nonzero_indices = input.nonzero()[0]\n",
    "    nonzero_values = input[nonzero_indices]\n",
    "    v_relevant = fm_rb.V_samples[:,nonzero_indices]\n",
    "    for p in range(v_relevant.shape[1] - 1):\n",
    "        for q in range(p+1, v_relevant.shape[1]):\n",
    "            w2 += np.sum(v_relevant[:,p] * v_relevant[:,q], axis=1) * nonzero_values[p] * nonzero_values[q]\n",
    "\n",
    "    print(np.mean(w0), np.mean(w1), np.mean(w2))\n",
    "    print(np.std(w0), np.std(w1), np.std(w2))\n",
    "\n",
    "    predictions = w0 + w1 + w2\n",
    "\n",
    "    prediction = np.mean(predictions)\n",
    "    std = np.std(predictions)\n",
    "    return prediction, std"
   ]
  },
  {
   "cell_type": "code",
   "execution_count": null,
   "metadata": {
    "ExecuteTime": {
     "end_time": "2023-07-18T16:28:19.728316Z",
     "start_time": "2023-07-18T16:28:19.717879Z"
    },
    "collapsed": false
   },
   "outputs": [
    {
     "ename": "KeyError",
     "evalue": "'Prediction'",
     "output_type": "error",
     "traceback": [
      "\u001b[0;31m---------------------------------------------------------------------------\u001b[0m",
      "\u001b[0;31mKeyError\u001b[0m                                  Traceback (most recent call last)",
      "File \u001b[0;32m/opt/homebrew/Caskroom/miniforge/base/envs/cil/lib/python3.11/site-packages/pandas/core/indexes/base.py:3653\u001b[0m, in \u001b[0;36mIndex.get_loc\u001b[0;34m(self, key)\u001b[0m\n\u001b[1;32m   3652\u001b[0m \u001b[38;5;28;01mtry\u001b[39;00m:\n\u001b[0;32m-> 3653\u001b[0m     \u001b[38;5;28;01mreturn\u001b[39;00m \u001b[38;5;28;43mself\u001b[39;49m\u001b[38;5;241;43m.\u001b[39;49m\u001b[43m_engine\u001b[49m\u001b[38;5;241;43m.\u001b[39;49m\u001b[43mget_loc\u001b[49m\u001b[43m(\u001b[49m\u001b[43mcasted_key\u001b[49m\u001b[43m)\u001b[49m\n\u001b[1;32m   3654\u001b[0m \u001b[38;5;28;01mexcept\u001b[39;00m \u001b[38;5;167;01mKeyError\u001b[39;00m \u001b[38;5;28;01mas\u001b[39;00m err:\n",
      "File \u001b[0;32m/opt/homebrew/Caskroom/miniforge/base/envs/cil/lib/python3.11/site-packages/pandas/_libs/index.pyx:147\u001b[0m, in \u001b[0;36mpandas._libs.index.IndexEngine.get_loc\u001b[0;34m()\u001b[0m\n",
      "File \u001b[0;32m/opt/homebrew/Caskroom/miniforge/base/envs/cil/lib/python3.11/site-packages/pandas/_libs/index.pyx:176\u001b[0m, in \u001b[0;36mpandas._libs.index.IndexEngine.get_loc\u001b[0;34m()\u001b[0m\n",
      "File \u001b[0;32mpandas/_libs/hashtable_class_helper.pxi:7080\u001b[0m, in \u001b[0;36mpandas._libs.hashtable.PyObjectHashTable.get_item\u001b[0;34m()\u001b[0m\n",
      "File \u001b[0;32mpandas/_libs/hashtable_class_helper.pxi:7088\u001b[0m, in \u001b[0;36mpandas._libs.hashtable.PyObjectHashTable.get_item\u001b[0;34m()\u001b[0m\n",
      "\u001b[0;31mKeyError\u001b[0m: 'Prediction'",
      "\nThe above exception was the direct cause of the following exception:\n",
      "\u001b[0;31mKeyError\u001b[0m                                  Traceback (most recent call last)",
      "Cell \u001b[0;32mIn[12], line 1\u001b[0m\n\u001b[0;32m----> 1\u001b[0m val_data[\u001b[38;5;124m'\u001b[39m\u001b[38;5;124muser\u001b[39m\u001b[38;5;124m'\u001b[39m][\u001b[38;5;241m0\u001b[39m], val_data[\u001b[38;5;124m'\u001b[39m\u001b[38;5;124mmovie\u001b[39m\u001b[38;5;124m'\u001b[39m][\u001b[38;5;241m0\u001b[39m], val_data[\u001b[38;5;124m'\u001b[39m\u001b[38;5;124mrating\u001b[39m\u001b[38;5;124m'\u001b[39m][\u001b[38;5;241m0\u001b[39m], \u001b[43mval_data\u001b[49m\u001b[43m[\u001b[49m\u001b[38;5;124;43m'\u001b[39;49m\u001b[38;5;124;43mPrediction\u001b[39;49m\u001b[38;5;124;43m'\u001b[39;49m\u001b[43m]\u001b[49m[\u001b[38;5;241m0\u001b[39m]\n",
      "File \u001b[0;32m/opt/homebrew/Caskroom/miniforge/base/envs/cil/lib/python3.11/site-packages/pandas/core/frame.py:3761\u001b[0m, in \u001b[0;36mDataFrame.__getitem__\u001b[0;34m(self, key)\u001b[0m\n\u001b[1;32m   3759\u001b[0m \u001b[38;5;28;01mif\u001b[39;00m \u001b[38;5;28mself\u001b[39m\u001b[38;5;241m.\u001b[39mcolumns\u001b[38;5;241m.\u001b[39mnlevels \u001b[38;5;241m>\u001b[39m \u001b[38;5;241m1\u001b[39m:\n\u001b[1;32m   3760\u001b[0m     \u001b[38;5;28;01mreturn\u001b[39;00m \u001b[38;5;28mself\u001b[39m\u001b[38;5;241m.\u001b[39m_getitem_multilevel(key)\n\u001b[0;32m-> 3761\u001b[0m indexer \u001b[38;5;241m=\u001b[39m \u001b[38;5;28;43mself\u001b[39;49m\u001b[38;5;241;43m.\u001b[39;49m\u001b[43mcolumns\u001b[49m\u001b[38;5;241;43m.\u001b[39;49m\u001b[43mget_loc\u001b[49m\u001b[43m(\u001b[49m\u001b[43mkey\u001b[49m\u001b[43m)\u001b[49m\n\u001b[1;32m   3762\u001b[0m \u001b[38;5;28;01mif\u001b[39;00m is_integer(indexer):\n\u001b[1;32m   3763\u001b[0m     indexer \u001b[38;5;241m=\u001b[39m [indexer]\n",
      "File \u001b[0;32m/opt/homebrew/Caskroom/miniforge/base/envs/cil/lib/python3.11/site-packages/pandas/core/indexes/base.py:3655\u001b[0m, in \u001b[0;36mIndex.get_loc\u001b[0;34m(self, key)\u001b[0m\n\u001b[1;32m   3653\u001b[0m     \u001b[38;5;28;01mreturn\u001b[39;00m \u001b[38;5;28mself\u001b[39m\u001b[38;5;241m.\u001b[39m_engine\u001b[38;5;241m.\u001b[39mget_loc(casted_key)\n\u001b[1;32m   3654\u001b[0m \u001b[38;5;28;01mexcept\u001b[39;00m \u001b[38;5;167;01mKeyError\u001b[39;00m \u001b[38;5;28;01mas\u001b[39;00m err:\n\u001b[0;32m-> 3655\u001b[0m     \u001b[38;5;28;01mraise\u001b[39;00m \u001b[38;5;167;01mKeyError\u001b[39;00m(key) \u001b[38;5;28;01mfrom\u001b[39;00m \u001b[38;5;21;01merr\u001b[39;00m\n\u001b[1;32m   3656\u001b[0m \u001b[38;5;28;01mexcept\u001b[39;00m \u001b[38;5;167;01mTypeError\u001b[39;00m:\n\u001b[1;32m   3657\u001b[0m     \u001b[38;5;66;03m# If we have a listlike key, _check_indexing_error will raise\u001b[39;00m\n\u001b[1;32m   3658\u001b[0m     \u001b[38;5;66;03m#  InvalidIndexError. Otherwise we fall through and re-raise\u001b[39;00m\n\u001b[1;32m   3659\u001b[0m     \u001b[38;5;66;03m#  the TypeError.\u001b[39;00m\n\u001b[1;32m   3660\u001b[0m     \u001b[38;5;28mself\u001b[39m\u001b[38;5;241m.\u001b[39m_check_indexing_error(key)\n",
      "\u001b[0;31mKeyError\u001b[0m: 'Prediction'"
     ]
    }
   ],
   "source": [
    "val_data['user'][0], val_data['movie'][0], val_data['rating'][0], val_data['Prediction'][0]"
   ]
  },
  {
   "cell_type": "code",
   "execution_count": null,
   "metadata": {
    "ExecuteTime": {
     "end_time": "2023-07-18T18:55:21.951237Z",
     "start_time": "2023-07-18T18:55:13.965789Z"
    },
    "collapsed": false
   },
   "outputs": [
    {
     "name": "stdout",
     "output_type": "stream",
     "text": [
      "3.7951400466269263 0.008322847102688925 -0.023780861519833524\n",
      "0.03888429353338309 0.12963034520524044 0.05187523308357968\n"
     ]
    },
    {
     "data": {
      "text/plain": [
       "(3.7796820322097817, 0.13742346209977063)"
      ]
     },
     "execution_count": 13,
     "metadata": {},
     "output_type": "execute_result"
    }
   ],
   "source": [
    "item = 0\n",
    "\n",
    "user_data_item = user_data_test[test_uid_index[item]].toarray().reshape(-1)\n",
    "movie_data_item = movie_data_test[test_mid_index[item]].toarray().reshape(-1)\n",
    "\n",
    "input = np.concatenate((user_data_item, movie_data_item))\n",
    "make_prediction(fm_rb, input)"
   ]
  },
  {
   "cell_type": "markdown",
   "metadata": {
    "collapsed": false
   },
   "source": [
    "# Investigate std of predictions in matrix form"
   ]
  },
  {
   "cell_type": "code",
   "execution_count": null,
   "metadata": {
    "ExecuteTime": {
     "end_time": "2023-07-18T19:07:08.130760Z",
     "start_time": "2023-07-18T19:07:05.379016Z"
    },
    "collapsed": false
   },
   "outputs": [],
   "source": [
    "from scipy.sparse import hstack\n",
    "user_data_items = user_data_test[test_uid_index]\n",
    "movie_data_items = movie_data_test[test_mid_index]\n",
    "input = hstack([user_data_items, movie_data_items])\n",
    "nr_items = 2000 # input.shape[0]\n",
    "input = input[:nr_items]"
   ]
  },
  {
   "cell_type": "code",
   "execution_count": null,
   "metadata": {
    "ExecuteTime": {
     "end_time": "2023-07-18T18:38:47.873400Z",
     "start_time": "2023-07-18T18:38:47.869362Z"
    },
    "collapsed": false
   },
   "outputs": [
    {
     "data": {
      "text/plain": [
       "235391"
      ]
     },
     "execution_count": 49,
     "metadata": {},
     "output_type": "execute_result"
    }
   ],
   "source": [
    "nr_items"
   ]
  },
  {
   "cell_type": "code",
   "execution_count": null,
   "metadata": {
    "ExecuteTime": {
     "end_time": "2023-07-18T19:07:47.175233Z",
     "start_time": "2023-07-18T19:07:11.442123Z"
    },
    "collapsed": false
   },
   "outputs": [
    {
     "name": "stderr",
     "output_type": "stream",
     "text": [
      "100%|██████████| 1/1 [00:35<00:00, 35.73s/it]\n"
     ]
    }
   ],
   "source": [
    "from tqdm import tqdm\n",
    "from scipy import sparse\n",
    "\n",
    "predictions = []\n",
    "for sample in tqdm(range(1)):\n",
    "    w0 = fm_rb.w0_samples[sample] * np.ones(nr_items)\n",
    "    w1 = fm_rb.w_samples[sample] @ input.T\n",
    "\n",
    "    V = fm_rb.V_samples[sample]\n",
    "    dot_product = V @ V.T\n",
    "\n",
    "    # sparse section\n",
    "    dot_product = sparse.triu(dot_product, k=1, format='csr')\n",
    "    w2 = (input @ dot_product).multiply(input)\n",
    "    w2 = w2.sum(axis=1)\n",
    "    w2 = np.array(w2.tolist()).flatten()\n",
    "\n",
    "    prediction = w0 + w1 + w2\n",
    "    predictions.append(prediction)"
   ]
  },
  {
   "cell_type": "code",
   "execution_count": null,
   "metadata": {
    "ExecuteTime": {
     "end_time": "2023-07-18T18:32:40.375668Z",
     "start_time": "2023-07-18T18:32:40.371737Z"
    },
    "collapsed": false
   },
   "outputs": [
    {
     "data": {
      "text/plain": [
       "array([3.63212013, 3.82491669, 3.97428969, 4.132301  , 3.94141752])"
      ]
     },
     "execution_count": 33,
     "metadata": {},
     "output_type": "execute_result"
    }
   ],
   "source": [
    "np.mean(predictions, axis=0)"
   ]
  },
  {
   "cell_type": "code",
   "execution_count": null,
   "metadata": {
    "ExecuteTime": {
     "end_time": "2023-07-18T18:15:23.488022Z",
     "start_time": "2023-07-18T18:15:23.467815Z"
    },
    "collapsed": false
   },
   "outputs": [
    {
     "data": {
      "text/plain": [
       "array([3.56289154, 3.94434783, 4.05418888, 3.86982994, 3.75007395])"
      ]
     },
     "execution_count": 177,
     "metadata": {},
     "output_type": "execute_result"
    }
   ],
   "source": [
    "test_prediction[:5]"
   ]
  }
 ],
 "metadata": {
  "kernelspec": {
   "display_name": "Python 3",
   "language": "python",
   "name": "python3"
  },
  "language_info": {
   "codemirror_mode": {
    "name": "ipython",
    "version": 3
   },
   "file_extension": ".py",
   "mimetype": "text/x-python",
   "name": "python",
   "nbconvert_exporter": "python",
   "pygments_lexer": "ipython3",
   "version": "3.9.7"
  }
 },
 "nbformat": 4,
 "nbformat_minor": 0
}
