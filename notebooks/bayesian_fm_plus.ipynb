{
 "cells": [
  {
   "cell_type": "code",
   "execution_count": 1,
   "metadata": {
    "collapsed": true,
    "ExecuteTime": {
     "start_time": "2023-07-26T15:44:31.048017Z",
     "end_time": "2023-07-26T15:44:31.125402Z"
    }
   },
   "outputs": [],
   "source": [
    "from collections import defaultdict\n",
    "import numpy as np\n",
    "from sklearn.preprocessing import OneHotEncoder\n",
    "from sklearn import metrics\n",
    "import myfm\n",
    "from myfm import RelationBlock\n",
    "from scipy import sparse as sps\n",
    "\n",
    "from sklearn.model_selection import train_test_split\n",
    "import pandas as pd\n",
    "import matplotlib.pyplot as plt\n",
    "import seaborn as sns\n",
    "sns.set_theme(style=\"whitegrid\")\n",
    "\n",
    "def load_cil(dataset=\"split\"):\n",
    "\n",
    "    file = \"data_train\" if dataset != \"test\" else \"sampleSubmission\"\n",
    "    data = pd.read_csv(f'../data/{file}.csv', index_col=0)\n",
    "    data['user'] = data.index.str.split('_').str[0].str[1:].astype('int32')\n",
    "    data['movie'] = data.index.str.split('_').str[1].str[1:].astype('int32')\n",
    "    data.rename(columns={'Prediction': 'rating'}, inplace=True)\n",
    "    data['rating'] = data['rating'].astype('uint8')\n",
    "    data = data[['user', 'movie', 'rating']]\n",
    "\n",
    "    data['user'] = data['user']\n",
    "    data['movie'] = data['movie']\n",
    "    # print(\"Subtracted {} from user and movie\".format(1))\n",
    "\n",
    "    user_num = 10000  # int(data['user'].max() + 1)\n",
    "    movie_num = 1000  # int(data['movie'].max() + 1)\n",
    "    print(\"User num: {}, Movie num: {}\".format(user_num, movie_num))\n",
    "\n",
    "    train_data = val_data = None\n",
    "    if dataset == \"test\":\n",
    "        val_data = data\n",
    "    elif dataset == \"train\":\n",
    "        train_data = data\n",
    "    else:\n",
    "        train_data, val_data = train_test_split(data, test_size=0.2, random_state=42)\n",
    "\n",
    "    return train_data, val_data, user_num, movie_num"
   ]
  },
  {
   "cell_type": "markdown",
   "source": [],
   "metadata": {
    "collapsed": false
   }
  },
  {
   "cell_type": "code",
   "execution_count": 18,
   "outputs": [
    {
     "name": "stdout",
     "output_type": "stream",
     "text": [
      "User num: 10000, Movie num: 1000\n"
     ]
    }
   ],
   "source": [
    "train_data, val_data, user_num, movie_num = load_cil(\"train\")"
   ],
   "metadata": {
    "collapsed": false,
    "ExecuteTime": {
     "start_time": "2023-07-26T15:31:43.596386Z",
     "end_time": "2023-07-26T15:31:46.779977Z"
    }
   }
  },
  {
   "cell_type": "code",
   "execution_count": 19,
   "outputs": [
    {
     "name": "stdout",
     "output_type": "stream",
     "text": [
      "User num: 10000, Movie num: 1000\n"
     ]
    }
   ],
   "source": [
    "_, val_data, user_num, movie_num = load_cil(\"test\")"
   ],
   "metadata": {
    "collapsed": false,
    "ExecuteTime": {
     "start_time": "2023-07-26T15:31:48.547289Z",
     "end_time": "2023-07-26T15:31:51.594330Z"
    }
   }
  },
  {
   "cell_type": "code",
   "execution_count": 20,
   "outputs": [],
   "source": [
    "# index \"0\" is reserved for unknown ids.\n",
    "user_to_index = defaultdict(lambda : 0, { uid: i+1 for i,uid in enumerate(np.unique(train_data.user)) })\n",
    "movie_to_index = defaultdict(lambda: 0, { mid: i+1 for i,mid in enumerate(np.unique(train_data.movie))})\n",
    "USER_ID_SIZE = len(user_to_index) + 1\n",
    "MOVIE_ID_SIZE = len(movie_to_index) + 1"
   ],
   "metadata": {
    "collapsed": false,
    "ExecuteTime": {
     "start_time": "2023-07-26T15:31:52.789213Z",
     "end_time": "2023-07-26T15:31:52.842780Z"
    }
   }
  },
  {
   "cell_type": "code",
   "execution_count": 21,
   "outputs": [],
   "source": [
    "# The flags to control the included features.\n",
    "use_iu = True # use implicit user feature\n",
    "use_ii = True # use implicit item feature\n",
    "\n",
    "movie_vs_watched = dict()\n",
    "user_vs_watched = dict()\n",
    "for row in train_data.itertuples():\n",
    "    user_id = row.user\n",
    "    movie_id = row.movie\n",
    "    movie_vs_watched.setdefault(movie_id, list()).append(user_id)\n",
    "    user_vs_watched.setdefault(user_id, list()).append(movie_id)\n",
    "X_date_train, X_date_test = (None, None)"
   ],
   "metadata": {
    "collapsed": false,
    "ExecuteTime": {
     "start_time": "2023-07-26T15:31:55.597396Z",
     "end_time": "2023-07-26T15:31:56.333593Z"
    }
   }
  },
  {
   "cell_type": "code",
   "execution_count": 22,
   "outputs": [],
   "source": [
    "# given user/movie ids, add additional infos and return it as sparse\n",
    "def augment_user_id(user_ids):\n",
    "    Xs = []\n",
    "    X_uid = sps.lil_matrix((len(user_ids), USER_ID_SIZE))\n",
    "    for index, user_id in enumerate(user_ids):\n",
    "        X_uid[index, user_to_index[user_id]] = 1\n",
    "    Xs.append(X_uid)\n",
    "    if use_iu:\n",
    "        X_iu = sps.lil_matrix((len(user_ids), MOVIE_ID_SIZE))\n",
    "        for index, user_id in enumerate(user_ids):\n",
    "            watched_movies = user_vs_watched.get(user_id, [])\n",
    "            normalizer = 1 / max(len(watched_movies), 1) ** 0.5\n",
    "            for uid in watched_movies:\n",
    "                X_iu[index, movie_to_index[uid]] = normalizer\n",
    "        Xs.append(X_iu)\n",
    "    return sps.hstack(Xs, format='csr')\n",
    "\n",
    "def augment_movie_id(movie_ids):\n",
    "    Xs = []\n",
    "    X_movie = sps.lil_matrix((len(movie_ids), MOVIE_ID_SIZE))\n",
    "    for index, movie_id in enumerate(movie_ids):\n",
    "        X_movie[index, movie_to_index[movie_id]] = 1\n",
    "    Xs.append(X_movie)\n",
    "\n",
    "    if use_ii:\n",
    "        X_ii = sps.lil_matrix((len(movie_ids), USER_ID_SIZE))\n",
    "        for index, movie_id in enumerate(movie_ids):\n",
    "            watched_users = movie_vs_watched.get(movie_id, [])\n",
    "            normalizer = 1 / max(len(watched_users), 1) ** 0.5\n",
    "            for uid in watched_users:\n",
    "                X_ii[index, user_to_index[uid]] = normalizer\n",
    "        Xs.append(X_ii)\n",
    "\n",
    "\n",
    "    return sps.hstack(Xs, format='csr')"
   ],
   "metadata": {
    "collapsed": false,
    "ExecuteTime": {
     "start_time": "2023-07-26T15:31:57.928938Z",
     "end_time": "2023-07-26T15:31:57.933227Z"
    }
   }
  },
  {
   "cell_type": "code",
   "execution_count": 23,
   "outputs": [],
   "source": [
    "train_uid_unique, train_uid_index = np.unique(train_data.user, return_inverse=True)\n",
    "train_mid_unique, train_mid_index = np.unique(train_data.movie, return_inverse=True)\n",
    "user_data_train = augment_user_id(train_uid_unique)\n",
    "movie_data_train = augment_movie_id(train_mid_unique)\n",
    "\n",
    "test_uid_unique, test_uid_index = np.unique(val_data.user, return_inverse=True)\n",
    "test_mid_unique, test_mid_index = np.unique(val_data.movie, return_inverse=True)\n",
    "user_data_test = augment_user_id(test_uid_unique)\n",
    "movie_data_test = augment_movie_id(test_mid_unique)"
   ],
   "metadata": {
    "collapsed": false,
    "ExecuteTime": {
     "start_time": "2023-07-26T15:31:59.275052Z",
     "end_time": "2023-07-26T15:32:07.116174Z"
    }
   }
  },
  {
   "cell_type": "code",
   "execution_count": 24,
   "outputs": [],
   "source": [
    "block_user_train = RelationBlock(train_uid_index, user_data_train)\n",
    "block_movie_train = RelationBlock(train_mid_index, movie_data_train)\n",
    "block_user_test = RelationBlock(test_uid_index, user_data_test)\n",
    "block_movie_test = RelationBlock(test_mid_index, movie_data_test)"
   ],
   "metadata": {
    "collapsed": false,
    "ExecuteTime": {
     "start_time": "2023-07-26T15:32:14.338544Z",
     "end_time": "2023-07-26T15:32:14.346998Z"
    }
   }
  },
  {
   "cell_type": "code",
   "execution_count": 25,
   "outputs": [],
   "source": [
    "y_train = train_data.rating.values\n",
    "y_test = val_data.rating.values"
   ],
   "metadata": {
    "collapsed": false,
    "ExecuteTime": {
     "start_time": "2023-07-26T15:32:15.126345Z",
     "end_time": "2023-07-26T15:32:15.133459Z"
    }
   }
  },
  {
   "cell_type": "code",
   "execution_count": 26,
   "outputs": [],
   "source": [
    "FM_RANK = 11\n",
    "N_ITER = 200 # 512\n",
    "N_KEPT_SAMPLES = 200 # 200"
   ],
   "metadata": {
    "collapsed": false,
    "ExecuteTime": {
     "start_time": "2023-07-26T15:32:16.967122Z",
     "end_time": "2023-07-26T15:32:16.973196Z"
    }
   }
  },
  {
   "cell_type": "code",
   "execution_count": 27,
   "outputs": [
    {
     "name": "stderr",
     "output_type": "stream",
     "text": [
      "alpha = 1.14 w0 = 3.65 : 100%|██████████| 200/200 [01:41<00:00,  1.96it/s]\n"
     ]
    }
   ],
   "source": [
    "fm_rb = myfm.MyFMRegressor(rank=FM_RANK).fit(\n",
    "    X_date_train, y_train,\n",
    "    X_rel=[block_user_train, block_movie_train],\n",
    "    group_shapes=[USER_ID_SIZE, MOVIE_ID_SIZE, MOVIE_ID_SIZE, USER_ID_SIZE],\n",
    "    n_iter=N_ITER, n_kept_samples=N_KEPT_SAMPLES\n",
    ")"
   ],
   "metadata": {
    "collapsed": false,
    "ExecuteTime": {
     "start_time": "2023-07-26T15:32:19.452896Z",
     "end_time": "2023-07-26T15:34:01.409141Z"
    }
   }
  },
  {
   "cell_type": "code",
   "execution_count": 28,
   "outputs": [],
   "source": [
    "test_prediction = fm_rb.predict(\n",
    "    X_date_test,\n",
    "    X_rel=[block_user_test, block_movie_test]\n",
    ")"
   ],
   "metadata": {
    "collapsed": false,
    "ExecuteTime": {
     "start_time": "2023-07-26T15:34:28.136053Z",
     "end_time": "2023-07-26T15:34:28.137211Z"
    }
   }
  },
  {
   "cell_type": "code",
   "execution_count": 29,
   "outputs": [],
   "source": [
    "test_prediction = np.clip(test_prediction, 1, 5)\n",
    "val_data['Prediction'] = test_prediction"
   ],
   "metadata": {
    "collapsed": false,
    "ExecuteTime": {
     "start_time": "2023-07-26T15:34:29.468228Z",
     "end_time": "2023-07-26T15:34:29.477868Z"
    }
   }
  },
  {
   "cell_type": "code",
   "execution_count": 15,
   "outputs": [
    {
     "name": "stdout",
     "output_type": "stream",
     "text": [
      "rmse=0.9729320388455124, mae=0.7754636995955176\n"
     ]
    }
   ],
   "source": [
    "rmse = ((y_test - val_data['Prediction']) ** 2).mean() ** 0.5\n",
    "mae = np.abs(y_test - val_data['Prediction']).mean()\n",
    "print(f'rmse={rmse}, mae={mae}')"
   ],
   "metadata": {
    "collapsed": false,
    "ExecuteTime": {
     "start_time": "2023-07-26T15:30:07.630635Z",
     "end_time": "2023-07-26T15:30:07.639803Z"
    }
   }
  },
  {
   "cell_type": "code",
   "execution_count": null,
   "outputs": [],
   "source": [
    "# 512, 50 ->  rmse=0.9774482247691249\n",
    "# 512, 10 -> rmse=0.975..."
   ],
   "metadata": {
    "collapsed": false
   }
  },
  {
   "cell_type": "code",
   "execution_count": 30,
   "outputs": [],
   "source": [
    "val_data['Prediction'].to_csv(f\"../lightning_logs/BFM/predictions_bfm_plus_plus_grouped_test_finetuned.csv\")"
   ],
   "metadata": {
    "collapsed": false,
    "ExecuteTime": {
     "start_time": "2023-07-26T15:34:31.285690Z",
     "end_time": "2023-07-26T15:34:32.344302Z"
    }
   }
  },
  {
   "cell_type": "markdown",
   "source": [
    "# Hyperparameter tuning"
   ],
   "metadata": {
    "collapsed": false
   }
  },
  {
   "cell_type": "code",
   "execution_count": 11,
   "outputs": [
    {
     "name": "stderr",
     "output_type": "stream",
     "text": [
      "alpha = 1.13 w0 = 3.70 : 100%|██████████| 50/50 [00:20<00:00,  2.39it/s]\n"
     ]
    },
    {
     "name": "stdout",
     "output_type": "stream",
     "text": [
      "rank=11, rmse=0.9745712019021034, mae=0.7785689728041448\n"
     ]
    },
    {
     "name": "stderr",
     "output_type": "stream",
     "text": [
      "alpha = 1.14 w0 = 3.69 : 100%|██████████| 100/100 [00:43<00:00,  2.30it/s]\n"
     ]
    },
    {
     "name": "stdout",
     "output_type": "stream",
     "text": [
      "rank=11, rmse=0.9733672291591694, mae=0.7764277071056533\n"
     ]
    },
    {
     "name": "stderr",
     "output_type": "stream",
     "text": [
      "alpha = 1.14 w0 = 3.66 : 100%|██████████| 200/200 [01:26<00:00,  2.32it/s]\n"
     ]
    },
    {
     "name": "stdout",
     "output_type": "stream",
     "text": [
      "rank=11, rmse=0.9729320388455124, mae=0.7754636995955176\n"
     ]
    },
    {
     "name": "stderr",
     "output_type": "stream",
     "text": [
      "alpha = 1.14 w0 = 3.67 : 100%|██████████| 300/300 [02:06<00:00,  2.37it/s]\n"
     ]
    },
    {
     "name": "stdout",
     "output_type": "stream",
     "text": [
      "rank=11, rmse=0.9732690141780139, mae=0.7750666034431328\n"
     ]
    },
    {
     "ename": "ValueError",
     "evalue": "All arrays must be of the same length",
     "output_type": "error",
     "traceback": [
      "\u001B[0;31m---------------------------------------------------------------------------\u001B[0m",
      "\u001B[0;31mValueError\u001B[0m                                Traceback (most recent call last)",
      "Cell \u001B[0;32mIn[11], line 42\u001B[0m\n\u001B[1;32m     40\u001B[0m \u001B[38;5;66;03m# plot rmse vs fm_rank using seaborn\u001B[39;00m\n\u001B[1;32m     41\u001B[0m sns\u001B[38;5;241m.\u001B[39mset_theme(style\u001B[38;5;241m=\u001B[39m\u001B[38;5;124m\"\u001B[39m\u001B[38;5;124mwhitegrid\u001B[39m\u001B[38;5;124m\"\u001B[39m)\n\u001B[0;32m---> 42\u001B[0m ax \u001B[38;5;241m=\u001B[39m \u001B[43msns\u001B[49m\u001B[38;5;241;43m.\u001B[39;49m\u001B[43mlineplot\u001B[49m\u001B[43m(\u001B[49m\u001B[43mx\u001B[49m\u001B[38;5;241;43m=\u001B[39;49m\u001B[43mfm_rank_list\u001B[49m\u001B[43m,\u001B[49m\u001B[43m \u001B[49m\u001B[43my\u001B[49m\u001B[38;5;241;43m=\u001B[39;49m\u001B[43mrmse_list\u001B[49m\u001B[43m)\u001B[49m\n\u001B[1;32m     43\u001B[0m ax\u001B[38;5;241m.\u001B[39mset(xlabel\u001B[38;5;241m=\u001B[39m\u001B[38;5;124m'\u001B[39m\u001B[38;5;124mfm_rank\u001B[39m\u001B[38;5;124m'\u001B[39m, ylabel\u001B[38;5;241m=\u001B[39m\u001B[38;5;124m'\u001B[39m\u001B[38;5;124mrmse\u001B[39m\u001B[38;5;124m'\u001B[39m)\n\u001B[1;32m     44\u001B[0m plt\u001B[38;5;241m.\u001B[39mshow()\n",
      "File \u001B[0;32m/opt/homebrew/Caskroom/miniforge/base/envs/cil/lib/python3.11/site-packages/seaborn/relational.py:618\u001B[0m, in \u001B[0;36mlineplot\u001B[0;34m(data, x, y, hue, size, style, units, palette, hue_order, hue_norm, sizes, size_order, size_norm, dashes, markers, style_order, estimator, errorbar, n_boot, seed, orient, sort, err_style, err_kws, legend, ci, ax, **kwargs)\u001B[0m\n\u001B[1;32m    615\u001B[0m errorbar \u001B[38;5;241m=\u001B[39m _deprecate_ci(errorbar, ci)\n\u001B[1;32m    617\u001B[0m variables \u001B[38;5;241m=\u001B[39m _LinePlotter\u001B[38;5;241m.\u001B[39mget_semantics(\u001B[38;5;28mlocals\u001B[39m())\n\u001B[0;32m--> 618\u001B[0m p \u001B[38;5;241m=\u001B[39m \u001B[43m_LinePlotter\u001B[49m\u001B[43m(\u001B[49m\n\u001B[1;32m    619\u001B[0m \u001B[43m    \u001B[49m\u001B[43mdata\u001B[49m\u001B[38;5;241;43m=\u001B[39;49m\u001B[43mdata\u001B[49m\u001B[43m,\u001B[49m\u001B[43m \u001B[49m\u001B[43mvariables\u001B[49m\u001B[38;5;241;43m=\u001B[39;49m\u001B[43mvariables\u001B[49m\u001B[43m,\u001B[49m\n\u001B[1;32m    620\u001B[0m \u001B[43m    \u001B[49m\u001B[43mestimator\u001B[49m\u001B[38;5;241;43m=\u001B[39;49m\u001B[43mestimator\u001B[49m\u001B[43m,\u001B[49m\u001B[43m \u001B[49m\u001B[43mn_boot\u001B[49m\u001B[38;5;241;43m=\u001B[39;49m\u001B[43mn_boot\u001B[49m\u001B[43m,\u001B[49m\u001B[43m \u001B[49m\u001B[43mseed\u001B[49m\u001B[38;5;241;43m=\u001B[39;49m\u001B[43mseed\u001B[49m\u001B[43m,\u001B[49m\u001B[43m \u001B[49m\u001B[43merrorbar\u001B[49m\u001B[38;5;241;43m=\u001B[39;49m\u001B[43merrorbar\u001B[49m\u001B[43m,\u001B[49m\n\u001B[1;32m    621\u001B[0m \u001B[43m    \u001B[49m\u001B[43msort\u001B[49m\u001B[38;5;241;43m=\u001B[39;49m\u001B[43msort\u001B[49m\u001B[43m,\u001B[49m\u001B[43m \u001B[49m\u001B[43morient\u001B[49m\u001B[38;5;241;43m=\u001B[39;49m\u001B[43morient\u001B[49m\u001B[43m,\u001B[49m\u001B[43m \u001B[49m\u001B[43merr_style\u001B[49m\u001B[38;5;241;43m=\u001B[39;49m\u001B[43merr_style\u001B[49m\u001B[43m,\u001B[49m\u001B[43m \u001B[49m\u001B[43merr_kws\u001B[49m\u001B[38;5;241;43m=\u001B[39;49m\u001B[43merr_kws\u001B[49m\u001B[43m,\u001B[49m\n\u001B[1;32m    622\u001B[0m \u001B[43m    \u001B[49m\u001B[43mlegend\u001B[49m\u001B[38;5;241;43m=\u001B[39;49m\u001B[43mlegend\u001B[49m\u001B[43m,\u001B[49m\n\u001B[1;32m    623\u001B[0m \u001B[43m\u001B[49m\u001B[43m)\u001B[49m\n\u001B[1;32m    625\u001B[0m p\u001B[38;5;241m.\u001B[39mmap_hue(palette\u001B[38;5;241m=\u001B[39mpalette, order\u001B[38;5;241m=\u001B[39mhue_order, norm\u001B[38;5;241m=\u001B[39mhue_norm)\n\u001B[1;32m    626\u001B[0m p\u001B[38;5;241m.\u001B[39mmap_size(sizes\u001B[38;5;241m=\u001B[39msizes, order\u001B[38;5;241m=\u001B[39msize_order, norm\u001B[38;5;241m=\u001B[39msize_norm)\n",
      "File \u001B[0;32m/opt/homebrew/Caskroom/miniforge/base/envs/cil/lib/python3.11/site-packages/seaborn/relational.py:365\u001B[0m, in \u001B[0;36m_LinePlotter.__init__\u001B[0;34m(self, data, variables, estimator, n_boot, seed, errorbar, sort, orient, err_style, err_kws, legend)\u001B[0m\n\u001B[1;32m    351\u001B[0m \u001B[38;5;28;01mdef\u001B[39;00m \u001B[38;5;21m__init__\u001B[39m(\n\u001B[1;32m    352\u001B[0m     \u001B[38;5;28mself\u001B[39m, \u001B[38;5;241m*\u001B[39m,\n\u001B[1;32m    353\u001B[0m     data\u001B[38;5;241m=\u001B[39m\u001B[38;5;28;01mNone\u001B[39;00m, variables\u001B[38;5;241m=\u001B[39m{},\n\u001B[0;32m   (...)\u001B[0m\n\u001B[1;32m    359\u001B[0m     \u001B[38;5;66;03m# the kind of plot to draw, but for the time being we need to set\u001B[39;00m\n\u001B[1;32m    360\u001B[0m     \u001B[38;5;66;03m# this information so the SizeMapping can use it\u001B[39;00m\n\u001B[1;32m    361\u001B[0m     \u001B[38;5;28mself\u001B[39m\u001B[38;5;241m.\u001B[39m_default_size_range \u001B[38;5;241m=\u001B[39m (\n\u001B[1;32m    362\u001B[0m         np\u001B[38;5;241m.\u001B[39mr_[\u001B[38;5;241m.5\u001B[39m, \u001B[38;5;241m2\u001B[39m] \u001B[38;5;241m*\u001B[39m mpl\u001B[38;5;241m.\u001B[39mrcParams[\u001B[38;5;124m\"\u001B[39m\u001B[38;5;124mlines.linewidth\u001B[39m\u001B[38;5;124m\"\u001B[39m]\n\u001B[1;32m    363\u001B[0m     )\n\u001B[0;32m--> 365\u001B[0m     \u001B[38;5;28;43msuper\u001B[39;49m\u001B[43m(\u001B[49m\u001B[43m)\u001B[49m\u001B[38;5;241;43m.\u001B[39;49m\u001B[38;5;21;43m__init__\u001B[39;49m\u001B[43m(\u001B[49m\u001B[43mdata\u001B[49m\u001B[38;5;241;43m=\u001B[39;49m\u001B[43mdata\u001B[49m\u001B[43m,\u001B[49m\u001B[43m \u001B[49m\u001B[43mvariables\u001B[49m\u001B[38;5;241;43m=\u001B[39;49m\u001B[43mvariables\u001B[49m\u001B[43m)\u001B[49m\n\u001B[1;32m    367\u001B[0m     \u001B[38;5;28mself\u001B[39m\u001B[38;5;241m.\u001B[39mestimator \u001B[38;5;241m=\u001B[39m estimator\n\u001B[1;32m    368\u001B[0m     \u001B[38;5;28mself\u001B[39m\u001B[38;5;241m.\u001B[39merrorbar \u001B[38;5;241m=\u001B[39m errorbar\n",
      "File \u001B[0;32m/opt/homebrew/Caskroom/miniforge/base/envs/cil/lib/python3.11/site-packages/seaborn/_oldcore.py:640\u001B[0m, in \u001B[0;36mVectorPlotter.__init__\u001B[0;34m(self, data, variables)\u001B[0m\n\u001B[1;32m    635\u001B[0m \u001B[38;5;66;03m# var_ordered is relevant only for categorical axis variables, and may\u001B[39;00m\n\u001B[1;32m    636\u001B[0m \u001B[38;5;66;03m# be better handled by an internal axis information object that tracks\u001B[39;00m\n\u001B[1;32m    637\u001B[0m \u001B[38;5;66;03m# such information and is set up by the scale_* methods. The analogous\u001B[39;00m\n\u001B[1;32m    638\u001B[0m \u001B[38;5;66;03m# information for numeric axes would be information about log scales.\u001B[39;00m\n\u001B[1;32m    639\u001B[0m \u001B[38;5;28mself\u001B[39m\u001B[38;5;241m.\u001B[39m_var_ordered \u001B[38;5;241m=\u001B[39m {\u001B[38;5;124m\"\u001B[39m\u001B[38;5;124mx\u001B[39m\u001B[38;5;124m\"\u001B[39m: \u001B[38;5;28;01mFalse\u001B[39;00m, \u001B[38;5;124m\"\u001B[39m\u001B[38;5;124my\u001B[39m\u001B[38;5;124m\"\u001B[39m: \u001B[38;5;28;01mFalse\u001B[39;00m}  \u001B[38;5;66;03m# alt., used DefaultDict\u001B[39;00m\n\u001B[0;32m--> 640\u001B[0m \u001B[38;5;28;43mself\u001B[39;49m\u001B[38;5;241;43m.\u001B[39;49m\u001B[43massign_variables\u001B[49m\u001B[43m(\u001B[49m\u001B[43mdata\u001B[49m\u001B[43m,\u001B[49m\u001B[43m \u001B[49m\u001B[43mvariables\u001B[49m\u001B[43m)\u001B[49m\n\u001B[1;32m    642\u001B[0m \u001B[38;5;28;01mfor\u001B[39;00m var, \u001B[38;5;28mcls\u001B[39m \u001B[38;5;129;01min\u001B[39;00m \u001B[38;5;28mself\u001B[39m\u001B[38;5;241m.\u001B[39m_semantic_mappings\u001B[38;5;241m.\u001B[39mitems():\n\u001B[1;32m    643\u001B[0m \n\u001B[1;32m    644\u001B[0m     \u001B[38;5;66;03m# Create the mapping function\u001B[39;00m\n\u001B[1;32m    645\u001B[0m     map_func \u001B[38;5;241m=\u001B[39m partial(\u001B[38;5;28mcls\u001B[39m\u001B[38;5;241m.\u001B[39mmap, plotter\u001B[38;5;241m=\u001B[39m\u001B[38;5;28mself\u001B[39m)\n",
      "File \u001B[0;32m/opt/homebrew/Caskroom/miniforge/base/envs/cil/lib/python3.11/site-packages/seaborn/_oldcore.py:701\u001B[0m, in \u001B[0;36mVectorPlotter.assign_variables\u001B[0;34m(self, data, variables)\u001B[0m\n\u001B[1;32m    699\u001B[0m \u001B[38;5;28;01melse\u001B[39;00m:\n\u001B[1;32m    700\u001B[0m     \u001B[38;5;28mself\u001B[39m\u001B[38;5;241m.\u001B[39minput_format \u001B[38;5;241m=\u001B[39m \u001B[38;5;124m\"\u001B[39m\u001B[38;5;124mlong\u001B[39m\u001B[38;5;124m\"\u001B[39m\n\u001B[0;32m--> 701\u001B[0m     plot_data, variables \u001B[38;5;241m=\u001B[39m \u001B[38;5;28;43mself\u001B[39;49m\u001B[38;5;241;43m.\u001B[39;49m\u001B[43m_assign_variables_longform\u001B[49m\u001B[43m(\u001B[49m\n\u001B[1;32m    702\u001B[0m \u001B[43m        \u001B[49m\u001B[43mdata\u001B[49m\u001B[43m,\u001B[49m\u001B[43m \u001B[49m\u001B[38;5;241;43m*\u001B[39;49m\u001B[38;5;241;43m*\u001B[39;49m\u001B[43mvariables\u001B[49m\u001B[43m,\u001B[49m\n\u001B[1;32m    703\u001B[0m \u001B[43m    \u001B[49m\u001B[43m)\u001B[49m\n\u001B[1;32m    705\u001B[0m \u001B[38;5;28mself\u001B[39m\u001B[38;5;241m.\u001B[39mplot_data \u001B[38;5;241m=\u001B[39m plot_data\n\u001B[1;32m    706\u001B[0m \u001B[38;5;28mself\u001B[39m\u001B[38;5;241m.\u001B[39mvariables \u001B[38;5;241m=\u001B[39m variables\n",
      "File \u001B[0;32m/opt/homebrew/Caskroom/miniforge/base/envs/cil/lib/python3.11/site-packages/seaborn/_oldcore.py:962\u001B[0m, in \u001B[0;36mVectorPlotter._assign_variables_longform\u001B[0;34m(self, data, **kwargs)\u001B[0m\n\u001B[1;32m    958\u001B[0m         variables[key] \u001B[38;5;241m=\u001B[39m \u001B[38;5;28mgetattr\u001B[39m(val, \u001B[38;5;124m\"\u001B[39m\u001B[38;5;124mname\u001B[39m\u001B[38;5;124m\"\u001B[39m, \u001B[38;5;28;01mNone\u001B[39;00m)\n\u001B[1;32m    960\u001B[0m \u001B[38;5;66;03m# Construct a tidy plot DataFrame. This will convert a number of\u001B[39;00m\n\u001B[1;32m    961\u001B[0m \u001B[38;5;66;03m# types automatically, aligning on index in case of pandas objects\u001B[39;00m\n\u001B[0;32m--> 962\u001B[0m plot_data \u001B[38;5;241m=\u001B[39m \u001B[43mpd\u001B[49m\u001B[38;5;241;43m.\u001B[39;49m\u001B[43mDataFrame\u001B[49m\u001B[43m(\u001B[49m\u001B[43mplot_data\u001B[49m\u001B[43m)\u001B[49m\n\u001B[1;32m    964\u001B[0m \u001B[38;5;66;03m# Reduce the variables dictionary to fields with valid data\u001B[39;00m\n\u001B[1;32m    965\u001B[0m variables \u001B[38;5;241m=\u001B[39m {\n\u001B[1;32m    966\u001B[0m     var: name\n\u001B[1;32m    967\u001B[0m     \u001B[38;5;28;01mfor\u001B[39;00m var, name \u001B[38;5;129;01min\u001B[39;00m variables\u001B[38;5;241m.\u001B[39mitems()\n\u001B[1;32m    968\u001B[0m     \u001B[38;5;28;01mif\u001B[39;00m plot_data[var]\u001B[38;5;241m.\u001B[39mnotnull()\u001B[38;5;241m.\u001B[39many()\n\u001B[1;32m    969\u001B[0m }\n",
      "File \u001B[0;32m/opt/homebrew/Caskroom/miniforge/base/envs/cil/lib/python3.11/site-packages/pandas/core/frame.py:709\u001B[0m, in \u001B[0;36mDataFrame.__init__\u001B[0;34m(self, data, index, columns, dtype, copy)\u001B[0m\n\u001B[1;32m    703\u001B[0m     mgr \u001B[38;5;241m=\u001B[39m \u001B[38;5;28mself\u001B[39m\u001B[38;5;241m.\u001B[39m_init_mgr(\n\u001B[1;32m    704\u001B[0m         data, axes\u001B[38;5;241m=\u001B[39m{\u001B[38;5;124m\"\u001B[39m\u001B[38;5;124mindex\u001B[39m\u001B[38;5;124m\"\u001B[39m: index, \u001B[38;5;124m\"\u001B[39m\u001B[38;5;124mcolumns\u001B[39m\u001B[38;5;124m\"\u001B[39m: columns}, dtype\u001B[38;5;241m=\u001B[39mdtype, copy\u001B[38;5;241m=\u001B[39mcopy\n\u001B[1;32m    705\u001B[0m     )\n\u001B[1;32m    707\u001B[0m \u001B[38;5;28;01melif\u001B[39;00m \u001B[38;5;28misinstance\u001B[39m(data, \u001B[38;5;28mdict\u001B[39m):\n\u001B[1;32m    708\u001B[0m     \u001B[38;5;66;03m# GH#38939 de facto copy defaults to False only in non-dict cases\u001B[39;00m\n\u001B[0;32m--> 709\u001B[0m     mgr \u001B[38;5;241m=\u001B[39m \u001B[43mdict_to_mgr\u001B[49m\u001B[43m(\u001B[49m\u001B[43mdata\u001B[49m\u001B[43m,\u001B[49m\u001B[43m \u001B[49m\u001B[43mindex\u001B[49m\u001B[43m,\u001B[49m\u001B[43m \u001B[49m\u001B[43mcolumns\u001B[49m\u001B[43m,\u001B[49m\u001B[43m \u001B[49m\u001B[43mdtype\u001B[49m\u001B[38;5;241;43m=\u001B[39;49m\u001B[43mdtype\u001B[49m\u001B[43m,\u001B[49m\u001B[43m \u001B[49m\u001B[43mcopy\u001B[49m\u001B[38;5;241;43m=\u001B[39;49m\u001B[43mcopy\u001B[49m\u001B[43m,\u001B[49m\u001B[43m \u001B[49m\u001B[43mtyp\u001B[49m\u001B[38;5;241;43m=\u001B[39;49m\u001B[43mmanager\u001B[49m\u001B[43m)\u001B[49m\n\u001B[1;32m    710\u001B[0m \u001B[38;5;28;01melif\u001B[39;00m \u001B[38;5;28misinstance\u001B[39m(data, ma\u001B[38;5;241m.\u001B[39mMaskedArray):\n\u001B[1;32m    711\u001B[0m     \u001B[38;5;28;01mfrom\u001B[39;00m \u001B[38;5;21;01mnumpy\u001B[39;00m\u001B[38;5;21;01m.\u001B[39;00m\u001B[38;5;21;01mma\u001B[39;00m \u001B[38;5;28;01mimport\u001B[39;00m mrecords\n",
      "File \u001B[0;32m/opt/homebrew/Caskroom/miniforge/base/envs/cil/lib/python3.11/site-packages/pandas/core/internals/construction.py:481\u001B[0m, in \u001B[0;36mdict_to_mgr\u001B[0;34m(data, index, columns, dtype, typ, copy)\u001B[0m\n\u001B[1;32m    477\u001B[0m     \u001B[38;5;28;01melse\u001B[39;00m:\n\u001B[1;32m    478\u001B[0m         \u001B[38;5;66;03m# dtype check to exclude e.g. range objects, scalars\u001B[39;00m\n\u001B[1;32m    479\u001B[0m         arrays \u001B[38;5;241m=\u001B[39m [x\u001B[38;5;241m.\u001B[39mcopy() \u001B[38;5;28;01mif\u001B[39;00m \u001B[38;5;28mhasattr\u001B[39m(x, \u001B[38;5;124m\"\u001B[39m\u001B[38;5;124mdtype\u001B[39m\u001B[38;5;124m\"\u001B[39m) \u001B[38;5;28;01melse\u001B[39;00m x \u001B[38;5;28;01mfor\u001B[39;00m x \u001B[38;5;129;01min\u001B[39;00m arrays]\n\u001B[0;32m--> 481\u001B[0m \u001B[38;5;28;01mreturn\u001B[39;00m \u001B[43marrays_to_mgr\u001B[49m\u001B[43m(\u001B[49m\u001B[43marrays\u001B[49m\u001B[43m,\u001B[49m\u001B[43m \u001B[49m\u001B[43mcolumns\u001B[49m\u001B[43m,\u001B[49m\u001B[43m \u001B[49m\u001B[43mindex\u001B[49m\u001B[43m,\u001B[49m\u001B[43m \u001B[49m\u001B[43mdtype\u001B[49m\u001B[38;5;241;43m=\u001B[39;49m\u001B[43mdtype\u001B[49m\u001B[43m,\u001B[49m\u001B[43m \u001B[49m\u001B[43mtyp\u001B[49m\u001B[38;5;241;43m=\u001B[39;49m\u001B[43mtyp\u001B[49m\u001B[43m,\u001B[49m\u001B[43m \u001B[49m\u001B[43mconsolidate\u001B[49m\u001B[38;5;241;43m=\u001B[39;49m\u001B[43mcopy\u001B[49m\u001B[43m)\u001B[49m\n",
      "File \u001B[0;32m/opt/homebrew/Caskroom/miniforge/base/envs/cil/lib/python3.11/site-packages/pandas/core/internals/construction.py:115\u001B[0m, in \u001B[0;36marrays_to_mgr\u001B[0;34m(arrays, columns, index, dtype, verify_integrity, typ, consolidate)\u001B[0m\n\u001B[1;32m    112\u001B[0m \u001B[38;5;28;01mif\u001B[39;00m verify_integrity:\n\u001B[1;32m    113\u001B[0m     \u001B[38;5;66;03m# figure out the index, if necessary\u001B[39;00m\n\u001B[1;32m    114\u001B[0m     \u001B[38;5;28;01mif\u001B[39;00m index \u001B[38;5;129;01mis\u001B[39;00m \u001B[38;5;28;01mNone\u001B[39;00m:\n\u001B[0;32m--> 115\u001B[0m         index \u001B[38;5;241m=\u001B[39m \u001B[43m_extract_index\u001B[49m\u001B[43m(\u001B[49m\u001B[43marrays\u001B[49m\u001B[43m)\u001B[49m\n\u001B[1;32m    116\u001B[0m     \u001B[38;5;28;01melse\u001B[39;00m:\n\u001B[1;32m    117\u001B[0m         index \u001B[38;5;241m=\u001B[39m ensure_index(index)\n",
      "File \u001B[0;32m/opt/homebrew/Caskroom/miniforge/base/envs/cil/lib/python3.11/site-packages/pandas/core/internals/construction.py:655\u001B[0m, in \u001B[0;36m_extract_index\u001B[0;34m(data)\u001B[0m\n\u001B[1;32m    653\u001B[0m lengths \u001B[38;5;241m=\u001B[39m \u001B[38;5;28mlist\u001B[39m(\u001B[38;5;28mset\u001B[39m(raw_lengths))\n\u001B[1;32m    654\u001B[0m \u001B[38;5;28;01mif\u001B[39;00m \u001B[38;5;28mlen\u001B[39m(lengths) \u001B[38;5;241m>\u001B[39m \u001B[38;5;241m1\u001B[39m:\n\u001B[0;32m--> 655\u001B[0m     \u001B[38;5;28;01mraise\u001B[39;00m \u001B[38;5;167;01mValueError\u001B[39;00m(\u001B[38;5;124m\"\u001B[39m\u001B[38;5;124mAll arrays must be of the same length\u001B[39m\u001B[38;5;124m\"\u001B[39m)\n\u001B[1;32m    657\u001B[0m \u001B[38;5;28;01mif\u001B[39;00m have_dicts:\n\u001B[1;32m    658\u001B[0m     \u001B[38;5;28;01mraise\u001B[39;00m \u001B[38;5;167;01mValueError\u001B[39;00m(\n\u001B[1;32m    659\u001B[0m         \u001B[38;5;124m\"\u001B[39m\u001B[38;5;124mMixing dicts with non-Series may lead to ambiguous ordering.\u001B[39m\u001B[38;5;124m\"\u001B[39m\n\u001B[1;32m    660\u001B[0m     )\n",
      "\u001B[0;31mValueError\u001B[0m: All arrays must be of the same length"
     ]
    }
   ],
   "source": [
    "N_ITER = 200\n",
    "N_KEPT_SAMPLES = 200\n",
    "FM_RANK = 11\n",
    "\n",
    "fm_rank_list = [11]\n",
    "n_iter_list = [50, 100, 200, 300]\n",
    "rmse_list = []\n",
    "\n",
    "best_fm_rank = None\n",
    "best_rmse = 100\n",
    "best_mae = 100\n",
    "best_model = None\n",
    "\n",
    "for N_ITER in n_iter_list:\n",
    "    N_KEPT_SAMPLES = min(200, N_ITER)\n",
    "    fm_rb = myfm.MyFMRegressor(rank=FM_RANK).fit(\n",
    "        X_date_train, y_train,\n",
    "        X_rel=[block_user_train, block_movie_train],\n",
    "        group_shapes=[USER_ID_SIZE, MOVIE_ID_SIZE, MOVIE_ID_SIZE, USER_ID_SIZE],\n",
    "        n_iter=N_ITER, n_kept_samples=N_KEPT_SAMPLES\n",
    "    )\n",
    "    test_prediction = fm_rb.predict(\n",
    "        X_date_test,\n",
    "        X_rel=[block_user_test, block_movie_test]\n",
    "    )\n",
    "    test_prediction[test_prediction > 5] = 5\n",
    "    test_prediction[test_prediction < 1] = 1\n",
    "    rmse = ((y_test - test_prediction) ** 2).mean() ** 0.5\n",
    "    mae = np.abs(y_test - test_prediction).mean()\n",
    "    print(f'rank={FM_RANK}, rmse={rmse}, mae={mae}')\n",
    "    rmse_list.append(rmse)\n",
    "    if rmse < best_rmse:\n",
    "        best_rmse = rmse\n",
    "        best_mae = mae\n",
    "        best_fm_rank = FM_RANK\n",
    "        best_model = fm_rb\n",
    "        val_data['Prediction'] = test_prediction\n",
    "        val_data['Prediction'].to_csv(f\"../lightning_logs/BFM/predictions_bfm_plus_plus_grouped_tuned.csv\")\n",
    "\n",
    "# plot rmse vs fm_rank using seaborn\n",
    "sns.set_theme(style=\"whitegrid\")\n",
    "ax = sns.lineplot(x=fm_rank_list, y=rmse_list)\n",
    "ax.set(xlabel='fm_rank', ylabel='rmse')\n",
    "plt.show()"
   ],
   "metadata": {
    "collapsed": false,
    "ExecuteTime": {
     "start_time": "2023-07-26T15:01:56.480594Z",
     "end_time": "2023-07-26T15:13:45.254871Z"
    }
   }
  },
  {
   "cell_type": "markdown",
   "source": [
    "# Investigate std of predictions"
   ],
   "metadata": {
    "collapsed": false
   }
  },
  {
   "cell_type": "code",
   "execution_count": 11,
   "outputs": [],
   "source": [
    "# get all predictions\n",
    "# w0_samples is of shape (200,)\n",
    "# w_samples is of shape (200, 22004)\n",
    "# V_samples is of shape (200, 22004, 10)\n",
    "\n",
    "# get single prediction\n",
    "def make_prediction(fm_rb, input):\n",
    "\n",
    "    w0 = fm_rb.w0_samples\n",
    "    w1 = np.sum(fm_rb.w_samples * input, axis=1)\n",
    "\n",
    "    w2 = np.zeros_like(w0)\n",
    "    nonzero_indices = input.nonzero()[0]\n",
    "    nonzero_values = input[nonzero_indices]\n",
    "    v_relevant = fm_rb.V_samples[:,nonzero_indices]\n",
    "    for p in range(v_relevant.shape[1] - 1):\n",
    "        for q in range(p+1, v_relevant.shape[1]):\n",
    "            w2 += np.sum(v_relevant[:,p] * v_relevant[:,q], axis=1) * nonzero_values[p] * nonzero_values[q]\n",
    "\n",
    "    print(np.mean(w0), np.mean(w1), np.mean(w2))\n",
    "    print(np.std(w0), np.std(w1), np.std(w2))\n",
    "\n",
    "    predictions = w0 + w1 + w2\n",
    "\n",
    "    prediction = np.mean(predictions)\n",
    "    std = np.std(predictions)\n",
    "    return prediction, std"
   ],
   "metadata": {
    "collapsed": false,
    "ExecuteTime": {
     "start_time": "2023-07-18T18:55:08.398498Z",
     "end_time": "2023-07-18T18:55:08.400932Z"
    }
   }
  },
  {
   "cell_type": "code",
   "execution_count": 12,
   "outputs": [
    {
     "ename": "KeyError",
     "evalue": "'Prediction'",
     "output_type": "error",
     "traceback": [
      "\u001B[0;31m---------------------------------------------------------------------------\u001B[0m",
      "\u001B[0;31mKeyError\u001B[0m                                  Traceback (most recent call last)",
      "File \u001B[0;32m/opt/homebrew/Caskroom/miniforge/base/envs/cil/lib/python3.11/site-packages/pandas/core/indexes/base.py:3653\u001B[0m, in \u001B[0;36mIndex.get_loc\u001B[0;34m(self, key)\u001B[0m\n\u001B[1;32m   3652\u001B[0m \u001B[38;5;28;01mtry\u001B[39;00m:\n\u001B[0;32m-> 3653\u001B[0m     \u001B[38;5;28;01mreturn\u001B[39;00m \u001B[38;5;28;43mself\u001B[39;49m\u001B[38;5;241;43m.\u001B[39;49m\u001B[43m_engine\u001B[49m\u001B[38;5;241;43m.\u001B[39;49m\u001B[43mget_loc\u001B[49m\u001B[43m(\u001B[49m\u001B[43mcasted_key\u001B[49m\u001B[43m)\u001B[49m\n\u001B[1;32m   3654\u001B[0m \u001B[38;5;28;01mexcept\u001B[39;00m \u001B[38;5;167;01mKeyError\u001B[39;00m \u001B[38;5;28;01mas\u001B[39;00m err:\n",
      "File \u001B[0;32m/opt/homebrew/Caskroom/miniforge/base/envs/cil/lib/python3.11/site-packages/pandas/_libs/index.pyx:147\u001B[0m, in \u001B[0;36mpandas._libs.index.IndexEngine.get_loc\u001B[0;34m()\u001B[0m\n",
      "File \u001B[0;32m/opt/homebrew/Caskroom/miniforge/base/envs/cil/lib/python3.11/site-packages/pandas/_libs/index.pyx:176\u001B[0m, in \u001B[0;36mpandas._libs.index.IndexEngine.get_loc\u001B[0;34m()\u001B[0m\n",
      "File \u001B[0;32mpandas/_libs/hashtable_class_helper.pxi:7080\u001B[0m, in \u001B[0;36mpandas._libs.hashtable.PyObjectHashTable.get_item\u001B[0;34m()\u001B[0m\n",
      "File \u001B[0;32mpandas/_libs/hashtable_class_helper.pxi:7088\u001B[0m, in \u001B[0;36mpandas._libs.hashtable.PyObjectHashTable.get_item\u001B[0;34m()\u001B[0m\n",
      "\u001B[0;31mKeyError\u001B[0m: 'Prediction'",
      "\nThe above exception was the direct cause of the following exception:\n",
      "\u001B[0;31mKeyError\u001B[0m                                  Traceback (most recent call last)",
      "Cell \u001B[0;32mIn[12], line 1\u001B[0m\n\u001B[0;32m----> 1\u001B[0m val_data[\u001B[38;5;124m'\u001B[39m\u001B[38;5;124muser\u001B[39m\u001B[38;5;124m'\u001B[39m][\u001B[38;5;241m0\u001B[39m], val_data[\u001B[38;5;124m'\u001B[39m\u001B[38;5;124mmovie\u001B[39m\u001B[38;5;124m'\u001B[39m][\u001B[38;5;241m0\u001B[39m], val_data[\u001B[38;5;124m'\u001B[39m\u001B[38;5;124mrating\u001B[39m\u001B[38;5;124m'\u001B[39m][\u001B[38;5;241m0\u001B[39m], \u001B[43mval_data\u001B[49m\u001B[43m[\u001B[49m\u001B[38;5;124;43m'\u001B[39;49m\u001B[38;5;124;43mPrediction\u001B[39;49m\u001B[38;5;124;43m'\u001B[39;49m\u001B[43m]\u001B[49m[\u001B[38;5;241m0\u001B[39m]\n",
      "File \u001B[0;32m/opt/homebrew/Caskroom/miniforge/base/envs/cil/lib/python3.11/site-packages/pandas/core/frame.py:3761\u001B[0m, in \u001B[0;36mDataFrame.__getitem__\u001B[0;34m(self, key)\u001B[0m\n\u001B[1;32m   3759\u001B[0m \u001B[38;5;28;01mif\u001B[39;00m \u001B[38;5;28mself\u001B[39m\u001B[38;5;241m.\u001B[39mcolumns\u001B[38;5;241m.\u001B[39mnlevels \u001B[38;5;241m>\u001B[39m \u001B[38;5;241m1\u001B[39m:\n\u001B[1;32m   3760\u001B[0m     \u001B[38;5;28;01mreturn\u001B[39;00m \u001B[38;5;28mself\u001B[39m\u001B[38;5;241m.\u001B[39m_getitem_multilevel(key)\n\u001B[0;32m-> 3761\u001B[0m indexer \u001B[38;5;241m=\u001B[39m \u001B[38;5;28;43mself\u001B[39;49m\u001B[38;5;241;43m.\u001B[39;49m\u001B[43mcolumns\u001B[49m\u001B[38;5;241;43m.\u001B[39;49m\u001B[43mget_loc\u001B[49m\u001B[43m(\u001B[49m\u001B[43mkey\u001B[49m\u001B[43m)\u001B[49m\n\u001B[1;32m   3762\u001B[0m \u001B[38;5;28;01mif\u001B[39;00m is_integer(indexer):\n\u001B[1;32m   3763\u001B[0m     indexer \u001B[38;5;241m=\u001B[39m [indexer]\n",
      "File \u001B[0;32m/opt/homebrew/Caskroom/miniforge/base/envs/cil/lib/python3.11/site-packages/pandas/core/indexes/base.py:3655\u001B[0m, in \u001B[0;36mIndex.get_loc\u001B[0;34m(self, key)\u001B[0m\n\u001B[1;32m   3653\u001B[0m     \u001B[38;5;28;01mreturn\u001B[39;00m \u001B[38;5;28mself\u001B[39m\u001B[38;5;241m.\u001B[39m_engine\u001B[38;5;241m.\u001B[39mget_loc(casted_key)\n\u001B[1;32m   3654\u001B[0m \u001B[38;5;28;01mexcept\u001B[39;00m \u001B[38;5;167;01mKeyError\u001B[39;00m \u001B[38;5;28;01mas\u001B[39;00m err:\n\u001B[0;32m-> 3655\u001B[0m     \u001B[38;5;28;01mraise\u001B[39;00m \u001B[38;5;167;01mKeyError\u001B[39;00m(key) \u001B[38;5;28;01mfrom\u001B[39;00m \u001B[38;5;21;01merr\u001B[39;00m\n\u001B[1;32m   3656\u001B[0m \u001B[38;5;28;01mexcept\u001B[39;00m \u001B[38;5;167;01mTypeError\u001B[39;00m:\n\u001B[1;32m   3657\u001B[0m     \u001B[38;5;66;03m# If we have a listlike key, _check_indexing_error will raise\u001B[39;00m\n\u001B[1;32m   3658\u001B[0m     \u001B[38;5;66;03m#  InvalidIndexError. Otherwise we fall through and re-raise\u001B[39;00m\n\u001B[1;32m   3659\u001B[0m     \u001B[38;5;66;03m#  the TypeError.\u001B[39;00m\n\u001B[1;32m   3660\u001B[0m     \u001B[38;5;28mself\u001B[39m\u001B[38;5;241m.\u001B[39m_check_indexing_error(key)\n",
      "\u001B[0;31mKeyError\u001B[0m: 'Prediction'"
     ]
    }
   ],
   "source": [
    "val_data['user'][0], val_data['movie'][0], val_data['rating'][0], val_data['Prediction'][0]"
   ],
   "metadata": {
    "collapsed": false,
    "ExecuteTime": {
     "start_time": "2023-07-18T16:28:19.717879Z",
     "end_time": "2023-07-18T16:28:19.728316Z"
    }
   }
  },
  {
   "cell_type": "code",
   "execution_count": 13,
   "outputs": [
    {
     "name": "stdout",
     "output_type": "stream",
     "text": [
      "3.7951400466269263 0.008322847102688925 -0.023780861519833524\n",
      "0.03888429353338309 0.12963034520524044 0.05187523308357968\n"
     ]
    },
    {
     "data": {
      "text/plain": "(3.7796820322097817, 0.13742346209977063)"
     },
     "execution_count": 13,
     "metadata": {},
     "output_type": "execute_result"
    }
   ],
   "source": [
    "item = 0\n",
    "\n",
    "user_data_item = user_data_test[test_uid_index[item]].toarray().reshape(-1)\n",
    "movie_data_item = movie_data_test[test_mid_index[item]].toarray().reshape(-1)\n",
    "\n",
    "input = np.concatenate((user_data_item, movie_data_item))\n",
    "make_prediction(fm_rb, input)"
   ],
   "metadata": {
    "collapsed": false,
    "ExecuteTime": {
     "start_time": "2023-07-18T18:55:13.965789Z",
     "end_time": "2023-07-18T18:55:21.951237Z"
    }
   }
  },
  {
   "cell_type": "markdown",
   "source": [
    "# Investigate std of predictions in matrix form"
   ],
   "metadata": {
    "collapsed": false
   }
  },
  {
   "cell_type": "code",
   "execution_count": 32,
   "outputs": [],
   "source": [
    "from scipy.sparse import hstack\n",
    "user_data_items = user_data_test[test_uid_index]\n",
    "movie_data_items = movie_data_test[test_mid_index]\n",
    "input = hstack([user_data_items, movie_data_items])\n",
    "nr_items = 2000 # input.shape[0]\n",
    "input = input[:nr_items]"
   ],
   "metadata": {
    "collapsed": false,
    "ExecuteTime": {
     "start_time": "2023-07-18T19:07:05.379016Z",
     "end_time": "2023-07-18T19:07:08.130760Z"
    }
   }
  },
  {
   "cell_type": "code",
   "execution_count": 49,
   "outputs": [
    {
     "data": {
      "text/plain": "235391"
     },
     "execution_count": 49,
     "metadata": {},
     "output_type": "execute_result"
    }
   ],
   "source": [
    "nr_items"
   ],
   "metadata": {
    "collapsed": false,
    "ExecuteTime": {
     "start_time": "2023-07-18T18:38:47.869362Z",
     "end_time": "2023-07-18T18:38:47.873400Z"
    }
   }
  },
  {
   "cell_type": "code",
   "execution_count": 33,
   "outputs": [
    {
     "name": "stderr",
     "output_type": "stream",
     "text": [
      "100%|██████████| 1/1 [00:35<00:00, 35.73s/it]\n"
     ]
    }
   ],
   "source": [
    "from tqdm import tqdm\n",
    "from scipy import sparse\n",
    "\n",
    "predictions = []\n",
    "for sample in tqdm(range(1)):\n",
    "    w0 = fm_rb.w0_samples[sample] * np.ones(nr_items)\n",
    "    w1 = fm_rb.w_samples[sample] @ input.T\n",
    "\n",
    "    V = fm_rb.V_samples[sample]\n",
    "    dot_product = V @ V.T\n",
    "\n",
    "    # sparse section\n",
    "    dot_product = sparse.triu(dot_product, k=1, format='csr')\n",
    "    w2 = (input @ dot_product).multiply(input)\n",
    "    w2 = w2.sum(axis=1)\n",
    "    w2 = np.array(w2.tolist()).flatten()\n",
    "\n",
    "    prediction = w0 + w1 + w2\n",
    "    predictions.append(prediction)"
   ],
   "metadata": {
    "collapsed": false,
    "ExecuteTime": {
     "start_time": "2023-07-18T19:07:11.442123Z",
     "end_time": "2023-07-18T19:07:47.175233Z"
    }
   }
  },
  {
   "cell_type": "code",
   "execution_count": 33,
   "outputs": [
    {
     "data": {
      "text/plain": "array([3.63212013, 3.82491669, 3.97428969, 4.132301  , 3.94141752])"
     },
     "execution_count": 33,
     "metadata": {},
     "output_type": "execute_result"
    }
   ],
   "source": [
    "np.mean(predictions, axis=0)"
   ],
   "metadata": {
    "collapsed": false,
    "ExecuteTime": {
     "start_time": "2023-07-18T18:32:40.371737Z",
     "end_time": "2023-07-18T18:32:40.375668Z"
    }
   }
  },
  {
   "cell_type": "code",
   "execution_count": 177,
   "outputs": [
    {
     "data": {
      "text/plain": "array([3.56289154, 3.94434783, 4.05418888, 3.86982994, 3.75007395])"
     },
     "execution_count": 177,
     "metadata": {},
     "output_type": "execute_result"
    }
   ],
   "source": [
    "test_prediction[:5]"
   ],
   "metadata": {
    "collapsed": false,
    "ExecuteTime": {
     "start_time": "2023-07-18T18:15:23.467815Z",
     "end_time": "2023-07-18T18:15:23.488022Z"
    }
   }
  }
 ],
 "metadata": {
  "kernelspec": {
   "display_name": "Python 3",
   "language": "python",
   "name": "python3"
  },
  "language_info": {
   "codemirror_mode": {
    "name": "ipython",
    "version": 2
   },
   "file_extension": ".py",
   "mimetype": "text/x-python",
   "name": "python",
   "nbconvert_exporter": "python",
   "pygments_lexer": "ipython2",
   "version": "2.7.6"
  }
 },
 "nbformat": 4,
 "nbformat_minor": 0
}
