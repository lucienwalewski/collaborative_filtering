{
 "cells": [
  {
   "cell_type": "code",
   "execution_count": 11,
   "metadata": {
    "ExecuteTime": {
     "end_time": "2023-07-26T15:37:44.938309Z",
     "start_time": "2023-07-26T15:37:44.869244Z"
    },
    "collapsed": false
   },
   "outputs": [],
   "source": [
    "import pandas as pd\n",
    "import numpy as np\n",
    "from sklearn.model_selection import train_test_split\n",
    "from typing import Tuple"
   ]
  },
  {
   "cell_type": "code",
   "execution_count": 12,
   "metadata": {
    "ExecuteTime": {
     "end_time": "2023-07-26T15:37:46.173621Z",
     "start_time": "2023-07-26T15:37:46.170598Z"
    },
    "collapsed": false
   },
   "outputs": [],
   "source": [
    "def load_cil(dataset=\"split\") -> Tuple[pd.DataFrame, pd.DataFrame, int, int]:\n",
    "    \"\"\"Load CIL dataset\n",
    "\n",
    "    Args:\n",
    "        dataset : \"train\", \"test\" or \"split\"\n",
    "\n",
    "    Returns:\n",
    "        Tuple[pd.DataFrame, pd.DataFrame, int, int]: train_data, val_data, user_num, movie_num\n",
    "    \"\"\"\n",
    "    file = \"data_train\" if dataset != \"test\" else \"sampleSubmission\"\n",
    "    data = pd.read_csv(f'../../delivery/data/{file}.csv', index_col=0)\n",
    "    data['user'] = data.index.str.split('_').str[0].str[1:].astype('int32')\n",
    "    data['movie'] = data.index.str.split('_').str[1].str[1:].astype('int32')\n",
    "    data.rename(columns={'Prediction': 'rating'}, inplace=True)\n",
    "    data['rating'] = data['rating'].astype('uint8')\n",
    "    data = data[['user', 'movie', 'rating']]\n",
    "\n",
    "    data['user'] = data['user']\n",
    "    data['movie'] = data['movie']\n",
    "\n",
    "    user_num = 10000 \n",
    "    movie_num = 1000 \n",
    "    print(\"User num: {}, Movie num: {}\".format(user_num, movie_num))\n",
    "\n",
    "    train_data = val_data = None\n",
    "    if dataset == \"test\":\n",
    "        val_data = data\n",
    "    elif dataset == \"train\":\n",
    "        train_data = data\n",
    "    else:\n",
    "        train_data, val_data = train_test_split(data, test_size=0.2, random_state=42)\n",
    "\n",
    "    return train_data, val_data, user_num, movie_num"
   ]
  },
  {
   "cell_type": "code",
   "execution_count": 13,
   "metadata": {
    "ExecuteTime": {
     "end_time": "2023-07-26T15:37:53.664225Z",
     "start_time": "2023-07-26T15:37:50.905059Z"
    },
    "collapsed": false
   },
   "outputs": [
    {
     "name": "stdout",
     "output_type": "stream",
     "text": [
      "User num: 10000, Movie num: 1000\n"
     ]
    }
   ],
   "source": [
    "train_data, val_data, user_num, movie_num = load_cil(\"split\")"
   ]
  },
  {
   "cell_type": "markdown",
   "metadata": {},
   "source": [
    "### Read the predictions from the individual models to train the ensemble method"
   ]
  },
  {
   "cell_type": "code",
   "execution_count": 14,
   "metadata": {
    "ExecuteTime": {
     "end_time": "2023-07-26T15:38:03.391166Z",
     "start_time": "2023-07-26T15:38:02.633588Z"
    },
    "collapsed": false
   },
   "outputs": [],
   "source": [
    "dataset = \"val\"\n",
    "features = [\"predictions_bfm_ppf\", \"predictions_bfm\", \"predictions_knn\", \"predictions_mlp\", \"predictions_ncf\", \"similarity_knn\", \"std_bfm\"]\n",
    "\n",
    "for feature in features:\n",
    "    feature_df = pd.read_csv(f\"../../delivery/ensemble/{feature}_{dataset}.csv\", index_col=0)\n",
    "    val_data[feature] = feature_df.iloc[:, 0]\n"
   ]
  },
  {
   "cell_type": "code",
   "execution_count": 15,
   "metadata": {
    "ExecuteTime": {
     "end_time": "2023-07-26T15:38:06.344820Z",
     "start_time": "2023-07-26T15:38:06.320915Z"
    },
    "collapsed": false
   },
   "outputs": [],
   "source": [
    "# get sparsity for each user and movie id in the val set according to the train set\n",
    "val_data['user_sparsity'] = val_data['user'].map(train_data.groupby('user')['user'].count())\n",
    "val_data['movie_sparsity'] = val_data['movie'].map(train_data.groupby('movie')['movie'].count())\n",
    "features.append('user_sparsity')\n",
    "features.append('movie_sparsity')"
   ]
  },
  {
   "cell_type": "code",
   "execution_count": 16,
   "metadata": {
    "ExecuteTime": {
     "end_time": "2023-07-16T13:57:50.260217Z",
     "start_time": "2023-07-16T13:57:50.253804Z"
    },
    "collapsed": false
   },
   "outputs": [
    {
     "name": "stdout",
     "output_type": "stream",
     "text": [
      "            user  movie  rating  predictions_bfm_ppf  predictions_bfm   \n",
      "Id                                                                      \n",
      "r5062_c706  5062    706       2             3.562892         3.457201  \\\n",
      "r9044_c148  9044    148       4             3.944348         3.957705   \n",
      "r1736_c169  1736    169       4             4.054189         4.152227   \n",
      "r5270_c877  5270    877       1             3.869830         3.837557   \n",
      "r6100_c691  6100    691       4             3.750074         3.787237   \n",
      "\n",
      "            predictions_knn  predictions_mlp  predictions_ncf  similarity_knn   \n",
      "Id                                                                              \n",
      "r5062_c706         3.450599         3.521483         3.712618        0.026031  \\\n",
      "r9044_c148         4.058141         4.340946         4.044386        0.037758   \n",
      "r1736_c169         4.497718         4.408668         4.196273        0.032954   \n",
      "r5270_c877         3.470415         3.608752         3.599608        0.031948   \n",
      "r6100_c691         3.759279         3.836700         3.862752        0.026318   \n",
      "\n",
      "             std_bfm  user_sparsity  movie_sparsity  \n",
      "Id                                                   \n",
      "r5062_c706  0.254181             67            1970  \n",
      "r9044_c148  0.176798            130            2472  \n",
      "r1736_c169  0.208818             76            1228  \n",
      "r5270_c877  0.280618             90            1810  \n",
      "r6100_c691  0.271408             55            1394  \n"
     ]
    }
   ],
   "source": [
    "print(val_data.head())"
   ]
  },
  {
   "cell_type": "markdown",
   "metadata": {},
   "source": [
    "### Individually trained models scores"
   ]
  },
  {
   "cell_type": "code",
   "execution_count": 17,
   "metadata": {
    "ExecuteTime": {
     "end_time": "2023-07-26T15:38:12.679532Z",
     "start_time": "2023-07-26T15:38:12.670545Z"
    },
    "collapsed": false
   },
   "outputs": [
    {
     "name": "stdout",
     "output_type": "stream",
     "text": [
      "RMSE of KNN: 0.9925058600964632\n",
      "RMSE of MLP: 0.9884040526196102\n",
      "RMSE of NCF: 0.9880463397744673\n",
      "RMSE of BFM: 0.9797415528913666\n",
      "RMSE of BFM PPF: 0.9729213399919445\n"
     ]
    }
   ],
   "source": [
    "from sklearn.metrics import mean_squared_error\n",
    "# rmse of individual model\n",
    "rmse_mlp = mean_squared_error(val_data['rating'], val_data['predictions_mlp'], squared=False)\n",
    "rmse_ncf = mean_squared_error(val_data['rating'], val_data['predictions_ncf'], squared=False)\n",
    "rmse_bfm = mean_squared_error(val_data['rating'], val_data['predictions_bfm'], squared=False)\n",
    "rmse_bfm_ppf = mean_squared_error(val_data['rating'], val_data['predictions_bfm_ppf'], squared=False)\n",
    "rmse_knn = mean_squared_error(val_data['rating'], val_data['predictions_knn'], squared=False)\n",
    "\n",
    "# print in ascending order\n",
    "print(\"RMSE of KNN: {}\".format(rmse_knn))\n",
    "print(\"RMSE of MLP: {}\".format(rmse_mlp))\n",
    "print(\"RMSE of NCF: {}\".format(rmse_ncf))\n",
    "print(\"RMSE of BFM: {}\".format(rmse_bfm))\n",
    "print(\"RMSE of BFM PPF: {}\".format(rmse_bfm_ppf))"
   ]
  },
  {
   "cell_type": "markdown",
   "metadata": {
    "collapsed": false
   },
   "source": [
    "# First Ensemble Model : XGBoost"
   ]
  },
  {
   "cell_type": "code",
   "execution_count": 18,
   "metadata": {
    "ExecuteTime": {
     "end_time": "2023-07-26T15:38:22.498031Z",
     "start_time": "2023-07-26T15:38:22.468292Z"
    },
    "collapsed": false
   },
   "outputs": [],
   "source": [
    "# split val data into train and val\n",
    "train_data_ensemble, val_data_ensemble = train_test_split(val_data, test_size=0.2, random_state=42)"
   ]
  },
  {
   "cell_type": "code",
   "execution_count": 19,
   "metadata": {
    "ExecuteTime": {
     "end_time": "2023-07-16T14:05:49.006133Z",
     "start_time": "2023-07-16T14:05:36.062070Z"
    },
    "collapsed": false
   },
   "outputs": [],
   "source": [
    "# train random forest regression model\n",
    "from sklearn.ensemble import GradientBoostingClassifier\n",
    "\n",
    "rf = GradientBoostingClassifier(n_estimators=500, learning_rate=0.009, max_depth=5)\n",
    "rf.fit(train_data_ensemble[features], train_data_ensemble['rating'])"
   ]
  },
  {
   "cell_type": "code",
   "execution_count": null,
   "metadata": {
    "ExecuteTime": {
     "end_time": "2023-07-16T14:05:52.955550Z",
     "start_time": "2023-07-16T14:05:52.901359Z"
    },
    "collapsed": false
   },
   "outputs": [
    {
     "name": "stdout",
     "output_type": "stream",
     "text": [
      "RMSE: 0.9726835966600276\n"
     ]
    }
   ],
   "source": [
    "preds = rf.predict(val_data_ensemble[features])\n",
    "preds = np.clip(preds, 1, 5)\n",
    "print(\"RMSE: {}\".format(mean_squared_error(val_data_ensemble['rating'], preds, squared=False)))"
   ]
  },
  {
   "cell_type": "markdown",
   "metadata": {},
   "source": [
    "# Second Ensemble Model : Linear Regression"
   ]
  },
  {
   "cell_type": "markdown",
   "metadata": {},
   "source": [
    "## Training"
   ]
  },
  {
   "cell_type": "code",
   "execution_count": null,
   "metadata": {
    "ExecuteTime": {
     "end_time": "2023-07-26T15:38:28.732248Z",
     "start_time": "2023-07-26T15:38:28.511483Z"
    },
    "collapsed": false
   },
   "outputs": [
    {
     "data": {
      "text/html": [
       "<style>#sk-container-id-2 {color: black;background-color: white;}#sk-container-id-2 pre{padding: 0;}#sk-container-id-2 div.sk-toggleable {background-color: white;}#sk-container-id-2 label.sk-toggleable__label {cursor: pointer;display: block;width: 100%;margin-bottom: 0;padding: 0.3em;box-sizing: border-box;text-align: center;}#sk-container-id-2 label.sk-toggleable__label-arrow:before {content: \"▸\";float: left;margin-right: 0.25em;color: #696969;}#sk-container-id-2 label.sk-toggleable__label-arrow:hover:before {color: black;}#sk-container-id-2 div.sk-estimator:hover label.sk-toggleable__label-arrow:before {color: black;}#sk-container-id-2 div.sk-toggleable__content {max-height: 0;max-width: 0;overflow: hidden;text-align: left;background-color: #f0f8ff;}#sk-container-id-2 div.sk-toggleable__content pre {margin: 0.2em;color: black;border-radius: 0.25em;background-color: #f0f8ff;}#sk-container-id-2 input.sk-toggleable__control:checked~div.sk-toggleable__content {max-height: 200px;max-width: 100%;overflow: auto;}#sk-container-id-2 input.sk-toggleable__control:checked~label.sk-toggleable__label-arrow:before {content: \"▾\";}#sk-container-id-2 div.sk-estimator input.sk-toggleable__control:checked~label.sk-toggleable__label {background-color: #d4ebff;}#sk-container-id-2 div.sk-label input.sk-toggleable__control:checked~label.sk-toggleable__label {background-color: #d4ebff;}#sk-container-id-2 input.sk-hidden--visually {border: 0;clip: rect(1px 1px 1px 1px);clip: rect(1px, 1px, 1px, 1px);height: 1px;margin: -1px;overflow: hidden;padding: 0;position: absolute;width: 1px;}#sk-container-id-2 div.sk-estimator {font-family: monospace;background-color: #f0f8ff;border: 1px dotted black;border-radius: 0.25em;box-sizing: border-box;margin-bottom: 0.5em;}#sk-container-id-2 div.sk-estimator:hover {background-color: #d4ebff;}#sk-container-id-2 div.sk-parallel-item::after {content: \"\";width: 100%;border-bottom: 1px solid gray;flex-grow: 1;}#sk-container-id-2 div.sk-label:hover label.sk-toggleable__label {background-color: #d4ebff;}#sk-container-id-2 div.sk-serial::before {content: \"\";position: absolute;border-left: 1px solid gray;box-sizing: border-box;top: 0;bottom: 0;left: 50%;z-index: 0;}#sk-container-id-2 div.sk-serial {display: flex;flex-direction: column;align-items: center;background-color: white;padding-right: 0.2em;padding-left: 0.2em;position: relative;}#sk-container-id-2 div.sk-item {position: relative;z-index: 1;}#sk-container-id-2 div.sk-parallel {display: flex;align-items: stretch;justify-content: center;background-color: white;position: relative;}#sk-container-id-2 div.sk-item::before, #sk-container-id-2 div.sk-parallel-item::before {content: \"\";position: absolute;border-left: 1px solid gray;box-sizing: border-box;top: 0;bottom: 0;left: 50%;z-index: -1;}#sk-container-id-2 div.sk-parallel-item {display: flex;flex-direction: column;z-index: 1;position: relative;background-color: white;}#sk-container-id-2 div.sk-parallel-item:first-child::after {align-self: flex-end;width: 50%;}#sk-container-id-2 div.sk-parallel-item:last-child::after {align-self: flex-start;width: 50%;}#sk-container-id-2 div.sk-parallel-item:only-child::after {width: 0;}#sk-container-id-2 div.sk-dashed-wrapped {border: 1px dashed gray;margin: 0 0.4em 0.5em 0.4em;box-sizing: border-box;padding-bottom: 0.4em;background-color: white;}#sk-container-id-2 div.sk-label label {font-family: monospace;font-weight: bold;display: inline-block;line-height: 1.2em;}#sk-container-id-2 div.sk-label-container {text-align: center;}#sk-container-id-2 div.sk-container {/* jupyter's `normalize.less` sets `[hidden] { display: none; }` but bootstrap.min.css set `[hidden] { display: none !important; }` so we also need the `!important` here to be able to override the default hidden behavior on the sphinx rendered scikit-learn.org. See: https://github.com/scikit-learn/scikit-learn/issues/21755 */display: inline-block !important;position: relative;}#sk-container-id-2 div.sk-text-repr-fallback {display: none;}</style><div id=\"sk-container-id-2\" class=\"sk-top-container\"><div class=\"sk-text-repr-fallback\"><pre>LinearRegression()</pre><b>In a Jupyter environment, please rerun this cell to show the HTML representation or trust the notebook. <br />On GitHub, the HTML representation is unable to render, please try loading this page with nbviewer.org.</b></div><div class=\"sk-container\" hidden><div class=\"sk-item\"><div class=\"sk-estimator sk-toggleable\"><input class=\"sk-toggleable__control sk-hidden--visually\" id=\"sk-estimator-id-2\" type=\"checkbox\" checked><label for=\"sk-estimator-id-2\" class=\"sk-toggleable__label sk-toggleable__label-arrow\">LinearRegression</label><div class=\"sk-toggleable__content\"><pre>LinearRegression()</pre></div></div></div></div></div>"
      ],
      "text/plain": [
       "LinearRegression()"
      ]
     },
     "execution_count": 12,
     "metadata": {},
     "output_type": "execute_result"
    }
   ],
   "source": [
    "# now train linear regression model\n",
    "from sklearn.linear_model import LinearRegression\n",
    "lr = LinearRegression()\n",
    "lr.fit(train_data_ensemble[features[:5]], train_data_ensemble['rating'])"
   ]
  },
  {
   "cell_type": "code",
   "execution_count": null,
   "metadata": {
    "ExecuteTime": {
     "end_time": "2023-07-26T15:38:40.293143Z",
     "start_time": "2023-07-26T15:38:40.286851Z"
    },
    "collapsed": false
   },
   "outputs": [
    {
     "name": "stdout",
     "output_type": "stream",
     "text": [
      "RMSE: 0.9718315692455486\n"
     ]
    }
   ],
   "source": [
    "preds = lr.predict(val_data_ensemble[features[:5]])\n",
    "preds = np.clip(preds, 1, 5)\n",
    "print(\"RMSE: {}\".format(mean_squared_error(val_data_ensemble['rating'], preds, squared=False)))"
   ]
  },
  {
   "cell_type": "markdown",
   "metadata": {},
   "source": [
    "## Vizualisation of features importance"
   ]
  },
  {
   "cell_type": "code",
   "execution_count": null,
   "metadata": {
    "ExecuteTime": {
     "end_time": "2023-07-26T15:39:13.913571Z",
     "start_time": "2023-07-26T15:39:13.844288Z"
    },
    "collapsed": false
   },
   "outputs": [
    {
     "data": {
      "image/png": "[encoded data removed]",
      "text/plain": [
       "<Figure size 640x480 with 1 Axes>"
      ]
     },
     "metadata": {},
     "output_type": "display_data"
    }
   ],
   "source": [
    "import seaborn as sns\n",
    "import matplotlib.pyplot as plt\n",
    "# print feature importance\n",
    "feature_importance = pd.DataFrame({'feature': features[:5], 'weight': lr.coef_})\n",
    "feature_importance = feature_importance.sort_values(by='weight', ascending=False)\n",
    "sns.barplot(x='weight', y='feature', data=feature_importance)\n",
    "plt.show()"
   ]
  },
  {
   "cell_type": "markdown",
   "metadata": {},
   "source": [
    "## Comparison with individual models"
   ]
  },
  {
   "cell_type": "code",
   "execution_count": null,
   "metadata": {
    "ExecuteTime": {
     "end_time": "2023-07-26T15:39:17.661639Z",
     "start_time": "2023-07-26T15:39:17.642939Z"
    },
    "collapsed": false
   },
   "outputs": [
    {
     "name": "stdout",
     "output_type": "stream",
     "text": [
      "RMSE of KNN: 0.9920871743261326\n",
      "RMSE of MLP: 0.98850980465946\n",
      "RMSE of NCF: 0.9876908165859187\n",
      "RMSE of BFM: 0.9795274627045788\n",
      "RMSE of BFM PPF: 0.9731937332002116\n",
      "-------\n",
      "RMSE of ENSEMBLE: 0.9718315692455486\n"
     ]
    }
   ],
   "source": [
    "# rmse of individual model\n",
    "rmse_mlp = mean_squared_error(val_data_ensemble['rating'], val_data_ensemble['predictions_mlp'], squared=False)\n",
    "rmse_ncf = mean_squared_error(val_data_ensemble['rating'], val_data_ensemble['predictions_ncf'], squared=False)\n",
    "rmse_bfm = mean_squared_error(val_data_ensemble['rating'], val_data_ensemble['predictions_bfm'], squared=False)\n",
    "rmse_bfm_ppf = mean_squared_error(val_data_ensemble['rating'], val_data_ensemble['predictions_bfm_ppf'], squared=False)\n",
    "rmse_knn = mean_squared_error(val_data_ensemble['rating'], val_data_ensemble['predictions_knn'], squared=False)\n",
    "\n",
    "# print in ascending order\n",
    "print(\"RMSE of KNN: {}\".format(rmse_knn))\n",
    "print(\"RMSE of MLP: {}\".format(rmse_mlp))\n",
    "print(\"RMSE of NCF: {}\".format(rmse_ncf))\n",
    "print(\"RMSE of BFM: {}\".format(rmse_bfm))\n",
    "print(\"RMSE of BFM PPF: {}\".format(rmse_bfm_ppf))\n",
    "print(\"-------\")\n",
    "print(\"RMSE of ENSEMBLE: {}\".format(mean_squared_error(val_data_ensemble['rating'], preds, squared=False)))"
   ]
  },
  {
   "cell_type": "markdown",
   "metadata": {},
   "source": [
    "# Final Submission File"
   ]
  },
  {
   "cell_type": "code",
   "execution_count": null,
   "metadata": {
    "ExecuteTime": {
     "end_time": "2023-07-26T15:39:38.347839Z",
     "start_time": "2023-07-26T15:39:35.776239Z"
    },
    "collapsed": false
   },
   "outputs": [
    {
     "name": "stdout",
     "output_type": "stream",
     "text": [
      "User num: 10000, Movie num: 1000\n"
     ]
    }
   ],
   "source": [
    "# Load test data\n",
    "_, test_data, user_num, movie_num = load_cil(\"test\")"
   ]
  },
  {
   "cell_type": "code",
   "execution_count": null,
   "metadata": {
    "ExecuteTime": {
     "end_time": "2023-07-26T15:39:47.570628Z",
     "start_time": "2023-07-26T15:39:44.977599Z"
    },
    "collapsed": false
   },
   "outputs": [],
   "source": [
    "dataset = \"test\"\n",
    "features = [\"predictions_bfm_ppf\", \"predictions_bfm\", \"predictions_knn\", \"predictions_mlp\", \"predictions_ncf\"]\n",
    "\n",
    "for feature in features:\n",
    "    feature_df = pd.read_csv(f\"../../delivery/ensemble/{feature}_{dataset}.csv\", index_col=0)\n",
    "    test_data[feature] = np.clip(feature_df.iloc[:, 0], 1, 5)"
   ]
  },
  {
   "cell_type": "code",
   "execution_count": null,
   "metadata": {
    "ExecuteTime": {
     "end_time": "2023-07-16T15:11:54.052948Z",
     "start_time": "2023-07-16T15:11:54.050621Z"
    },
    "collapsed": false
   },
   "outputs": [
    {
     "data": {
      "text/html": [
       "<div>\n",
       "<style scoped>\n",
       "    .dataframe tbody tr th:only-of-type {\n",
       "        vertical-align: middle;\n",
       "    }\n",
       "\n",
       "    .dataframe tbody tr th {\n",
       "        vertical-align: top;\n",
       "    }\n",
       "\n",
       "    .dataframe thead th {\n",
       "        text-align: right;\n",
       "    }\n",
       "</style>\n",
       "<table border=\"1\" class=\"dataframe\">\n",
       "  <thead>\n",
       "    <tr style=\"text-align: right;\">\n",
       "      <th></th>\n",
       "      <th>user</th>\n",
       "      <th>movie</th>\n",
       "      <th>rating</th>\n",
       "      <th>predictions_bfm_ppf</th>\n",
       "      <th>predictions_bfm</th>\n",
       "      <th>predictions_knn</th>\n",
       "      <th>predictions_mlp</th>\n",
       "      <th>predictions_ncf</th>\n",
       "    </tr>\n",
       "    <tr>\n",
       "      <th>Id</th>\n",
       "      <th></th>\n",
       "      <th></th>\n",
       "      <th></th>\n",
       "      <th></th>\n",
       "      <th></th>\n",
       "      <th></th>\n",
       "      <th></th>\n",
       "      <th></th>\n",
       "    </tr>\n",
       "  </thead>\n",
       "  <tbody>\n",
       "    <tr>\n",
       "      <th>r37_c1</th>\n",
       "      <td>37</td>\n",
       "      <td>1</td>\n",
       "      <td>3</td>\n",
       "      <td>3.279221</td>\n",
       "      <td>3.271470</td>\n",
       "      <td>3.187437</td>\n",
       "      <td>3.438433</td>\n",
       "      <td>3.255605</td>\n",
       "    </tr>\n",
       "    <tr>\n",
       "      <th>r73_c1</th>\n",
       "      <td>73</td>\n",
       "      <td>1</td>\n",
       "      <td>3</td>\n",
       "      <td>3.332236</td>\n",
       "      <td>3.115413</td>\n",
       "      <td>3.071045</td>\n",
       "      <td>3.047700</td>\n",
       "      <td>2.917824</td>\n",
       "    </tr>\n",
       "    <tr>\n",
       "      <th>r156_c1</th>\n",
       "      <td>156</td>\n",
       "      <td>1</td>\n",
       "      <td>3</td>\n",
       "      <td>3.826852</td>\n",
       "      <td>3.740160</td>\n",
       "      <td>3.817712</td>\n",
       "      <td>3.749494</td>\n",
       "      <td>3.844527</td>\n",
       "    </tr>\n",
       "    <tr>\n",
       "      <th>r160_c1</th>\n",
       "      <td>160</td>\n",
       "      <td>1</td>\n",
       "      <td>3</td>\n",
       "      <td>3.496139</td>\n",
       "      <td>3.313910</td>\n",
       "      <td>3.059693</td>\n",
       "      <td>3.210039</td>\n",
       "      <td>3.173617</td>\n",
       "    </tr>\n",
       "    <tr>\n",
       "      <th>r248_c1</th>\n",
       "      <td>248</td>\n",
       "      <td>1</td>\n",
       "      <td>3</td>\n",
       "      <td>3.520885</td>\n",
       "      <td>3.537277</td>\n",
       "      <td>3.370848</td>\n",
       "      <td>3.535636</td>\n",
       "      <td>3.615509</td>\n",
       "    </tr>\n",
       "  </tbody>\n",
       "</table>\n",
       "</div>"
      ],
      "text/plain": [
       "         user  movie  rating  predictions_bfm_ppf  predictions_bfm   \n",
       "Id                                                                   \n",
       "r37_c1     37      1       3             3.279221         3.271470  \\\n",
       "r73_c1     73      1       3             3.332236         3.115413   \n",
       "r156_c1   156      1       3             3.826852         3.740160   \n",
       "r160_c1   160      1       3             3.496139         3.313910   \n",
       "r248_c1   248      1       3             3.520885         3.537277   \n",
       "\n",
       "         predictions_knn  predictions_mlp  predictions_ncf  \n",
       "Id                                                          \n",
       "r37_c1          3.187437         3.438433         3.255605  \n",
       "r73_c1          3.071045         3.047700         2.917824  \n",
       "r156_c1         3.817712         3.749494         3.844527  \n",
       "r160_c1         3.059693         3.210039         3.173617  \n",
       "r248_c1         3.370848         3.535636         3.615509  "
      ]
     },
     "metadata": {},
     "output_type": "display_data"
    }
   ],
   "source": [
    "display(test_data.head())"
   ]
  },
  {
   "cell_type": "code",
   "execution_count": null,
   "metadata": {
    "ExecuteTime": {
     "end_time": "2023-07-26T15:39:51.592058Z",
     "start_time": "2023-07-26T15:39:51.572301Z"
    },
    "collapsed": false
   },
   "outputs": [],
   "source": [
    "preds = lr.predict(test_data[features[:5]])\n",
    "preds = np.clip(preds, 1, 5)\n",
    "test_data['Prediction'] = preds"
   ]
  },
  {
   "cell_type": "code",
   "execution_count": null,
   "metadata": {
    "ExecuteTime": {
     "end_time": "2023-07-26T15:39:54.943804Z",
     "start_time": "2023-07-26T15:39:53.944592Z"
    },
    "collapsed": false
   },
   "outputs": [],
   "source": [
    "test_data['Prediction'].to_csv(f\"../../delivery/outputs/ensemble/predictions_ensemble_test.csv\")"
   ]
  }
 ],
 "metadata": {
  "kernelspec": {
   "display_name": "Python 3",
   "language": "python",
   "name": "python3"
  },
  "language_info": {
   "codemirror_mode": {
    "name": "ipython",
    "version": 3
   },
   "file_extension": ".py",
   "mimetype": "text/x-python",
   "name": "python",
   "nbconvert_exporter": "python",
   "pygments_lexer": "ipython3",
   "version": "3.9.7"
  }
 },
 "nbformat": 4,
 "nbformat_minor": 0
}
