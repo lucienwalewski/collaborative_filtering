{
 "cells": [
  {
   "cell_type": "code",
   "execution_count": 2,
   "outputs": [],
   "source": [
    "import pandas as pd\n",
    "import numpy as np\n",
    "from sklearn.model_selection import train_test_split"
   ],
   "metadata": {
    "collapsed": false,
    "ExecuteTime": {
     "start_time": "2023-07-16T13:42:29.599668Z",
     "end_time": "2023-07-16T13:42:29.604758Z"
    }
   }
  },
  {
   "cell_type": "code",
   "execution_count": 5,
   "outputs": [],
   "source": [
    "def load_cil(dataset=\"split\"):\n",
    "\n",
    "    file = \"data_train\" if dataset != \"test\" else \"sampleSubmission\"\n",
    "    data = pd.read_csv(f'../data/{file}.csv', index_col=0)\n",
    "    data['user'] = data.index.str.split('_').str[0].str[1:].astype('int32')\n",
    "    data['movie'] = data.index.str.split('_').str[1].str[1:].astype('int32')\n",
    "    data.rename(columns={'Prediction': 'rating'}, inplace=True)\n",
    "    data['rating'] = data['rating'].astype('uint8')\n",
    "    data = data[['user', 'movie', 'rating']]\n",
    "\n",
    "    data['user'] = data['user']\n",
    "    data['movie'] = data['movie']\n",
    "    # print(\"Subtracted {} from user and movie\".format(1))\n",
    "\n",
    "    user_num = 10000  # int(data['user'].max() + 1)\n",
    "    movie_num = 1000  # int(data['movie'].max() + 1)\n",
    "    print(\"User num: {}, Movie num: {}\".format(user_num, movie_num))\n",
    "\n",
    "    train_data = val_data = None\n",
    "    if dataset == \"test\":\n",
    "        val_data = data\n",
    "    elif dataset == \"train\":\n",
    "        train_data = data\n",
    "    else:\n",
    "        train_data, val_data = train_test_split(data, test_size=0.2, random_state=42)\n",
    "\n",
    "    return train_data, val_data, user_num, movie_num"
   ],
   "metadata": {
    "collapsed": false,
    "ExecuteTime": {
     "start_time": "2023-07-16T13:43:06.771368Z",
     "end_time": "2023-07-16T13:43:06.772945Z"
    }
   }
  },
  {
   "cell_type": "code",
   "execution_count": 6,
   "outputs": [
    {
     "name": "stdout",
     "output_type": "stream",
     "text": [
      "User num: 10000, Movie num: 1000\n"
     ]
    }
   ],
   "source": [
    "train_data, val_data, user_num, movie_num = load_cil(\"split\")"
   ],
   "metadata": {
    "collapsed": false,
    "ExecuteTime": {
     "start_time": "2023-07-16T13:43:09.048650Z",
     "end_time": "2023-07-16T13:43:11.756342Z"
    }
   }
  },
  {
   "cell_type": "code",
   "execution_count": 12,
   "outputs": [],
   "source": [
    "dataset = \"val\"\n",
    "features = [\"predictions_bfm_ppf\", \"predictions_bfm\", \"predictions_knn\", \"predictions_mlp\", \"predictions_ncf\", \"similarity_knn\", \"std_bfm\"]\n",
    "\n",
    "for feature in features:\n",
    "    feature_df = pd.read_csv(f\"../lightning_logs/ensemble/{feature}_{dataset}.csv\", index_col=0)\n",
    "    val_data[feature] = feature_df.iloc[:, 0]\n"
   ],
   "metadata": {
    "collapsed": false,
    "ExecuteTime": {
     "start_time": "2023-07-16T13:46:54.990555Z",
     "end_time": "2023-07-16T13:46:55.718733Z"
    }
   }
  },
  {
   "cell_type": "code",
   "execution_count": 24,
   "outputs": [],
   "source": [
    "# get sparsity for each user and movie id in the val set according to the train set\n",
    "val_data['user_sparsity'] = val_data['user'].map(train_data.groupby('user')['user'].count())\n",
    "val_data['movie_sparsity'] = val_data['movie'].map(train_data.groupby('movie')['movie'].count())\n",
    "features.append('user_sparsity')\n",
    "features.append('movie_sparsity')"
   ],
   "metadata": {
    "collapsed": false,
    "ExecuteTime": {
     "start_time": "2023-07-16T14:04:34.385328Z",
     "end_time": "2023-07-16T14:04:34.410911Z"
    }
   }
  },
  {
   "cell_type": "code",
   "execution_count": 23,
   "outputs": [
    {
     "name": "stdout",
     "output_type": "stream",
     "text": [
      "            user  movie  rating  predictions_bfm_ppf  predictions_bfm  \\\n",
      "Id                                                                      \n",
      "r5062_c706  5062    706       2             3.562892         3.457201   \n",
      "r9044_c148  9044    148       4             3.944348         3.957705   \n",
      "r1736_c169  1736    169       4             4.054189         4.152227   \n",
      "r5270_c877  5270    877       1             3.869830         3.837557   \n",
      "r6100_c691  6100    691       4             3.750074         3.787237   \n",
      "\n",
      "            predictions_knn  predictions_mlp  predictions_ncf  similarity_knn  \\\n",
      "Id                                                                              \n",
      "r5062_c706         3.450599         3.521483         3.712618        0.026031   \n",
      "r9044_c148         4.058141         4.340946         4.044386        0.037758   \n",
      "r1736_c169         4.497718         4.408668         4.196273        0.032954   \n",
      "r5270_c877         3.470415         3.608752         3.599608        0.031948   \n",
      "r6100_c691         3.759279         3.836700         3.862752        0.026318   \n",
      "\n",
      "             std_bfm  user_sparsity  movie_sparsity  \n",
      "Id                                                   \n",
      "r5062_c706  0.254181             67            1970  \n",
      "r9044_c148  0.176798            130            2472  \n",
      "r1736_c169  0.208818             76            1228  \n",
      "r5270_c877  0.280618             90            1810  \n",
      "r6100_c691  0.271408             55            1394  \n"
     ]
    }
   ],
   "source": [
    "print(val_data.head())"
   ],
   "metadata": {
    "collapsed": false,
    "ExecuteTime": {
     "start_time": "2023-07-16T13:57:50.253804Z",
     "end_time": "2023-07-16T13:57:50.260217Z"
    }
   }
  },
  {
   "cell_type": "code",
   "execution_count": 44,
   "outputs": [
    {
     "name": "stdout",
     "output_type": "stream",
     "text": [
      "RMSE of KNN: 0.9925058600964632\n",
      "RMSE of MLP: 0.9884040526196102\n",
      "RMSE of NCF: 0.9880463397744673\n",
      "RMSE of BFM: 0.9797415528913666\n",
      "RMSE of BFM PPF: 0.9729213399919445\n"
     ]
    }
   ],
   "source": [
    "from sklearn.metrics import mean_squared_error\n",
    "# rmse of individual model\n",
    "rmse_mlp = mean_squared_error(val_data['rating'], val_data['predictions_mlp'], squared=False)\n",
    "rmse_ncf = mean_squared_error(val_data['rating'], val_data['predictions_ncf'], squared=False)\n",
    "rmse_bfm = mean_squared_error(val_data['rating'], val_data['predictions_bfm'], squared=False)\n",
    "rmse_bfm_ppf = mean_squared_error(val_data['rating'], val_data['predictions_bfm_ppf'], squared=False)\n",
    "rmse_knn = mean_squared_error(val_data['rating'], val_data['predictions_knn'], squared=False)\n",
    "\n",
    "# print in ascending order\n",
    "print(\"RMSE of KNN: {}\".format(rmse_knn))\n",
    "print(\"RMSE of MLP: {}\".format(rmse_mlp))\n",
    "print(\"RMSE of NCF: {}\".format(rmse_ncf))\n",
    "print(\"RMSE of BFM: {}\".format(rmse_bfm))\n",
    "print(\"RMSE of BFM PPF: {}\".format(rmse_bfm_ppf))"
   ],
   "metadata": {
    "collapsed": false,
    "ExecuteTime": {
     "start_time": "2023-07-16T14:30:13.972121Z",
     "end_time": "2023-07-16T14:30:13.978128Z"
    }
   }
  },
  {
   "cell_type": "markdown",
   "source": [
    "# Train ensemble model"
   ],
   "metadata": {
    "collapsed": false
   }
  },
  {
   "cell_type": "code",
   "execution_count": 26,
   "outputs": [],
   "source": [
    "# split val data into train and val\n",
    "train_data_ensemble, val_data_ensemble = train_test_split(val_data, test_size=0.2, random_state=42)"
   ],
   "metadata": {
    "collapsed": false,
    "ExecuteTime": {
     "start_time": "2023-07-16T14:05:28.923302Z",
     "end_time": "2023-07-16T14:05:28.955243Z"
    }
   }
  },
  {
   "cell_type": "code",
   "execution_count": 27,
   "outputs": [
    {
     "data": {
      "text/plain": "RandomForestRegressor(max_depth=10, n_jobs=-1, random_state=42)",
      "text/html": "<style>#sk-container-id-1 {color: black;background-color: white;}#sk-container-id-1 pre{padding: 0;}#sk-container-id-1 div.sk-toggleable {background-color: white;}#sk-container-id-1 label.sk-toggleable__label {cursor: pointer;display: block;width: 100%;margin-bottom: 0;padding: 0.3em;box-sizing: border-box;text-align: center;}#sk-container-id-1 label.sk-toggleable__label-arrow:before {content: \"▸\";float: left;margin-right: 0.25em;color: #696969;}#sk-container-id-1 label.sk-toggleable__label-arrow:hover:before {color: black;}#sk-container-id-1 div.sk-estimator:hover label.sk-toggleable__label-arrow:before {color: black;}#sk-container-id-1 div.sk-toggleable__content {max-height: 0;max-width: 0;overflow: hidden;text-align: left;background-color: #f0f8ff;}#sk-container-id-1 div.sk-toggleable__content pre {margin: 0.2em;color: black;border-radius: 0.25em;background-color: #f0f8ff;}#sk-container-id-1 input.sk-toggleable__control:checked~div.sk-toggleable__content {max-height: 200px;max-width: 100%;overflow: auto;}#sk-container-id-1 input.sk-toggleable__control:checked~label.sk-toggleable__label-arrow:before {content: \"▾\";}#sk-container-id-1 div.sk-estimator input.sk-toggleable__control:checked~label.sk-toggleable__label {background-color: #d4ebff;}#sk-container-id-1 div.sk-label input.sk-toggleable__control:checked~label.sk-toggleable__label {background-color: #d4ebff;}#sk-container-id-1 input.sk-hidden--visually {border: 0;clip: rect(1px 1px 1px 1px);clip: rect(1px, 1px, 1px, 1px);height: 1px;margin: -1px;overflow: hidden;padding: 0;position: absolute;width: 1px;}#sk-container-id-1 div.sk-estimator {font-family: monospace;background-color: #f0f8ff;border: 1px dotted black;border-radius: 0.25em;box-sizing: border-box;margin-bottom: 0.5em;}#sk-container-id-1 div.sk-estimator:hover {background-color: #d4ebff;}#sk-container-id-1 div.sk-parallel-item::after {content: \"\";width: 100%;border-bottom: 1px solid gray;flex-grow: 1;}#sk-container-id-1 div.sk-label:hover label.sk-toggleable__label {background-color: #d4ebff;}#sk-container-id-1 div.sk-serial::before {content: \"\";position: absolute;border-left: 1px solid gray;box-sizing: border-box;top: 0;bottom: 0;left: 50%;z-index: 0;}#sk-container-id-1 div.sk-serial {display: flex;flex-direction: column;align-items: center;background-color: white;padding-right: 0.2em;padding-left: 0.2em;position: relative;}#sk-container-id-1 div.sk-item {position: relative;z-index: 1;}#sk-container-id-1 div.sk-parallel {display: flex;align-items: stretch;justify-content: center;background-color: white;position: relative;}#sk-container-id-1 div.sk-item::before, #sk-container-id-1 div.sk-parallel-item::before {content: \"\";position: absolute;border-left: 1px solid gray;box-sizing: border-box;top: 0;bottom: 0;left: 50%;z-index: -1;}#sk-container-id-1 div.sk-parallel-item {display: flex;flex-direction: column;z-index: 1;position: relative;background-color: white;}#sk-container-id-1 div.sk-parallel-item:first-child::after {align-self: flex-end;width: 50%;}#sk-container-id-1 div.sk-parallel-item:last-child::after {align-self: flex-start;width: 50%;}#sk-container-id-1 div.sk-parallel-item:only-child::after {width: 0;}#sk-container-id-1 div.sk-dashed-wrapped {border: 1px dashed gray;margin: 0 0.4em 0.5em 0.4em;box-sizing: border-box;padding-bottom: 0.4em;background-color: white;}#sk-container-id-1 div.sk-label label {font-family: monospace;font-weight: bold;display: inline-block;line-height: 1.2em;}#sk-container-id-1 div.sk-label-container {text-align: center;}#sk-container-id-1 div.sk-container {/* jupyter's `normalize.less` sets `[hidden] { display: none; }` but bootstrap.min.css set `[hidden] { display: none !important; }` so we also need the `!important` here to be able to override the default hidden behavior on the sphinx rendered scikit-learn.org. See: https://github.com/scikit-learn/scikit-learn/issues/21755 */display: inline-block !important;position: relative;}#sk-container-id-1 div.sk-text-repr-fallback {display: none;}</style><div id=\"sk-container-id-1\" class=\"sk-top-container\"><div class=\"sk-text-repr-fallback\"><pre>RandomForestRegressor(max_depth=10, n_jobs=-1, random_state=42)</pre><b>In a Jupyter environment, please rerun this cell to show the HTML representation or trust the notebook. <br />On GitHub, the HTML representation is unable to render, please try loading this page with nbviewer.org.</b></div><div class=\"sk-container\" hidden><div class=\"sk-item\"><div class=\"sk-estimator sk-toggleable\"><input class=\"sk-toggleable__control sk-hidden--visually\" id=\"sk-estimator-id-1\" type=\"checkbox\" checked><label for=\"sk-estimator-id-1\" class=\"sk-toggleable__label sk-toggleable__label-arrow\">RandomForestRegressor</label><div class=\"sk-toggleable__content\"><pre>RandomForestRegressor(max_depth=10, n_jobs=-1, random_state=42)</pre></div></div></div></div></div>"
     },
     "execution_count": 27,
     "metadata": {},
     "output_type": "execute_result"
    }
   ],
   "source": [
    "# train random forest regression model\n",
    "from sklearn.ensemble import RandomForestRegressor\n",
    "\n",
    "rf = RandomForestRegressor(n_estimators=100, max_depth=10, random_state=42, n_jobs=-1)\n",
    "rf.fit(train_data_ensemble[features], train_data_ensemble['rating'])"
   ],
   "metadata": {
    "collapsed": false,
    "ExecuteTime": {
     "start_time": "2023-07-16T14:05:36.062070Z",
     "end_time": "2023-07-16T14:05:49.006133Z"
    }
   }
  },
  {
   "cell_type": "code",
   "execution_count": 28,
   "outputs": [
    {
     "name": "stdout",
     "output_type": "stream",
     "text": [
      "RMSE: 0.9726835966600276\n"
     ]
    }
   ],
   "source": [
    "preds = rf.predict(val_data_ensemble[features])\n",
    "preds = np.clip(preds, 1, 5)\n",
    "print(\"RMSE: {}\".format(mean_squared_error(val_data_ensemble['rating'], preds, squared=False)))"
   ],
   "metadata": {
    "collapsed": false,
    "ExecuteTime": {
     "start_time": "2023-07-16T14:05:52.901359Z",
     "end_time": "2023-07-16T14:05:52.955550Z"
    }
   }
  },
  {
   "cell_type": "code",
   "execution_count": 34,
   "outputs": [
    {
     "data": {
      "text/plain": "<Figure size 640x480 with 1 Axes>",
      "image/png": "[encoded data removed]"
     },
     "metadata": {},
     "output_type": "display_data"
    }
   ],
   "source": [
    "# print feature importance\n",
    "import matplotlib.pyplot as plt\n",
    "import seaborn as sns\n",
    "feature_importance = pd.DataFrame({'feature': features, 'importance': rf.feature_importances_})\n",
    "feature_importance = feature_importance.sort_values(by='importance', ascending=False)\n",
    "sns.barplot(x='importance', y='feature', data=feature_importance)\n",
    "plt.show()"
   ],
   "metadata": {
    "collapsed": false,
    "ExecuteTime": {
     "start_time": "2023-07-16T14:14:57.570217Z",
     "end_time": "2023-07-16T14:14:57.648584Z"
    }
   }
  },
  {
   "cell_type": "code",
   "execution_count": 47,
   "outputs": [
    {
     "data": {
      "text/plain": "LinearRegression()",
      "text/html": "<style>#sk-container-id-3 {color: black;background-color: white;}#sk-container-id-3 pre{padding: 0;}#sk-container-id-3 div.sk-toggleable {background-color: white;}#sk-container-id-3 label.sk-toggleable__label {cursor: pointer;display: block;width: 100%;margin-bottom: 0;padding: 0.3em;box-sizing: border-box;text-align: center;}#sk-container-id-3 label.sk-toggleable__label-arrow:before {content: \"▸\";float: left;margin-right: 0.25em;color: #696969;}#sk-container-id-3 label.sk-toggleable__label-arrow:hover:before {color: black;}#sk-container-id-3 div.sk-estimator:hover label.sk-toggleable__label-arrow:before {color: black;}#sk-container-id-3 div.sk-toggleable__content {max-height: 0;max-width: 0;overflow: hidden;text-align: left;background-color: #f0f8ff;}#sk-container-id-3 div.sk-toggleable__content pre {margin: 0.2em;color: black;border-radius: 0.25em;background-color: #f0f8ff;}#sk-container-id-3 input.sk-toggleable__control:checked~div.sk-toggleable__content {max-height: 200px;max-width: 100%;overflow: auto;}#sk-container-id-3 input.sk-toggleable__control:checked~label.sk-toggleable__label-arrow:before {content: \"▾\";}#sk-container-id-3 div.sk-estimator input.sk-toggleable__control:checked~label.sk-toggleable__label {background-color: #d4ebff;}#sk-container-id-3 div.sk-label input.sk-toggleable__control:checked~label.sk-toggleable__label {background-color: #d4ebff;}#sk-container-id-3 input.sk-hidden--visually {border: 0;clip: rect(1px 1px 1px 1px);clip: rect(1px, 1px, 1px, 1px);height: 1px;margin: -1px;overflow: hidden;padding: 0;position: absolute;width: 1px;}#sk-container-id-3 div.sk-estimator {font-family: monospace;background-color: #f0f8ff;border: 1px dotted black;border-radius: 0.25em;box-sizing: border-box;margin-bottom: 0.5em;}#sk-container-id-3 div.sk-estimator:hover {background-color: #d4ebff;}#sk-container-id-3 div.sk-parallel-item::after {content: \"\";width: 100%;border-bottom: 1px solid gray;flex-grow: 1;}#sk-container-id-3 div.sk-label:hover label.sk-toggleable__label {background-color: #d4ebff;}#sk-container-id-3 div.sk-serial::before {content: \"\";position: absolute;border-left: 1px solid gray;box-sizing: border-box;top: 0;bottom: 0;left: 50%;z-index: 0;}#sk-container-id-3 div.sk-serial {display: flex;flex-direction: column;align-items: center;background-color: white;padding-right: 0.2em;padding-left: 0.2em;position: relative;}#sk-container-id-3 div.sk-item {position: relative;z-index: 1;}#sk-container-id-3 div.sk-parallel {display: flex;align-items: stretch;justify-content: center;background-color: white;position: relative;}#sk-container-id-3 div.sk-item::before, #sk-container-id-3 div.sk-parallel-item::before {content: \"\";position: absolute;border-left: 1px solid gray;box-sizing: border-box;top: 0;bottom: 0;left: 50%;z-index: -1;}#sk-container-id-3 div.sk-parallel-item {display: flex;flex-direction: column;z-index: 1;position: relative;background-color: white;}#sk-container-id-3 div.sk-parallel-item:first-child::after {align-self: flex-end;width: 50%;}#sk-container-id-3 div.sk-parallel-item:last-child::after {align-self: flex-start;width: 50%;}#sk-container-id-3 div.sk-parallel-item:only-child::after {width: 0;}#sk-container-id-3 div.sk-dashed-wrapped {border: 1px dashed gray;margin: 0 0.4em 0.5em 0.4em;box-sizing: border-box;padding-bottom: 0.4em;background-color: white;}#sk-container-id-3 div.sk-label label {font-family: monospace;font-weight: bold;display: inline-block;line-height: 1.2em;}#sk-container-id-3 div.sk-label-container {text-align: center;}#sk-container-id-3 div.sk-container {/* jupyter's `normalize.less` sets `[hidden] { display: none; }` but bootstrap.min.css set `[hidden] { display: none !important; }` so we also need the `!important` here to be able to override the default hidden behavior on the sphinx rendered scikit-learn.org. See: https://github.com/scikit-learn/scikit-learn/issues/21755 */display: inline-block !important;position: relative;}#sk-container-id-3 div.sk-text-repr-fallback {display: none;}</style><div id=\"sk-container-id-3\" class=\"sk-top-container\"><div class=\"sk-text-repr-fallback\"><pre>LinearRegression()</pre><b>In a Jupyter environment, please rerun this cell to show the HTML representation or trust the notebook. <br />On GitHub, the HTML representation is unable to render, please try loading this page with nbviewer.org.</b></div><div class=\"sk-container\" hidden><div class=\"sk-item\"><div class=\"sk-estimator sk-toggleable\"><input class=\"sk-toggleable__control sk-hidden--visually\" id=\"sk-estimator-id-3\" type=\"checkbox\" checked><label for=\"sk-estimator-id-3\" class=\"sk-toggleable__label sk-toggleable__label-arrow\">LinearRegression</label><div class=\"sk-toggleable__content\"><pre>LinearRegression()</pre></div></div></div></div></div>"
     },
     "execution_count": 47,
     "metadata": {},
     "output_type": "execute_result"
    }
   ],
   "source": [
    "# now train linear regression model\n",
    "from sklearn.linear_model import LinearRegression\n",
    "lr = LinearRegression()\n",
    "lr.fit(train_data_ensemble[features[:5]], train_data_ensemble['rating'])"
   ],
   "metadata": {
    "collapsed": false,
    "ExecuteTime": {
     "start_time": "2023-07-16T14:43:39.634618Z",
     "end_time": "2023-07-16T14:43:39.661684Z"
    }
   }
  },
  {
   "cell_type": "code",
   "execution_count": 49,
   "outputs": [
    {
     "name": "stdout",
     "output_type": "stream",
     "text": [
      "RMSE: 0.9718315692455485\n"
     ]
    }
   ],
   "source": [
    "preds = lr.predict(val_data_ensemble[features[:5]])\n",
    "preds = np.clip(preds, 1, 5)\n",
    "print(\"RMSE: {}\".format(mean_squared_error(val_data_ensemble['rating'], preds, squared=False)))"
   ],
   "metadata": {
    "collapsed": false,
    "ExecuteTime": {
     "start_time": "2023-07-16T14:43:53.789335Z",
     "end_time": "2023-07-16T14:43:53.795019Z"
    }
   }
  },
  {
   "cell_type": "code",
   "execution_count": 51,
   "outputs": [
    {
     "data": {
      "text/plain": "<Figure size 640x480 with 1 Axes>",
      "image/png": "[encoded data removed]"
     },
     "metadata": {},
     "output_type": "display_data"
    }
   ],
   "source": [
    "# print feature importance\n",
    "feature_importance = pd.DataFrame({'feature': features[:5], 'weight': lr.coef_})\n",
    "feature_importance = feature_importance.sort_values(by='weight', ascending=False)\n",
    "sns.barplot(x='weight', y='feature', data=feature_importance)\n",
    "plt.show()"
   ],
   "metadata": {
    "collapsed": false,
    "ExecuteTime": {
     "start_time": "2023-07-16T14:44:13.097376Z",
     "end_time": "2023-07-16T14:44:13.151976Z"
    }
   }
  },
  {
   "cell_type": "code",
   "execution_count": 52,
   "outputs": [
    {
     "name": "stdout",
     "output_type": "stream",
     "text": [
      "RMSE of KNN: 0.9920871743261326\n",
      "RMSE of MLP: 0.98850980465946\n",
      "RMSE of NCF: 0.9876908165859187\n",
      "RMSE of BFM: 0.9795274627045788\n",
      "RMSE of BFM PPF: 0.9731937332002116\n",
      "-------\n",
      "RMSE of ENSEMBLE: 0.9718315692455485\n"
     ]
    }
   ],
   "source": [
    "# rmse of individual model\n",
    "rmse_mlp = mean_squared_error(val_data_ensemble['rating'], val_data_ensemble['predictions_mlp'], squared=False)\n",
    "rmse_ncf = mean_squared_error(val_data_ensemble['rating'], val_data_ensemble['predictions_ncf'], squared=False)\n",
    "rmse_bfm = mean_squared_error(val_data_ensemble['rating'], val_data_ensemble['predictions_bfm'], squared=False)\n",
    "rmse_bfm_ppf = mean_squared_error(val_data_ensemble['rating'], val_data_ensemble['predictions_bfm_ppf'], squared=False)\n",
    "rmse_knn = mean_squared_error(val_data_ensemble['rating'], val_data_ensemble['predictions_knn'], squared=False)\n",
    "\n",
    "# print in ascending order\n",
    "print(\"RMSE of KNN: {}\".format(rmse_knn))\n",
    "print(\"RMSE of MLP: {}\".format(rmse_mlp))\n",
    "print(\"RMSE of NCF: {}\".format(rmse_ncf))\n",
    "print(\"RMSE of BFM: {}\".format(rmse_bfm))\n",
    "print(\"RMSE of BFM PPF: {}\".format(rmse_bfm_ppf))\n",
    "print(\"-------\")\n",
    "print(\"RMSE of ENSEMBLE: {}\".format(mean_squared_error(val_data_ensemble['rating'], preds, squared=False)))"
   ],
   "metadata": {
    "collapsed": false,
    "ExecuteTime": {
     "start_time": "2023-07-16T14:44:32.942385Z",
     "end_time": "2023-07-16T14:44:32.947998Z"
    }
   }
  },
  {
   "cell_type": "code",
   "execution_count": 53,
   "outputs": [
    {
     "name": "stdout",
     "output_type": "stream",
     "text": [
      "User num: 10000, Movie num: 1000\n"
     ]
    }
   ],
   "source": [
    "# Load test data\n",
    "_, test_data, user_num, movie_num = load_cil(\"test\")"
   ],
   "metadata": {
    "collapsed": false,
    "ExecuteTime": {
     "start_time": "2023-07-16T14:47:38.063041Z",
     "end_time": "2023-07-16T14:47:40.794603Z"
    }
   }
  },
  {
   "cell_type": "code",
   "execution_count": 55,
   "outputs": [],
   "source": [
    "dataset = \"test\"\n",
    "features = [\"predictions_bfm_ppf\", \"predictions_bfm\", \"predictions_knn\", \"predictions_mlp\", \"predictions_ncf\"]\n",
    "\n",
    "for feature in features:\n",
    "    feature_df = pd.read_csv(f\"../lightning_logs/ensemble/{feature}_{dataset}.csv\", index_col=0)\n",
    "    test_data[feature] = np.clip(feature_df.iloc[:, 0], 1, 5)"
   ],
   "metadata": {
    "collapsed": false,
    "ExecuteTime": {
     "start_time": "2023-07-16T15:11:30.338553Z",
     "end_time": "2023-07-16T15:11:32.896536Z"
    }
   }
  },
  {
   "cell_type": "code",
   "execution_count": 57,
   "outputs": [
    {
     "data": {
      "text/plain": "         user  movie  rating  predictions_bfm_ppf  predictions_bfm  \\\nId                                                                   \nr37_c1     37      1       3             3.279221         3.271470   \nr73_c1     73      1       3             3.332236         3.115413   \nr156_c1   156      1       3             3.826852         3.740160   \nr160_c1   160      1       3             3.496139         3.313910   \nr248_c1   248      1       3             3.520885         3.537277   \n\n         predictions_knn  predictions_mlp  predictions_ncf  \nId                                                          \nr37_c1          3.187437         3.438433         3.255605  \nr73_c1          3.071045         3.047700         2.917824  \nr156_c1         3.817712         3.749494         3.844527  \nr160_c1         3.059693         3.210039         3.173617  \nr248_c1         3.370848         3.535636         3.615509  ",
      "text/html": "<div>\n<style scoped>\n    .dataframe tbody tr th:only-of-type {\n        vertical-align: middle;\n    }\n\n    .dataframe tbody tr th {\n        vertical-align: top;\n    }\n\n    .dataframe thead th {\n        text-align: right;\n    }\n</style>\n<table border=\"1\" class=\"dataframe\">\n  <thead>\n    <tr style=\"text-align: right;\">\n      <th></th>\n      <th>user</th>\n      <th>movie</th>\n      <th>rating</th>\n      <th>predictions_bfm_ppf</th>\n      <th>predictions_bfm</th>\n      <th>predictions_knn</th>\n      <th>predictions_mlp</th>\n      <th>predictions_ncf</th>\n    </tr>\n    <tr>\n      <th>Id</th>\n      <th></th>\n      <th></th>\n      <th></th>\n      <th></th>\n      <th></th>\n      <th></th>\n      <th></th>\n      <th></th>\n    </tr>\n  </thead>\n  <tbody>\n    <tr>\n      <th>r37_c1</th>\n      <td>37</td>\n      <td>1</td>\n      <td>3</td>\n      <td>3.279221</td>\n      <td>3.271470</td>\n      <td>3.187437</td>\n      <td>3.438433</td>\n      <td>3.255605</td>\n    </tr>\n    <tr>\n      <th>r73_c1</th>\n      <td>73</td>\n      <td>1</td>\n      <td>3</td>\n      <td>3.332236</td>\n      <td>3.115413</td>\n      <td>3.071045</td>\n      <td>3.047700</td>\n      <td>2.917824</td>\n    </tr>\n    <tr>\n      <th>r156_c1</th>\n      <td>156</td>\n      <td>1</td>\n      <td>3</td>\n      <td>3.826852</td>\n      <td>3.740160</td>\n      <td>3.817712</td>\n      <td>3.749494</td>\n      <td>3.844527</td>\n    </tr>\n    <tr>\n      <th>r160_c1</th>\n      <td>160</td>\n      <td>1</td>\n      <td>3</td>\n      <td>3.496139</td>\n      <td>3.313910</td>\n      <td>3.059693</td>\n      <td>3.210039</td>\n      <td>3.173617</td>\n    </tr>\n    <tr>\n      <th>r248_c1</th>\n      <td>248</td>\n      <td>1</td>\n      <td>3</td>\n      <td>3.520885</td>\n      <td>3.537277</td>\n      <td>3.370848</td>\n      <td>3.535636</td>\n      <td>3.615509</td>\n    </tr>\n  </tbody>\n</table>\n</div>"
     },
     "metadata": {},
     "output_type": "display_data"
    }
   ],
   "source": [
    "display(test_data.head())"
   ],
   "metadata": {
    "collapsed": false,
    "ExecuteTime": {
     "start_time": "2023-07-16T15:11:54.050621Z",
     "end_time": "2023-07-16T15:11:54.052948Z"
    }
   }
  },
  {
   "cell_type": "code",
   "execution_count": 59,
   "outputs": [],
   "source": [
    "preds = lr.predict(test_data[features[:5]])\n",
    "preds = np.clip(preds, 1, 5)\n",
    "test_data['Prediction'] = preds"
   ],
   "metadata": {
    "collapsed": false,
    "ExecuteTime": {
     "start_time": "2023-07-16T15:13:39.843339Z",
     "end_time": "2023-07-16T15:13:39.865319Z"
    }
   }
  },
  {
   "cell_type": "code",
   "execution_count": 61,
   "outputs": [],
   "source": [
    "test_data['Prediction'].to_csv(f\"../lightning_logs/ensemble/predictions_ensemble_test.csv\")"
   ],
   "metadata": {
    "collapsed": false,
    "ExecuteTime": {
     "start_time": "2023-07-16T15:14:31.833876Z",
     "end_time": "2023-07-16T15:14:32.849948Z"
    }
   }
  }
 ],
 "metadata": {
  "kernelspec": {
   "display_name": "Python 3",
   "language": "python",
   "name": "python3"
  },
  "language_info": {
   "codemirror_mode": {
    "name": "ipython",
    "version": 2
   },
   "file_extension": ".py",
   "mimetype": "text/x-python",
   "name": "python",
   "nbconvert_exporter": "python",
   "pygments_lexer": "ipython2",
   "version": "2.7.6"
  }
 },
 "nbformat": 4,
 "nbformat_minor": 0
}
